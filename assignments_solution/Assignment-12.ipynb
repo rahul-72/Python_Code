{
 "cells": [
  {
   "cell_type": "code",
   "execution_count": 5,
   "metadata": {},
   "outputs": [
    {
     "data": {
      "text/plain": [
       "3.14"
      ]
     },
     "execution_count": 5,
     "metadata": {},
     "output_type": "execute_result"
    }
   ],
   "source": [
    "# Q1) .Create a Cricle class and intialize it with radius. Make two methods getArea and getCircumference inside this class.\n",
    "\n",
    "class circle:\n",
    "    def __init__(self,radius):\n",
    "        self.radius=radius\n",
    "    def getarea(self):\n",
    "        return 3.14*(self.radius**2)\n",
    "    def getcircumference(self):\n",
    "        return 2*3.14*self.radius\n",
    "c=circle(1)\n",
    "c.getarea()"
   ]
  },
  {
   "cell_type": "code",
   "execution_count": 7,
   "metadata": {},
   "outputs": [
    {
     "data": {
      "text/plain": [
       "0.0"
      ]
     },
     "execution_count": 7,
     "metadata": {},
     "output_type": "execute_result"
    }
   ],
   "source": [
    "# Q2) 2.\tCreate a Temperature class. Make two methods :\n",
    "#1. convertFahrenheit - It will take celsius and will print it into Fahrenheit.\n",
    "#2. convertCelsius - It will take Fahrenheit and will convert it into Celsius.\n",
    "\n",
    "class temp:\n",
    "    def convertfah(self,celsius):\n",
    "        return celsius*(9/5)+32\n",
    "    def convertcel(self,feh):\n",
    "        return (feh-32)*(5/9)\n",
    "a=temp()\n",
    "a.convertcel(32)"
   ]
  },
  {
   "cell_type": "code",
   "execution_count": 17,
   "metadata": {},
   "outputs": [
    {
     "name": "stdout",
     "output_type": "stream",
     "text": [
      "name = rahul\n",
      "roll = 123\n"
     ]
    }
   ],
   "source": [
    "# Q3) 3.\tCreate a Student class and initialize it with name and roll number. Make methods to :\n",
    "#1. Display - It should display all informations of the student.\n",
    "#2. setAge - It should assign age to student\n",
    "#3. setMarks - It should assign marks to the student\n",
    "\n",
    "class student:\n",
    "    l,ln=[],[]\n",
    "    def __init__(self,name,roll):\n",
    "        self.name=name\n",
    "        self.roll=roll\n",
    "        student.l.append(self)\n",
    "        student.ln.append(name)\n",
    "    def setage(self,age):\n",
    "        self.age=age\n",
    "    def setmarks(self,marks):\n",
    "        self.marks=marks\n",
    "    def display(self):\n",
    "        for keys,values in self.__dict__.items():\n",
    "            print(f\"{keys} = {values}\")\n",
    "a=student(\"rahul\",123)\n",
    "a.display()            "
   ]
  },
  {
   "cell_type": "code",
   "execution_count": 40,
   "metadata": {},
   "outputs": [
    {
     "name": "stdout",
     "output_type": "stream",
     "text": [
      "Summation of two times are:\t 4 hours and 10 minutes.\n",
      "Time is:  \t2 hours and 50 minutes.\n",
      "170 minutes.\n"
     ]
    }
   ],
   "source": [
    "# Q4) 4.\tCreate a Time class and initialize it with hours and minutes.\n",
    "#1. Make a method addTime which should take two time object and add them. \n",
    "#E.g.- (2 hour and 50 min)+(1 hr and 20 min) is (4 hr and 10 min)\n",
    "#2. Make a method displayTime which should print the time.\n",
    "#3. Make a method DisplayMinute which should display the total minutes in the Time.\n",
    "#E.g.- (1 hr 2 min) should display 62 minute.\n",
    "\n",
    "class Time:\n",
    "    l=[]\n",
    "    def __init__(self,hours,minutes):\n",
    "        self.hours=hours\n",
    "        self.minutes=minutes\n",
    "        Time.l.append(self)\n",
    "    def addtime(t1,t2):\n",
    "        return f\"Summation of two times are:\\t {t1+t2}\"\n",
    "    def __add__(self1,self2):\n",
    "        hours=self1.hours+self2.hours\n",
    "        minutes=self1.minutes+self2.minutes\n",
    "        if minutes>=60:\n",
    "            minutes-=60\n",
    "            hours+=1\n",
    "        return f\"{hours} hours and {minutes} minutes.\"\n",
    "    def display(self):\n",
    "        return f\"Time is:  \\t{self.hours} hours and {self.minutes} minutes.\"\n",
    "    def displayminutes(self):\n",
    "        return f\"{(self.hours*60)+(self.minutes)} minutes.\"\n",
    "a=Time(2,50)\n",
    "b=Time(1,20)\n",
    "print(Time.addtime(a,b))\n",
    "print(a.display())\n",
    "print(a.displayminutes())"
   ]
  },
  {
   "cell_type": "code",
   "execution_count": 26,
   "metadata": {},
   "outputs": [],
   "source": []
  }
 ],
 "metadata": {
  "kernelspec": {
   "display_name": "Python 3",
   "language": "python",
   "name": "python3"
  },
  "language_info": {
   "codemirror_mode": {
    "name": "ipython",
    "version": 3
   },
   "file_extension": ".py",
   "mimetype": "text/x-python",
   "name": "python",
   "nbconvert_exporter": "python",
   "pygments_lexer": "ipython3",
   "version": "3.7.0"
  }
 },
 "nbformat": 4,
 "nbformat_minor": 2
}
