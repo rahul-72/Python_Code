{
 "cells": [
  {
   "cell_type": "code",
   "execution_count": 1,
   "metadata": {},
   "outputs": [
    {
     "name": "stdout",
     "output_type": "stream",
     "text": [
      "Hello world\n"
     ]
    }
   ],
   "source": [
    "#  Q1.  python program to print hello world.\n",
    "\n",
    "print(\"Hello world\")"
   ]
  },
  {
   "cell_type": "code",
   "execution_count": 2,
   "metadata": {},
   "outputs": [
    {
     "name": "stdout",
     "output_type": "stream",
     "text": [
      "Enter 1st number: 6\n",
      "Enter 2nd number: 5\n",
      "The sum of two number is 11\n"
     ]
    }
   ],
   "source": [
    "#  Q2.  python program to add two number.\n",
    "\n",
    "\n",
    "num1=int(input(\"Enter 1st number: \"))\n",
    "num2=int(input(\"Enter 2nd number: \"))\n",
    "print(f\"The sum of two number is {num1+num2}\")"
   ]
  },
  {
   "cell_type": "code",
   "execution_count": 7,
   "metadata": {},
   "outputs": [
    {
     "name": "stdout",
     "output_type": "stream",
     "text": [
      "Enter the number: 8\n",
      " The square root of 8.0 is 2.83.\n"
     ]
    }
   ],
   "source": [
    "#  Q3.  Python Program to Find the Square Root.\n",
    "\n",
    "\n",
    "num=float(input(\"Enter the number: \"))\n",
    "square_root=num**0.5\n",
    "print(f\" The square root of {num} is {square_root:.2f}.\")  "
   ]
  },
  {
   "cell_type": "code",
   "execution_count": 5,
   "metadata": {},
   "outputs": [
    {
     "name": "stdout",
     "output_type": "stream",
     "text": [
      "Enter number: 5\n",
      "The square root of 5.0 is 2.24\n"
     ]
    }
   ],
   "source": [
    "# alternative of question 3\n",
    "\n",
    "from math import sqrt\n",
    "num=float(input(\"Enter number: \"))\n",
    "print(f\"The square root of {num} is {round(sqrt(num),2)}\")"
   ]
  },
  {
   "cell_type": "code",
   "execution_count": 13,
   "metadata": {},
   "outputs": [
    {
     "name": "stdout",
     "output_type": "stream",
     "text": [
      "Enter 1st side: 5\n",
      "Enter 2nd side: 3\n",
      "Enter 3rd side: 4\n",
      "The area of the triangle is 6.0.\n"
     ]
    }
   ],
   "source": [
    "#  Q4.  python program to calculate area of triangle is all three sides are given.\n",
    "\n",
    "\n",
    "a=int(input(\"Enter 1st side: \"))\n",
    "b=int(input(\"Enter 2nd side: \"))\n",
    "c=int(input(\"Enter 3rd side: \"))\n",
    "s=(a+b+c)/2\n",
    "area=(s*(s-a)*(s-b)*(s-c))**0.5          # This is heron's formula.\n",
    "print(f\"The area of the triangle is {area}.\")"
   ]
  },
  {
   "cell_type": "code",
   "execution_count": 14,
   "metadata": {},
   "outputs": [],
   "source": [
    "#  Q5.  python program to solve quadratic equation.\n",
    "#completed in assignment 7."
   ]
  },
  {
   "cell_type": "code",
   "execution_count": 15,
   "metadata": {},
   "outputs": [
    {
     "name": "stdout",
     "output_type": "stream",
     "text": [
      "Enter 1st variable: 56\n",
      "Enter 2nd variable: 23\n",
      "The variables before swap are 1st variable=56 and 2nd variable=23.\n",
      "The variables after swap are 1st variable=23 and 2nd variable=56.\n"
     ]
    }
   ],
   "source": [
    "#  Q6.  python program to swap two variable.\n",
    "\n",
    "\n",
    "var1=input(\"Enter 1st variable: \")\n",
    "var2=input(\"Enter 2nd variable: \")\n",
    "print(f\"The variables before swap are 1st variable={var1} and 2nd variable={var2}.\")\n",
    "var3=var1\n",
    "var1=var2\n",
    "var2=var3\n",
    "print(f\"The variables after swap are 1st variable={var1} and 2nd variable={var2}.\")"
   ]
  },
  {
   "cell_type": "code",
   "execution_count": 19,
   "metadata": {},
   "outputs": [
    {
     "name": "stdout",
     "output_type": "stream",
     "text": [
      "The random integer is 15\n"
     ]
    }
   ],
   "source": [
    "#  Q7.  python program to generate a random variable.\n",
    "\n",
    "\n",
    "from random import randint\n",
    "print(f\"The random integer is {randint(1,50)}\")\n"
   ]
  },
  {
   "cell_type": "code",
   "execution_count": 1,
   "metadata": {},
   "outputs": [
    {
     "name": "stdout",
     "output_type": "stream",
     "text": [
      "Enter distance in kilometer: 25\n",
      "The 25km is equal to 15.534275000000001 miles.\n"
     ]
    }
   ],
   "source": [
    "#  Q8.  python program to convert kilometers into miles.\n",
    "\n",
    "\n",
    "kilometer=int(input(\"Enter distance in kilometer: \"))\n",
    "mile=kilometer*0.621371\n",
    "print(f\"The {kilometer}km is equal to {mile} miles.\")"
   ]
  },
  {
   "cell_type": "code",
   "execution_count": 27,
   "metadata": {},
   "outputs": [
    {
     "name": "stdout",
     "output_type": "stream",
     "text": [
      "Enter temperature in celsius: 5\n",
      "The temperature of 5 celsius in fahrenheit is 41.0.\n"
     ]
    }
   ],
   "source": [
    "#  Q9.  python program to convert celsius into fahrenheit.\n",
    "\n",
    "\n",
    "celsius=int(input(\"Enter temperature in celsius: \"))\n",
    "fahrenheit=(celsius*9/5)+32\n",
    "print(f\"The temperature of {celsius} celsius in fahrenheit is {fahrenheit}.\")"
   ]
  },
  {
   "cell_type": "code",
   "execution_count": 45,
   "metadata": {},
   "outputs": [],
   "source": [
    "# Q10,Q11,Q12,Q13 all question are completed in assignment 7. \n",
    "\n"
   ]
  },
  {
   "cell_type": "code",
   "execution_count": 52,
   "metadata": {},
   "outputs": [
    {
     "name": "stdout",
     "output_type": "stream",
     "text": [
      "Enter a number: 11\n",
      "Number is  a prime number.\n"
     ]
    }
   ],
   "source": [
    "#  Q14.  python program to check for prime number.\n",
    "\n",
    "\n",
    "num=int(input(\"Enter a number: \"))\n",
    "if num>1:          # all prime numbers are greater than 1\n",
    "    for i in range(2,num):\n",
    "        if num%i==0:\n",
    "            print(\"Number is not a prime number.\")\n",
    "            break\n",
    "    else:\n",
    "        print(\"Number is  a prime number.\")\n",
    "            \n",
    "else:\n",
    "    print(\"Number is not a prime number.\")"
   ]
  },
  {
   "cell_type": "code",
   "execution_count": 35,
   "metadata": {},
   "outputs": [
    {
     "name": "stdout",
     "output_type": "stream",
     "text": [
      "Enter lower range: 1\n",
      "Enter upper range: 20\n",
      "The prime numbers in range 1 to 20 are: \n",
      "2\n",
      "3\n",
      "5\n",
      "7\n",
      "11\n",
      "13\n",
      "17\n",
      "19\n"
     ]
    }
   ],
   "source": [
    "#  Q15.  python program to check prime number in an interval.\n",
    "\n",
    "\n",
    "lower=int(input(\"Enter lower range: \"))\n",
    "upper=int(input(\"Enter upper range: \"))\n",
    "print(f\"The prime numbers in range {lower} to {upper} are: \")\n",
    "for num in range(lower,upper+1):\n",
    "    if num>1:\n",
    "        for i in range(2,num):\n",
    "            if num%i==0:\n",
    "                break\n",
    "        else:\n",
    "            print(num)"
   ]
  },
  {
   "cell_type": "code",
   "execution_count": 39,
   "metadata": {},
   "outputs": [
    {
     "name": "stdout",
     "output_type": "stream",
     "text": [
      "Enter a number: 6\n",
      "The factorial of a number 6 is 720.\n"
     ]
    }
   ],
   "source": [
    "#  Q16.  python program to find out factorial of a number.\n",
    "\n",
    "\n",
    "num=int(input(\"Enter a number: \"))\n",
    "a=1                       #For sum we use s=0,, and for multiply we use a=1..\n",
    "for i in range(1,num+1):\n",
    "    a=a*i\n",
    "print(f\"The factorial of a number {num} is {a}.\")    "
   ]
  },
  {
   "cell_type": "code",
   "execution_count": 4,
   "metadata": {},
   "outputs": [
    {
     "name": "stdout",
     "output_type": "stream",
     "text": [
      "Enter a number: 23\n",
      "The table for number 23 is \n",
      "23*1=23\n",
      "23*2=46\n",
      "23*3=69\n",
      "23*4=92\n",
      "23*5=115\n",
      "23*6=138\n",
      "23*7=161\n",
      "23*8=184\n",
      "23*9=207\n"
     ]
    }
   ],
   "source": [
    "#  Q17.  python program to display the multiplication table.\n",
    "\n",
    "\n",
    "num=int(input(\"Enter a number: \"))\n",
    "print(f\"The table for number {num} is \")\n",
    "for i in range(1,10):\n",
    "    print(f\"{num}*{i}={num*i}\")"
   ]
  },
  {
   "cell_type": "code",
   "execution_count": 3,
   "metadata": {},
   "outputs": [
    {
     "name": "stdout",
     "output_type": "stream",
     "text": [
      "Enter the number of digits you want in a fibbonaci series(minimum 2): 6\n",
      "0,1,1,2,3,5,"
     ]
    }
   ],
   "source": [
    "#  Q18.  python program to print fibbonaci series.\n",
    "\n",
    "\n",
    "num=int(input(\"Enter the number of digits you want in a fibbonaci series(minimum 2): \"))\n",
    "first=0\n",
    "second=1\n",
    "print(first,end=',')\n",
    "print(second,end=',')\n",
    "for i in range(num-2):              # here range is {0-(num-2)}\n",
    "    add=first+second\n",
    "    print(add,end=',')\n",
    "    first,second=second,add"
   ]
  },
  {
   "cell_type": "code",
   "execution_count": 10,
   "metadata": {},
   "outputs": [
    {
     "name": "stdout",
     "output_type": "stream",
     "text": [
      "Enter a number: 370\n",
      "armstrong number\n"
     ]
    }
   ],
   "source": [
    "#  Q19.  python program to check armstrong number.\n",
    "#Start with the procedure for testing to see if a number is an Armstrong number.\n",
    "# Determine how many digits are in the number. Call that n.\n",
    "#. Then take every digit in the number and raise it to the n power.\n",
    "# Add all those together, and if your answer is the original number then it is an Armstrong number.\n",
    "\n",
    "\n",
    "num=input(\"Enter a number: \")\n",
    "no_digits=len(num)\n",
    "result=0\n",
    "for char in num:\n",
    "    int_char=int(char)\n",
    "    result+=int_char**no_digits\n",
    "result=str(result)\n",
    "if result==num:\n",
    "    print(\"armstrong number\")\n",
    "else:\n",
    "    print(\"not armstrong number\")\n",
    "\n"
   ]
  },
  {
   "cell_type": "code",
   "execution_count": 15,
   "metadata": {},
   "outputs": [
    {
     "name": "stdout",
     "output_type": "stream",
     "text": [
      "Enter a number: 1634\n",
      "armstrong number.\n"
     ]
    }
   ],
   "source": [
    "# Alternative of Q19. which is the real solution.\n",
    "\n",
    "\n",
    "num=int(input(\"Enter a number: \"))                 #1634//10=163\n",
    "no_of_digits=0                                     #163//10=16.....\n",
    "temp_num=num                                       #1634 % 10 = 4\n",
    "while temp_num:\n",
    "    no_of_digits+=1\n",
    "    temp_num=temp_num//10\n",
    "temp_num=num    \n",
    "total=0\n",
    "while temp_num:\n",
    "    total+=(temp_num%10)**no_of_digits\n",
    "    temp_num=temp_num//10\n",
    "if total==num:\n",
    "    print(\"armstrong number.\")\n",
    "else:\n",
    "    print(\"not a armstrong number.\")\n",
    "    "
   ]
  },
  {
   "cell_type": "code",
   "execution_count": 2,
   "metadata": {},
   "outputs": [
    {
     "name": "stdout",
     "output_type": "stream",
     "text": [
      "Enter your lower range: 1\n",
      "Enter your upper range: 9999\n",
      "1\n",
      "2\n",
      "3\n",
      "4\n",
      "5\n",
      "6\n",
      "7\n",
      "8\n",
      "9\n",
      "153\n",
      "370\n",
      "371\n",
      "407\n",
      "1634\n",
      "8208\n",
      "9474\n"
     ]
    }
   ],
   "source": [
    "#  Q20.  python program to check armstrong number in an interval.\n",
    "\n",
    "\n",
    "\n",
    "lower=int(input(\"Enter your lower range: \"))                        #for interval we use \"for loop\".\n",
    "upper=int(input(\"Enter your upper range: \"))\n",
    "for num in range(lower,upper+1):\n",
    "    no_of_digits=0\n",
    "    temp_num=num\n",
    "    while temp_num:\n",
    "        no_of_digits+=1\n",
    "        temp_num=temp_num//10\n",
    "    total=0\n",
    "    temp_num=num\n",
    "    while temp_num:\n",
    "        total+=(temp_num%10)**no_of_digits\n",
    "        temp_num=temp_num//10\n",
    "    if total==num:\n",
    "        print(num)\n",
    "     \n",
    "    \n",
    "\n"
   ]
  },
  {
   "cell_type": "code",
   "execution_count": 25,
   "metadata": {},
   "outputs": [
    {
     "name": "stdout",
     "output_type": "stream",
     "text": [
      "Upto which number you want to find the sum of natural number.4\n",
      "The sum of natural number upto 4 is 10.0\n"
     ]
    }
   ],
   "source": [
    "#  Q21.  python program to find the sum of natural number.\n",
    "\n",
    "\n",
    "num=int(input(\"Upto which number you want to find the sum of natural number.\"))\n",
    "add=(num*(num+1))/2\n",
    "print(f\"The sum of natural number upto {num} is {add}\")\n",
    "\n"
   ]
  },
  {
   "cell_type": "code",
   "execution_count": 43,
   "metadata": {},
   "outputs": [],
   "source": [
    "#  Q22.   Python Program To Display Powers of 2 Using Anonymous Function\n",
    "\n"
   ]
  },
  {
   "cell_type": "code",
   "execution_count": 28,
   "metadata": {},
   "outputs": [
    {
     "name": "stdout",
     "output_type": "stream",
     "text": [
      "Enter a number : 54\n",
      "Enter a number you want to divide by 54.6\n",
      "The number 54 is  divisible by 6.\n"
     ]
    }
   ],
   "source": [
    "#  Q23.  python program to find number is divisible by another number.\n",
    "\n",
    "\n",
    "a=int(input(\"Enter a number : \"))\n",
    "b=int(input(f\"Enter a number you want to divide by {a}.\"))\n",
    "if a%b==0:\n",
    "    flag=''\n",
    "else:\n",
    "    flag='not'\n",
    "print(f\"The number {a} is {flag} divisible by {b}.\")    "
   ]
  },
  {
   "cell_type": "code",
   "execution_count": 31,
   "metadata": {},
   "outputs": [
    {
     "name": "stdout",
     "output_type": "stream",
     "text": [
      "Enter a dicimal number: 25\n",
      "The binary number is 0b11001,\n",
      "the octal number is 0o31,\n",
      "the hexadecimal number is 0x19.\n"
     ]
    }
   ],
   "source": [
    "#  Q24.  Python Program to Convert Decimal to Binary, Octal and Hexadecimal\n",
    "\n",
    "\n",
    "num=int(input(\"Enter a dicimal number: \"))\n",
    "binary=bin(num)\n",
    "octal=oct(num)\n",
    "hexadecimal=hex(num)\n",
    "print(f\"\"\"The binary number is {binary},\n",
    "the octal number is {octal},\n",
    "the hexadecimal number is {hexadecimal}.\"\"\")"
   ]
  },
  {
   "cell_type": "code",
   "execution_count": 35,
   "metadata": {},
   "outputs": [
    {
     "name": "stdout",
     "output_type": "stream",
     "text": [
      "Enter character: A\n",
      "The ascii code of A is 65.\n"
     ]
    }
   ],
   "source": [
    "# Q25.  python program to find ascii value of character.\n",
    "character=input(\"Enter character: \")\n",
    "qwerty=ord(character)\n",
    "print(f\"The ascii code of {character} is {qwerty}.\")"
   ]
  },
  {
   "cell_type": "code",
   "execution_count": 14,
   "metadata": {},
   "outputs": [
    {
     "name": "stdout",
     "output_type": "stream",
     "text": [
      "Enter 1st number: 12\n",
      "Enter 2nd number: 25\n",
      "The HCF of two number 12 and 25 is 1.\n"
     ]
    }
   ],
   "source": [
    "#  Q26.  python program to find HCF of two number \n",
    "\n",
    "\n",
    "num1=int(input(\"Enter 1st number: \"))                       # suppose number are 54, 24\n",
    "num2=int(input(\"Enter 2nd number: \"))\n",
    "if num1<num2:\n",
    "    smaller=num1\n",
    "else:\n",
    "    smaller=num2\n",
    "for i in range(1,smaller+1):\n",
    "    if num1%i==0 and num2%i==0:\n",
    "        qwerty=i\n",
    "print(f\"The HCF of two number {num1} and {num2} is {qwerty}.\")\n",
    "\n",
    "    \n"
   ]
  },
  {
   "cell_type": "code",
   "execution_count": 2,
   "metadata": {},
   "outputs": [
    {
     "name": "stdout",
     "output_type": "stream",
     "text": [
      "how many number do you want to enter: \n",
      "3\n",
      "enter 1 number: 24\n",
      "enter 2 number: 54\n",
      "enter 3 number: 12\n",
      "6\n"
     ]
    }
   ],
   "source": [
    "# Q26. If inputs are of any numbers.\n",
    "\n",
    "\n",
    "num=int(input(\"how many number do you want to enter: \\n\"))\n",
    "l=[]\n",
    "for i in range(1,num+1):\n",
    "    l.append(int(input(f\"enter {i} number: \")))\n",
    "l=sorted(l)\n",
    "smaller=l[0]\n",
    "for j in range(1,smaller+1):\n",
    "    for k in l:\n",
    "        if k%j==0:\n",
    "            hcf=j\n",
    "        else:\n",
    "            hcf=hcf1\n",
    "            break\n",
    "    hcf1=hcf        \n",
    "print(hcf1)            \n",
    "    "
   ]
  },
  {
   "cell_type": "code",
   "execution_count": 11,
   "metadata": {},
   "outputs": [
    {
     "name": "stdout",
     "output_type": "stream",
     "text": [
      "Enter 1st number: 54\n",
      "Enter 2nd number: 24\n",
      "The lcm of two number is 216.0\n"
     ]
    }
   ],
   "source": [
    "#  Q27.  python program to find LCM of two number.\n",
    "# LCM*HCF=a*b\n",
    "\n",
    "\n",
    "\n",
    "num1=int(input(\"Enter 1st number: \"))\n",
    "num2=int(input(\"Enter 2nd number: \"))\n",
    "if num1<num2:\n",
    "    smaller=num1\n",
    "else:\n",
    "    smaller=num2\n",
    "for i in range(1,smaller+1):\n",
    "    if num1%i==0 and num2%i==0:\n",
    "        hcf=i\n",
    "lcm=(num1*num2)/hcf\n",
    "print(f\"The lcm of two number is {lcm}\")                      #same code like in hcf if inputs are more than 2..\n",
    "        "
   ]
  },
  {
   "cell_type": "code",
   "execution_count": 5,
   "metadata": {},
   "outputs": [
    {
     "name": "stdout",
     "output_type": "stream",
     "text": [
      "Enter a number: 20\n",
      "The factors of number 20 are  ,1,2,4,5,10,20,"
     ]
    }
   ],
   "source": [
    "#  Q28.  python program to find factors of a number.\n",
    "\n",
    "num=int(input(\"Enter a number: \"))\n",
    "print(f\"The factors of number {num} are  \",end=',')\n",
    "for i in range(1,num+1):\n",
    "    if num%i==0:\n",
    "        print(i,end=',') \n",
    "        "
   ]
  },
  {
   "cell_type": "code",
   "execution_count": 1,
   "metadata": {},
   "outputs": [
    {
     "name": "stdout",
     "output_type": "stream",
     "text": [
      "This is your calculator.\n",
      "Select operation: \n",
      "1 for addition\n",
      "2 for substraction\n",
      "3 for multiplication\n",
      "4 for division\n",
      "Enter your choice from 1/2/3/43\n",
      "Enter 1st number: 10\n",
      "Enter 2nd number: 20\n",
      "The multiplication of two numbers is 200.\n"
     ]
    }
   ],
   "source": [
    "# Q29.  python program to make a simple calculator.\n",
    "\n",
    "\n",
    "print(\"This is your calculator.\")\n",
    "print(\"\"\"Select operation: \n",
    "1 for addition\n",
    "2 for substraction\n",
    "3 for multiplication\n",
    "4 for division\"\"\")\n",
    "choice=int(input(\"Enter your choice from 1/2/3/4\"))\n",
    "num1=int(input(\"Enter 1st number: \"))\n",
    "num2=int(input(\"Enter 2nd number: \"))\n",
    "if choice==1 or choice==2 or choice==3 or choice==4:\n",
    "    if choice==1:\n",
    "        qwerty=num1+num2\n",
    "        flag='addition'\n",
    "    elif choice==2:\n",
    "        qwerty=num1-num2\n",
    "        flag='substraction'\n",
    "    elif choice==3:\n",
    "        qwerty=num1*num2\n",
    "        flag='multiplication'\n",
    "    else:\n",
    "        qwerty=num1/num2\n",
    "        flag='division'\n",
    "    print(f\"The {flag} of two numbers is {qwerty}.\")    \n",
    "else:\n",
    "    print(\"Enter a choice from 1/2/3/4\")\n",
    "    \n",
    "    "
   ]
  },
  {
   "cell_type": "code",
   "execution_count": 14,
   "metadata": {},
   "outputs": [
    {
     "name": "stdout",
     "output_type": "stream",
     "text": [
      "You got: 12 of heart.\n"
     ]
    }
   ],
   "source": [
    "#  Q30.  python program to shuffle deck of card and choice one card.\n",
    "\n",
    "\n",
    "import random, itertools\n",
    "deck=list(itertools.product(range(1,14),['diamond','club','heart','spade']))        # after doing product we have to store \n",
    "random.shuffle(deck)                                                                # them in a list.\n",
    "print(f\"You got: {deck[0][0]} of {deck[0][1]}.\")"
   ]
  },
  {
   "cell_type": "code",
   "execution_count": 17,
   "metadata": {},
   "outputs": [
    {
     "name": "stdout",
     "output_type": "stream",
     "text": [
      "Enter year: 2019\n",
      "Enter month: 2\n",
      "   February 2019\n",
      "Mo Tu We Th Fr Sa Su\n",
      "             1  2  3\n",
      " 4  5  6  7  8  9 10\n",
      "11 12 13 14 15 16 17\n",
      "18 19 20 21 22 23 24\n",
      "25 26 27 28\n",
      "\n"
     ]
    }
   ],
   "source": [
    "#  Q31.  python program to display a calendar.\n",
    "\n",
    "\n",
    "import calendar\n",
    "yy=int(input(\"Enter year: \"))\n",
    "mm=int(input(\"Enter month: \"))\n",
    "print(calendar.month(yy,mm))"
   ]
  },
  {
   "cell_type": "markdown",
   "metadata": {},
   "source": []
  },
  {
   "cell_type": "code",
   "execution_count": 18,
   "metadata": {},
   "outputs": [],
   "source": [
    "#  Q32.,Q33.,Q34.,Q35,\n",
    "\n"
   ]
  },
  {
   "cell_type": "code",
   "execution_count": null,
   "metadata": {},
   "outputs": [],
   "source": [
    "# Q36 python program to add two matrix.\n",
    "# Two matrix can only be added if their rows and coloums are same.\n",
    "\n",
    "\n",
    "row=int(input(\"Enter number of rows:\\t\"))\n",
    "column=int(input(\"Enter numebr of coloum:\\t\"))\n",
    "matrix1=[[0 for j in range(column)] for i in range(row)]    # This is called list comprehension.\n",
    "matrix2=[[0 for j in range(column)] for i in range(row)]\n",
    "matrix3=[[0 for j in range(column)] for i in range(row)]\n",
    "print(\"\\n First you have to input for matrix1.\")\n",
    "for i in range(0,row):\n",
    "    for j in range(0,column):\n",
    "        matrix1[i][j]=int(input(f\"Enter value for row {i+1} and column {j+1}.\"))   # input for 1st matrix\n",
    "print(\"\\n Now you have to enter value for matrix2.\")\n",
    "for k in range(0,row):\n",
    "    for l in range(0,column):\n",
    "        matrix2[k][l]=int(input(f\"Enter value for row {k+1} and column {l+1}.\"))   # input for 2nd matrix\n",
    "print(f\"\\n The two matrixs are {matrix1} and {matrix2}\")        \n",
    "for m in range(0,row):\n",
    "    for n in range(0,column):\n",
    "        matrix3[m][n]=matrix1[m][n]+matrix2[m][n]      # Addition of two matrixs.\n",
    "print(f\"\\n {matrix1} + {matrix2} = {matrix3}\")        "
   ]
  },
  {
   "cell_type": "code",
   "execution_count": 10,
   "metadata": {},
   "outputs": [
    {
     "name": "stdout",
     "output_type": "stream",
     "text": [
      "Enter number of rows:\t2\n",
      "Enter number of column:\t2\n",
      "\n",
      "You have to enter value for matrix:\t\n",
      "Enter value for row 1 and column 1:\t1\n",
      "Enter value for row 1 and column 2:\t1\n",
      "Enter value for row 2 and column 1:\t2\n",
      "Enter value for row 2 and column 2:\t2\n",
      "[[1, 1], [2, 2]]\n",
      "The transpose of matrix [[1, 1], [2, 2]] is = [[1, 2], [1, 2]]\n"
     ]
    }
   ],
   "source": [
    "# Q37.  python program to transpose a matrix.\n",
    "\n",
    "\n",
    "row=int(input(\"Enter number of rows:\\t\"))\n",
    "column=int(input(\"Enter number of column:\\t\"))\n",
    "matrix1=[[0 for j in range(column)] for i in range(row)]\n",
    "matrix2=[[0 for j in range(column)] for i in range(row)]\n",
    "print(\"\\nYou have to enter value for matrix:\\t\")\n",
    "for i in range(row):\n",
    "    for j in range(column):\n",
    "        matrix1[i][j]=int(input(f\"Enter value for row {i+1} and column {j+1}:\\t\"))\n",
    "print(matrix1)        \n",
    "for k in range(row):\n",
    "    for l in range(column):\n",
    "        matrix2[l][k]=matrix1[k][l]\n",
    "print(f\"The transpose of matrix {matrix1} is = {matrix2}\")        "
   ]
  },
  {
   "cell_type": "code",
   "execution_count": 1,
   "metadata": {},
   "outputs": [
    {
     "name": "stdout",
     "output_type": "stream",
     "text": [
      "Enter number of row:\t2\n",
      "Enter number of column:\t2\n",
      "\n",
      " First you have to enter values of 1st matrix.\n",
      "Enter value for row 1 and column 1:\t1\n",
      "Enter value for row 1 and column 2:\t1\n",
      "Enter value for row 2 and column 1:\t2\n",
      "Enter value for row 2 and column 2:\t2\n",
      "\n",
      " Now you have to enter value for 2nd matrix.\n",
      "Enter value for row 1 and column 1:\t1\n",
      "Enter value for row 1 and column 2:\t1\n",
      "Enter value for row 2 and column 1:\t2\n",
      "Enter value for row 2 and column 2:\t2\n",
      "\n",
      " The two matrixs are  [[1, 1], [2, 2]] and [[1, 1], [2, 2]]\n",
      "[[1, 1], [2, 2]] * [[1, 1], [2, 2]] = [[3, 3], [6, 6]]\n"
     ]
    }
   ],
   "source": [
    "# Q38.  python program to product two matrix.\n",
    "# Two matrixs can only be multiply if their rows and columns are same.\n",
    "\n",
    "\n",
    "row=int(input(\"Enter number of row:\\t\"))\n",
    "column=int(input(\"Enter number of column:\\t\"))\n",
    "matrix1=[[0 for j in range(column)] for i in range(row)]\n",
    "matrix2=[[0 for j in range(column)] for i in range(row)]\n",
    "matrix3=[[0 for j in range(column)] for i in range(row)]\n",
    "print(\"\\n First you have to enter values of 1st matrix.\")\n",
    "for k in range(row):\n",
    "    for l in range(column):\n",
    "        matrix1[k][l]=int(input(f\"Enter value for row {k+1} and column {l+1}:\\t\"))\n",
    "print(\"\\n Now you have to enter value for 2nd matrix.\")\n",
    "for m in range(row):\n",
    "    for n in range(column):\n",
    "        matrix2[m][n]=int(input(f\"Enter value for row {m+1} and column {n+1}:\\t\"))\n",
    "print(f\"\\n The two matrixs are  {matrix1} and {matrix2}\")\n",
    "add=0\n",
    "for i in range(row):  \n",
    "    for p in range(column): # This loop is for adding value of 'add' to matrix3. And also to get value from matrix2.\n",
    "        for j in range(column):\n",
    "            add+=matrix1[i][j]*matrix2[j][p]\n",
    "        matrix3[i][p]=add\n",
    "        add=0\n",
    "print(f\"{matrix1} * {matrix2} = {matrix3}\")        "
   ]
  },
  {
   "cell_type": "code",
   "execution_count": 22,
   "metadata": {},
   "outputs": [
    {
     "name": "stdout",
     "output_type": "stream",
     "text": [
      "Enter a string:  dad\n",
      "The entered string is  palindrome.\n"
     ]
    }
   ],
   "source": [
    "#  Q39.  python program to check for palindrome.\n",
    "#Palindrome means a string which is same read from forward and backward.Eg=  dad\n",
    "\n",
    "\n",
    "my_str=input(\"Enter a string:  \")\n",
    "my_str.lower()\n",
    "rev_str=reversed(my_str)                # reversed function returns a object so we have to convert it into list or we can use \n",
    "if list(my_str)==list(rev_str):          # join function like ''.join(rev_str)\n",
    "    flag=''\n",
    "else:\n",
    "    flag='not'\n",
    "print(f\"The entered string is {flag} palindrome.\")    "
   ]
  },
  {
   "cell_type": "code",
   "execution_count": 28,
   "metadata": {},
   "outputs": [
    {
     "name": "stdout",
     "output_type": "stream",
     "text": [
      "<reversed object at 0x000000CBB4045AC8>\n",
      "olleh\n"
     ]
    }
   ],
   "source": [
    "s='hello'\n",
    "q=reversed(s)\n",
    "print(q)\n",
    "print(''.join(q))"
   ]
  },
  {
   "cell_type": "code",
   "execution_count": 36,
   "metadata": {},
   "outputs": [
    {
     "name": "stdout",
     "output_type": "stream",
     "text": [
      "Enter a string:  fjdhf   dfkj';'fdf  dfn\n",
      "The string after removing punctuations is fjdhf   dfkjfdf  dfn \n",
      "removed punctuations are ';'\n"
     ]
    }
   ],
   "source": [
    "#  Q40.  python program to remove punctuations from a string.\n",
    "\n",
    "punctuations=\"\"\"`~!@#$%^&*(){}[]-_;:'\"/?.,><\"\"\"\n",
    "my_str=input(\"Enter a string:  \")\n",
    "new_str=\"\"\n",
    "punc=\"\"\n",
    "for i in my_str:\n",
    "    if i in punctuations:\n",
    "        punc=punc+i\n",
    "    else:\n",
    "        new_str=new_str+i\n",
    "print(f\"\"\"The string after removing punctuations is {new_str} \n",
    "removed punctuations are {punc}\"\"\")        "
   ]
  },
  {
   "cell_type": "code",
   "execution_count": 42,
   "metadata": {},
   "outputs": [
    {
     "name": "stdout",
     "output_type": "stream",
     "text": [
      "Enter a string:  rahul\n",
      "The sorted string is ahlru\n"
     ]
    }
   ],
   "source": [
    "#  Q41.  python program to sort words in alphabetic order.\n",
    "\n",
    "\n",
    "my_str=input(\"Enter a string:  \")\n",
    "my_list=list(my_str)\n",
    "my_list.sort()\n",
    "new_str=''.join(my_list)\n",
    "print(f\"The sorted string is {new_str}\")"
   ]
  },
  {
   "cell_type": "code",
   "execution_count": 43,
   "metadata": {},
   "outputs": [],
   "source": [
    "#  Q42.  completed in set's class\n",
    "\n"
   ]
  },
  {
   "cell_type": "code",
   "execution_count": 45,
   "metadata": {},
   "outputs": [
    {
     "name": "stdout",
     "output_type": "stream",
     "text": [
      "Enter a string:  qwertyuiopqwertyuiop\n",
      "'a' is 0 times\n",
      "'e' is 2 times\n",
      "'i' is 2 times\n",
      "'o' is 2 times\n",
      "'u' is 2 times\n"
     ]
    }
   ],
   "source": [
    "#  Q43.  python program to count a number of each vowel.\n",
    "\n",
    "my_str=input(\"Enter a string:  \")\n",
    "my_str.lower()\n",
    "a,e,i,o,u=0,0,0,0,0\n",
    "for char in my_str:\n",
    "    if char=='a':\n",
    "        a=a+1\n",
    "    elif char=='e':\n",
    "        e=e+1\n",
    "    elif char=='i':\n",
    "        i=i+1\n",
    "    elif char=='o':\n",
    "        o+=1\n",
    "    elif char=='u':\n",
    "        u+=1\n",
    "print(f\"\"\"'a' is {a} times\n",
    "'e' is {e} times\n",
    "'i' is {i} times\n",
    "'o' is {o} times\n",
    "'u' is {u} times\"\"\")        "
   ]
  },
  {
   "cell_type": "code",
   "execution_count": 7,
   "metadata": {},
   "outputs": [
    {
     "name": "stdout",
     "output_type": "stream",
     "text": [
      "hello world\n",
      "hi world\n",
      "bye world\n"
     ]
    }
   ],
   "source": [
    "#  Q44.  python program to merge mails.\n",
    "\n",
    "\n",
    "\n",
    "mail1='hello world'\n",
    "mail2=\"hi world\"\n",
    "mail3=\"bye world\"\n",
    "mail=mail1+\"\\n\"+mail2+\"\\n\"+mail3\n",
    "print(mail)"
   ]
  },
  {
   "cell_type": "code",
   "execution_count": null,
   "metadata": {},
   "outputs": [],
   "source": [
    "#  Q45.  Python Program to Find the Size (Resolution) of a Image\n",
    "# with the help of panda i can form this program..\n",
    "\n"
   ]
  },
  {
   "cell_type": "code",
   "execution_count": 11,
   "metadata": {},
   "outputs": [
    {
     "data": {
      "text/plain": [
       "1337225868757117531"
      ]
     },
     "execution_count": 11,
     "metadata": {},
     "output_type": "execute_result"
    }
   ],
   "source": [
    "# Q46.  python program to find hash of file.\n",
    "\n",
    "\n",
    "f=open(\"hello world\",\"w\")\n",
    "s=\"hello world\"\n",
    "f.write(s)\n",
    "f.close()\n",
    "f=open(\"hello world\")\n",
    "data=f.read()\n",
    "hash(data)"
   ]
  },
  {
   "cell_type": "code",
   "execution_count": null,
   "metadata": {},
   "outputs": [],
   "source": []
  }
 ],
 "metadata": {
  "kernelspec": {
   "display_name": "Python 3",
   "language": "python",
   "name": "python3"
  },
  "language_info": {
   "codemirror_mode": {
    "name": "ipython",
    "version": 3
   },
   "file_extension": ".py",
   "mimetype": "text/x-python",
   "name": "python",
   "nbconvert_exporter": "python",
   "pygments_lexer": "ipython3",
   "version": "3.7.0"
  }
 },
 "nbformat": 4,
 "nbformat_minor": 2
}
