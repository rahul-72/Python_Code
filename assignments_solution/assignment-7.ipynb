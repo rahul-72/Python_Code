{
 "cells": [
  {
   "cell_type": "code",
   "execution_count": 12,
   "metadata": {},
   "outputs": [
    {
     "name": "stdout",
     "output_type": "stream",
     "text": [
      "Enter 1st number: 9\n",
      "Enter 2nd number: 9\n",
      "Both are equal\n"
     ]
    }
   ],
   "source": [
    "# Q1. Write a python program to find out maximum between two number.\n",
    "\n",
    "\n",
    "num1=int(input(\"Enter 1st number: \"))\n",
    "num2=int(input(\"Enter 2nd number: \"))\n",
    "if num1>num2:\n",
    "    print(\"1st number is greater.\")\n",
    "elif num2>num1:\n",
    "    print(\"2nd number is greater\")\n",
    "    \n",
    "else:\n",
    "    print(\"Both are equal\")\n",
    "     \n"
   ]
  },
  {
   "cell_type": "code",
   "execution_count": 24,
   "metadata": {},
   "outputs": [
    {
     "name": "stdout",
     "output_type": "stream",
     "text": [
      "Enter 1st number: 2\n",
      "Enter 2nd number: 3\n",
      "Enter 3rd number: 5\n",
      "The maximum between these three number  is 5.\n"
     ]
    }
   ],
   "source": [
    "# Q2. Write a python program to find out maximum between three number.\n",
    "\n",
    "\n",
    "num1=int(input(\"Enter 1st number: \"))\n",
    "num2=int(input(\"Enter 2nd number: \"))\n",
    "num3=int(input(\"Enter 3rd number: \"))\n",
    "if num1>=num2 and num1>=num3:\n",
    "    flag=num1\n",
    "elif  num2>=num1 and num2>=num3:\n",
    "    flag=num2\n",
    "else:\n",
    "    flag=num3\n",
    "print(f\"The maximum between these three number  is {flag}.\")    "
   ]
  },
  {
   "cell_type": "code",
   "execution_count": 13,
   "metadata": {},
   "outputs": [
    {
     "name": "stdout",
     "output_type": "stream",
     "text": [
      "Enter number: 0\n",
      "The entered number is zero.\n"
     ]
    }
   ],
   "source": [
    "# Q3.  Write a python program to check wheather a number is negative,positive or zero.\n",
    "\n",
    "\n",
    "num=int(input(\"Enter number: \"))\n",
    "if num>0:\n",
    "    flag='positive'\n",
    "elif num<0:\n",
    "    flag='negative'\n",
    "else:\n",
    "    flag='zero'\n",
    "print(f\"The entered number is {flag}.\")    "
   ]
  },
  {
   "cell_type": "code",
   "execution_count": 15,
   "metadata": {},
   "outputs": [
    {
     "name": "stdout",
     "output_type": "stream",
     "text": [
      "Enter number: 25\n",
      "The number 25 is not divisible by 5 and 11.\n"
     ]
    }
   ],
   "source": [
    "#  Q4.  Write a python program to check a number is divisible by 5 and 11 or not.\n",
    "\n",
    "\n",
    "num=int(input(\"Enter number: \"))\n",
    "if num%5==0 and num%11==0:\n",
    "    flag=''\n",
    "else:\n",
    "    flag='not'\n",
    "print(f\"The number {num} is {flag} divisible by 5 and 11.\")    "
   ]
  },
  {
   "cell_type": "code",
   "execution_count": 17,
   "metadata": {},
   "outputs": [
    {
     "name": "stdout",
     "output_type": "stream",
     "text": [
      "Enter number: 1\n",
      "The number 1 is odd number.\n"
     ]
    }
   ],
   "source": [
    "#  Q5.  Write a python program to check whether a number is even or odd.\n",
    "\n",
    "\n",
    "num=int(input(\"Enter number: \"))\n",
    "if num%2==0:\n",
    "    flag='even'\n",
    "else:\n",
    "    flag='odd'\n",
    "print(f\"The number {num} is {flag} number.\")    "
   ]
  },
  {
   "cell_type": "code",
   "execution_count": 22,
   "metadata": {},
   "outputs": [
    {
     "name": "stdout",
     "output_type": "stream",
     "text": [
      "Enter a year: 2005\n",
      "A 2005 is not leap year.\n"
     ]
    }
   ],
   "source": [
    "#  Q6.  Write a python program to check whether a year is leap year or not.\n",
    "\n",
    "\n",
    "year=int(input(\"Enter a year: \"))\n",
    "if year%100==0 and year%400==0 or year%100!=0 and year%4==0:\n",
    "    flag=''\n",
    "else:\n",
    "    flag='not'\n",
    "print(f\"A {year} is {flag} leap year.\")    "
   ]
  },
  {
   "cell_type": "code",
   "execution_count": 1,
   "metadata": {},
   "outputs": [
    {
     "name": "stdout",
     "output_type": "stream",
     "text": [
      "Enter a year: 2000\n",
      "A year is a leap year.\n"
     ]
    }
   ],
   "source": [
    "# Q6.\n",
    "\n",
    "year=int(input(\"Enter a year: \"))\n",
    "if year%100==0:\n",
    "    if year%400==0:\n",
    "        print(\"A year is a leap year.\")\n",
    "    else:\n",
    "        print(\"A year is not a leap year.\")\n",
    "elif year%4==0:\n",
    "    print(\"A year is a leap year.\")\n",
    "else:\n",
    "    print(\"A year is not a leap year.\")\n",
    "    "
   ]
  },
  {
   "cell_type": "code",
   "execution_count": 31,
   "metadata": {},
   "outputs": [
    {
     "name": "stdout",
     "output_type": "stream",
     "text": [
      "Enter the string for which you want to check whether it is alphabetic or not: rahul\n",
      "The string is  alphabetic.\n"
     ]
    }
   ],
   "source": [
    "#  Q7.  Write a python program to check whether a character is alphabet is not.\n",
    "\n",
    "\n",
    "s=input(\"Enter the string for which you want to check whether it is alphabetic or not: \")\n",
    "if s.isalpha():\n",
    "    flag=''\n",
    "else:\n",
    "    flag='not'\n",
    "print(f\"The string is {flag} alphabetic.\")    "
   ]
  },
  {
   "cell_type": "code",
   "execution_count": 40,
   "metadata": {},
   "outputs": [
    {
     "name": "stdout",
     "output_type": "stream",
     "text": [
      "Enter a alphabet: A\n",
      " Alphabet is vowel.\n"
     ]
    }
   ],
   "source": [
    "#  Q8.  Write a python program to take alphabet as input and check whether it is vowel or consonant.\n",
    "\n",
    "\n",
    "char=input(\"Enter a alphabet: \").strip().lower()\n",
    "if char.isalpha():\n",
    "    if char=='a' or char=='e' or char=='i' or char=='o' or char=='u':\n",
    "        print(\" Alphabet is vowel.\")\n",
    "    else:\n",
    "        print(\"Alphabet is consonant.\")\n",
    "else:\n",
    "    print(\"Please enter a alphabet .You entered a wrong character.\")"
   ]
  },
  {
   "cell_type": "code",
   "execution_count": 27,
   "metadata": {},
   "outputs": [
    {
     "name": "stdout",
     "output_type": "stream",
     "text": [
      "Enter a character: q\n",
      "This is consonant.\n"
     ]
    }
   ],
   "source": [
    "#  Q8.  pyton program to check for vowel and consonant.\n",
    "\n",
    "v=['a','e','i','o','u']\n",
    "char=input(\"Enter a character: \").strip().lower()\n",
    "if char in v:\n",
    "    print(\"This is a vowel.\")\n",
    "else:\n",
    "    print(\"This is consonant.\")\n",
    "    \n"
   ]
  },
  {
   "cell_type": "code",
   "execution_count": 39,
   "metadata": {},
   "outputs": [
    {
     "name": "stdout",
     "output_type": "stream",
     "text": [
      "This is a program to check whether a input is alphabet or digit or special character.\n",
      "Enter your input: ds@\n",
      "Your input is special character.\n"
     ]
    }
   ],
   "source": [
    "#  Q9.  Write a python program to input a character and check whether it is a alphabet,digit or special character.\n",
    "\n",
    "print(\"This is a program to check whether a input is alphabet or digit or special character.\")\n",
    "qwerty=input(\"Enter your input: \")\n",
    "if qwerty.isalpha():\n",
    "    flag='alphabet'\n",
    "elif qwerty.isdigit():\n",
    "    flag='digit'\n",
    "elif not(qwerty.isidentifier()):\n",
    "    flag='special character'\n",
    "    \n",
    "else:\n",
    "    flag='mixture of alphabet and number'\n",
    "    \n",
    "print(f\"Your input is {flag}.\")    "
   ]
  },
  {
   "cell_type": "code",
   "execution_count": 49,
   "metadata": {},
   "outputs": [
    {
     "name": "stdout",
     "output_type": "stream",
     "text": [
      "Enter a alphabet: a\n",
      "Entered alphabet is lowercase.\n"
     ]
    }
   ],
   "source": [
    "# Q10.  Write a python program to check whether a input is uppercase or lowercase alphabet.\n",
    "\n",
    "\n",
    "qwerty=input(\"Enter a alphabet: \")\n",
    "if qwerty.isalpha():\n",
    "    if qwerty.islower():\n",
    "        print(\"Entered alphabet is lowercase.\")\n",
    "    else:\n",
    "        print(\"Entered alphabet is uppercase.\")\n",
    "else:\n",
    "    print(\"please enter a alphabet.\")"
   ]
  },
  {
   "cell_type": "code",
   "execution_count": 55,
   "metadata": {},
   "outputs": [
    {
     "name": "stdout",
     "output_type": "stream",
     "text": [
      "please enter only a number which is between 1-7\n",
      "Enter a week number for which you want to print a week day7\n",
      "The week day for week number 7 is Sunday.\n"
     ]
    }
   ],
   "source": [
    "# Q11. Write a python program to enter week number and print week days.\n",
    "\n",
    "print(\"please enter only a number which is between 1-7\")\n",
    "num=int(input(\"Enter a week number for which you want to print a week day\"))\n",
    "if num==1 or num==2 or num==3 or num==4 or num==5 or num==6 or num==7:\n",
    "    if num==1:\n",
    "        flag='Monday'\n",
    "    elif num==2:\n",
    "        flag='Tuesday'\n",
    "    elif num==3:\n",
    "        flag='Wednesday'\n",
    "    elif num==4:\n",
    "        flag='Thrusday'\n",
    "    elif num==5:\n",
    "        flag='Friday'\n",
    "    elif num==6:\n",
    "        flag='Saturday'\n",
    "    elif num==7:\n",
    "        flag='Sunday'\n",
    "    print(f\"The week day for week number {num} is {flag}.\")        \n",
    "else:\n",
    "    print(\"Please enter a number between 1 to 7\")"
   ]
  },
  {
   "cell_type": "code",
   "execution_count": 43,
   "metadata": {},
   "outputs": [
    {
     "name": "stdout",
     "output_type": "stream",
     "text": [
      "Enter day's number: 2\n",
      "tuesday\n"
     ]
    }
   ],
   "source": [
    "# alternative of Q11.\n",
    "\n",
    "days={\n",
    "    0:'sunday',1:'monday',2:'tuesday',3:'wednesday',4:'thrusday',5:'friday',6:'saturday',7:'sunday'\n",
    "          }\n",
    "num=int(input(\"Enter day's number: \"))\n",
    "if days.get(num):\n",
    "    print(f\"{days[num]}\")\n",
    "else:\n",
    "    print(\"Enter correct day's number\")"
   ]
  },
  {
   "cell_type": "code",
   "execution_count": 4,
   "metadata": {},
   "outputs": [
    {
     "name": "stdout",
     "output_type": "stream",
     "text": [
      "Please enter a month number between 1 to 12.\n",
      "Enter the month's number: 7\n",
      "The number of days for month's number 7 is 31.\n"
     ]
    }
   ],
   "source": [
    "#  Q12.  Write  a python program to input month number and print number of days in that month.\n",
    "\n",
    "print(\"Please enter a month number between 1 to 12.\")\n",
    "num=int(input(\"Enter the month's number: \"))\n",
    "if num==1 or num==2 or num==3 or num==4 or num==5 or num==6 or num==7 or num==8 or num==9 or num==10 or num==11 or num==12:\n",
    "    if num==1:\n",
    "        flag=31\n",
    "    elif num==2:\n",
    "        flag=28\n",
    "    elif num==3:\n",
    "        flag=31\n",
    "    elif num==4:\n",
    "        flag=30\n",
    "    elif num==5:\n",
    "        flag=31\n",
    "    elif num==6:\n",
    "        flag=30\n",
    "    elif num==7:\n",
    "        flag=31\n",
    "    elif num==8:\n",
    "        flag=31\n",
    "    elif num==9:\n",
    "        flag=30\n",
    "    elif num==10:\n",
    "        flag=31\n",
    "    elif num==11:\n",
    "        flag=30\n",
    "    else:\n",
    "        flag=31\n",
    "    print(f\"The number of days for month's number {num} is {flag}.\")    \n",
    "else:\n",
    "    print(\"Please enter a number between 1 to 12.\")"
   ]
  },
  {
   "cell_type": "code",
   "execution_count": 46,
   "metadata": {},
   "outputs": [
    {
     "name": "stdout",
     "output_type": "stream",
     "text": [
      "Enter month's number: 5\n",
      "The number of days in month number 5 is 31\n"
     ]
    }
   ],
   "source": [
    "# alternative of Q 12.\n",
    "\n",
    "\n",
    "months={\n",
    "         1:31,2:28,3:31,4:30,5:31,6:30,7:31,8:31,9:30,10:31,11:30,12:31\n",
    "               }\n",
    "num=int(input(\"Enter month's number: \"))\n",
    "if months.get(num):\n",
    "    print(f\"The number of days in month number {num} is {months[num]}\")\n",
    "else:\n",
    "    print(\"Enter correct month's number.\")"
   ]
  },
  {
   "cell_type": "code",
   "execution_count": 6,
   "metadata": {},
   "outputs": [
    {
     "name": "stdout",
     "output_type": "stream",
     "text": [
      "Enter item price: 2333\n",
      "Enter paid amount: 4000\n",
      "       500=  3\n",
      "       100=  1\n",
      "        50=  1\n",
      "        10=  1\n",
      "         5=  1\n",
      "         2=  1\n"
     ]
    }
   ],
   "source": [
    "#  Q13.  python program to count number of notes in an amount.\n",
    "\n",
    "\n",
    "notes={\n",
    "    2000:0,500:0,200:0,100:0,50:0,20:0,10:0,5:0,2:0,1:0\n",
    "                }\n",
    "item_price=int(input(\"Enter item price: \"))\n",
    "paid_amount=int(input(\"Enter paid amount: \"))\n",
    "if item_price>paid_amount:\n",
    "    print(f\"Please pay {item_price-paid_amount} more\")\n",
    "else:\n",
    "    amount=paid_amount-item_price\n",
    "notes[2000]=amount//2000\n",
    "amount=amount%2000\n",
    "notes[500]=amount//500\n",
    "amount=amount%500\n",
    "notes[200]=amount//200\n",
    "amount=amount%200\n",
    "notes[100]=amount//100\n",
    "amount=amount%100\n",
    "notes[50]=amount//50\n",
    "amount=amount%50\n",
    "notes[20]=amount//20\n",
    "amount=amount%20\n",
    "notes[10]=amount//10\n",
    "amount=amount%10\n",
    "notes[5]=amount//5\n",
    "amount=amount%5\n",
    "notes[2]=amount//2\n",
    "amount=amount%2\n",
    "notes[1]=amount//1\n",
    "amount=amount%1\n",
    "for key,value in notes.items():\n",
    "    if value!=0:\n",
    "        print(f\"{key:>10}={value:>3}\")\n"
   ]
  },
  {
   "cell_type": "code",
   "execution_count": 7,
   "metadata": {},
   "outputs": [
    {
     "name": "stdout",
     "output_type": "stream",
     "text": [
      "Enter 1st angle: 60\n",
      "Enter 2nd angle: 80\n",
      "Enter 3rd angle: 40\n",
      "From the given angles we can  form triangle.\n"
     ]
    }
   ],
   "source": [
    "#  Q14.  Write a Python program to input angles of a triangle and check whether triangle is valid or not.\n",
    "\n",
    "\n",
    "a=int(input(\"Enter 1st angle: \"))\n",
    "b=int(input(\"Enter 2nd angle: \"))\n",
    "c=int(input(\"Enter 3rd angle: \"))\n",
    "if a+b+c==180:\n",
    "    flag=''\n",
    "else:\n",
    "    flag='not'\n",
    "print(f\"From the given angles we can {flag} form triangle.\")    "
   ]
  },
  {
   "cell_type": "code",
   "execution_count": 11,
   "metadata": {},
   "outputs": [
    {
     "name": "stdout",
     "output_type": "stream",
     "text": [
      "Enter 1st side: 5\n",
      "Enetr 2nd side: 3\n",
      "Enter 3rd side: 4\n",
      "With the help of sides 5,3,4 one can  form triangle.\n"
     ]
    }
   ],
   "source": [
    "#  Q15.  Write a python program to input all the sides of triangle and check whether it forms a triangle or not.\n",
    "\n",
    "\n",
    "a=int(input(\"Enter 1st side: \"))\n",
    "b=int(input(\"Enetr 2nd side: \"))\n",
    "c=int(input(\"Enter 3rd side: \"))\n",
    "if a<b+c and b<a+c and c<a+b and (a>b-c or a>c-b) and (b>a-c or b>c-a) and (c>a-b or c>b-a):\n",
    "    flag=''\n",
    "else:\n",
    "    flag='not'\n",
    "print(f\"With the help of sides {a},{b},{c} one can {flag} form triangle.\")"
   ]
  },
  {
   "cell_type": "code",
   "execution_count": 23,
   "metadata": {},
   "outputs": [
    {
     "name": "stdout",
     "output_type": "stream",
     "text": [
      "Enter 1st side: 5\n",
      "Enter 2nd side: 5\n",
      "Enter 3rd side: 5\n",
      "The triangle is equilateral.\n"
     ]
    }
   ],
   "source": [
    "# Q16. Write a python program to input sides of triangle and check whether it is a equilateral,isosceles,or scalene triangle.\n",
    "\n",
    "\n",
    "a=int(input(\"Enter 1st side: \"))\n",
    "b=int(input(\"Enter 2nd side: \"))\n",
    "c=int(input(\"Enter 3rd side: \"))\n",
    "if a<b+c and b<a+c and c<a+b and a>b-c and b>a-c and c>a-b:\n",
    "    if a==b==c:\n",
    "        flag='equilateral'\n",
    "    elif a==b or b==c or c==a:\n",
    "        flag='isosceles'\n",
    "    else:\n",
    "        flag='scalene'\n",
    "    print(f\"The triangle is {flag}.\")    \n",
    "else:\n",
    "    print(\"With the help of given sides we can not form triangle.\")"
   ]
  },
  {
   "cell_type": "code",
   "execution_count": 27,
   "metadata": {},
   "outputs": [
    {
     "name": "stdout",
     "output_type": "stream",
     "text": [
      "The quadratic equation is in the form of (ax**2+bx+c=0), where a,b,c are real number and a!=0. \n",
      "Enter value of a: 2\n",
      "Enter value of b: 3\n",
      "Enter value of c: 1\n",
      "Your quadratic equation is 2x**2+3x+1=0.\n",
      "The roots of above equation are (-2+0j) and (-4+0j). \n"
     ]
    }
   ],
   "source": [
    "# Q17.  Write a Python program to find all roots of a quadratic equation.\n",
    "\n",
    "\n",
    "from cmath import sqrt\n",
    "print(\"The quadratic equation is in the form of (ax**2+bx+c=0), where a,b,c are real number and a!=0. \")\n",
    "a=int(input(\"Enter value of a: \"))\n",
    "b=int(input(\"Enter value of b: \"))\n",
    "c=int(input(\"Enter value of c: \"))\n",
    "\n",
    "if a!=0:\n",
    "    print(f\"Your quadratic equation is {a}x**2+{b}x+{c}=0.\")\n",
    "    d=b**2-4*a*c\n",
    "    root1=(-b+sqrt(d))/2*a\n",
    "    root2=(-b-sqrt(d))/2*a\n",
    "    print(f\"The roots of above equation are {root1} and {root2}. \")\n",
    "else:\n",
    "    print(\"The value of 'a' should be non zero. \")"
   ]
  },
  {
   "cell_type": "code",
   "execution_count": 30,
   "metadata": {},
   "outputs": [
    {
     "name": "stdout",
     "output_type": "stream",
     "text": [
      "Enter cost price: 1000\n",
      "Enter selling price: 5000\n",
      "Amount of profit is 4000.\n"
     ]
    }
   ],
   "source": [
    "#  Q18.  Write a python program to calculate profit and loss.\n",
    "\n",
    "\n",
    "cp=int(input(\"Enter cost price: \"))\n",
    "sp=int(input(\"Enter selling price: \"))\n",
    "if sp>cp:\n",
    "    print(f\"Amount of profit is {sp-cp}.\")\n",
    "else:\n",
    "    print(f\"Amount of loss is {cp-sp}.\")\n"
   ]
  },
  {
   "cell_type": "code",
   "execution_count": 1,
   "metadata": {},
   "outputs": [
    {
     "name": "stderr",
     "output_type": "stream",
     "text": [
      "C:\\Anaconda3\\lib\\site-packages\\ipykernel\\parentpoller.py:116: UserWarning: Parent poll failed.  If the frontend dies,\n",
      "                the kernel may be left running.  Please let us know\n",
      "                about your system (bitness, Python, etc.) at\n",
      "                ipython-dev@scipy.org\n",
      "  ipython-dev@scipy.org\"\"\")\n"
     ]
    },
    {
     "name": "stdout",
     "output_type": "stream",
     "text": [
      "Each subject is of maximum 100 marks.\n",
      "Enter marks of physics: 78\n",
      "Enter marks of chemistry: 92\n",
      "Enter marks of mathematics: 90\n",
      "Enter marks of biology: 72\n",
      "Enter marks of computer: 84\n",
      "The grade for the above marks is B.\n"
     ]
    }
   ],
   "source": [
    "#  Q19.  Write a Python program to input marks of five subjects Physics, Chemistry, Biology, Mathematics and Computer. Calculate percentage and grade according to following: \n",
    "#Percentage >= 90% : Grade A \n",
    "#Percentage >= 80% : Grade B \n",
    "#Percentage >= 70% : Grade C \n",
    "#Percentage >= 60% : Grade D \n",
    "#Percentage >= 40% : Grade E \n",
    "#Percentage < 40% : Grade F\n",
    "\n",
    "\n",
    "print(\"Each subject is of maximum 100 marks.\")\n",
    "physics=int(input(\"Enter marks of physics: \"))\n",
    "chemistry=int(input(\"Enter marks of chemistry: \"))\n",
    "math=int(input(\"Enter marks of mathematics: \"))\n",
    "bio=int(input(\"Enter marks of biology: \"))\n",
    "computer=int(input(\"Enter marks of computer: \"))\n",
    "per=(physics+chemistry+bio+math+computer)*100/500\n",
    "if per>=90:\n",
    "    flag='A'\n",
    "elif per>=80:\n",
    "    flag='B'\n",
    "elif per>=70:\n",
    "    flag='C'\n",
    "elif per>=60:\n",
    "    flag='D'\n",
    "elif per>=40:\n",
    "    flag='E'\n",
    "else:\n",
    "    flag='F'\n",
    "print(f\"The grade for the above marks is {flag}.\")    \n",
    "    \n",
    "    "
   ]
  },
  {
   "cell_type": "code",
   "execution_count": 2,
   "metadata": {},
   "outputs": [
    {
     "name": "stdout",
     "output_type": "stream",
     "text": [
      "Enter your basic salary: 12000\n",
      "The gross salary for the basic salary 12000 is 25800.0\n"
     ]
    }
   ],
   "source": [
    "#  Q20.  Write a Python program to input basic salary of an employee and calculate its Gross salary according to following: \n",
    "\n",
    "#Basic Salary <= 10000 : HRA = 20%, DA = 80% \n",
    "#Basic Salary <= 20000 : HRA = 25%, DA = 90% \n",
    "#Basic Salary > 20000 : HRA = 30%, DA = 95%\n",
    "\n",
    "\n",
    "basic_salary=int(input(\"Enter your basic salary: \"))\n",
    "if basic_salary<=10000:\n",
    "    hra=20/100*basic_salary\n",
    "    da=80/100*basic_salary\n",
    "    gross=basic_salary+hra+da\n",
    "elif basic_salary<=20000:\n",
    "    hra=25/100*basic_salary\n",
    "    da=90/100*basic_salary\n",
    "    gross=basic_salary+hra+da  \n",
    "else:\n",
    "    hra=30/100*basic_salary\n",
    "    da=95/100*basic_salary\n",
    "    gross=basic_salary+hra+da\n",
    "print(f\"The gross salary for the basic salary {basic_salary} is {gross}\")    "
   ]
  },
  {
   "cell_type": "code",
   "execution_count": 50,
   "metadata": {},
   "outputs": [
    {
     "name": "stdout",
     "output_type": "stream",
     "text": [
      "Enter your electricity units: 900\n",
      "The bill is 1195.0\n"
     ]
    }
   ],
   "source": [
    "#  Q21.  Write a Python Program to input electricity unit charges and calculate total electricity bill according to the given condition: \n",
    "\n",
    "#For first 50 units Rs. 0.50/unit\n",
    "#For next 100 units Rs. 0.75/unit\n",
    "#For next 100 units Rs. 1.20/unit\n",
    "#For unit above 250 Rs. 1.50/unit\n",
    "#An additional surcharge of 20% is added to the bill\n",
    "\n",
    "\n",
    "units=int(input(\"Enter your electricity units: \"))\n",
    "if units<50:\n",
    "    bill=units*0.50\n",
    "elif units<=150:\n",
    "    bill=(50*0.50)+(units-50)*0.75\n",
    "elif units<=250:\n",
    "    bill=(50*0.50)+(100*0.75)+((units-150)*1.20)\n",
    "else:\n",
    "    bill=(50*0.50)+(100*0.75)+(100*1.20)+((units-250)*1.50)\n",
    "print(f\"The bill is {bill}\")   "
   ]
  },
  {
   "cell_type": "code",
   "execution_count": null,
   "metadata": {},
   "outputs": [],
   "source": []
  }
 ],
 "metadata": {
  "kernelspec": {
   "display_name": "Python 3",
   "language": "python",
   "name": "python3"
  },
  "language_info": {
   "codemirror_mode": {
    "name": "ipython",
    "version": 3
   },
   "file_extension": ".py",
   "mimetype": "text/x-python",
   "name": "python",
   "nbconvert_exporter": "python",
   "pygments_lexer": "ipython3",
   "version": "3.7.0"
  }
 },
 "nbformat": 4,
 "nbformat_minor": 2
}
