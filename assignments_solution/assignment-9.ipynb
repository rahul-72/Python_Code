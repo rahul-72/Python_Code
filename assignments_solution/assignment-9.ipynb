{
 "cells": [
  {
   "cell_type": "code",
   "execution_count": 2,
   "metadata": {},
   "outputs": [
    {
     "name": "stdout",
     "output_type": "stream",
     "text": [
      "Enter a divident: 16\n",
      "Enter a divisor: 3\n",
      "The quotient is 5\n",
      "The remainder is 1\n"
     ]
    }
   ],
   "source": [
    "#  Q1.  program to find quotient and remainder.\n",
    "\n",
    "divident=int(input(\"Enter a divident: \"))\n",
    "divisor=int(input(\"Enter a divisor: \"))\n",
    "print(f\"\"\"The quotient is {divident//divisor}\n",
    "The remainder is {divident%divisor}\"\"\")"
   ]
  },
  {
   "cell_type": "code",
   "execution_count": 2,
   "metadata": {},
   "outputs": [
    {
     "name": "stdout",
     "output_type": "stream",
     "text": [
      "Enter divident65\n",
      "Enter divisor2\n",
      "The quotient is 32\n",
      "The remainder is 1\n"
     ]
    }
   ],
   "source": [
    "# Alternative of Q1.\n",
    "\n",
    "quotient,remainder=divmod(int(input(\"Enter divident\")),int(input(\"Enter divisor\")))\n",
    "print(f\"The quotient is {quotient}\")\n",
    "print(f\"The remainder is {remainder}\")"
   ]
  },
  {
   "cell_type": "code",
   "execution_count": 4,
   "metadata": {},
   "outputs": [
    {
     "name": "stdout",
     "output_type": "stream",
     "text": [
      "Enter number:\t125\n",
      "The sum of digits in a number is --> 8\n"
     ]
    }
   ],
   "source": [
    "#  Q2.  pyhton program to print sum of digits of any number.\n",
    "\n",
    "                                                  # here we cannot use \"for loop\" because we are not iterating any thing.\n",
    "num=int(input(\"Enter number:\\t\"))                  #        123\n",
    "s=0                                                #          /\\\n",
    "while num:                                          #        /  \\\n",
    "    s+=num%10                                   #(123//10)=12    (123%10=3)  \n",
    "    num=num//10\n",
    "print(f\"The sum of digits in a number is --> {s}\")    "
   ]
  },
  {
   "cell_type": "code",
   "execution_count": 7,
   "metadata": {},
   "outputs": [
    {
     "name": "stdout",
     "output_type": "stream",
     "text": [
      "Enter number:\t122\n",
      "The product of digits of a number is --> 4\n"
     ]
    }
   ],
   "source": [
    "#  Q3.  python program to print product of digit of any number.\n",
    "\n",
    "num=int(input(\"Enter number:\\t\"))\n",
    "p=1\n",
    "while num:\n",
    "    p*=(num%10)\n",
    "    num=num//10\n",
    "print(f\"The product of digits of a number is --> {p}\")    "
   ]
  },
  {
   "cell_type": "code",
   "execution_count": 17,
   "metadata": {},
   "outputs": [
    {
     "name": "stdout",
     "output_type": "stream",
     "text": [
      "Enter binary number:\t1100\n",
      "The decimal number of binary number1100 is  12\n"
     ]
    }
   ],
   "source": [
    "#  Q4.  python program to convert binary into decimal number.\n",
    "\n",
    "num=input(\"Enter binary number:\\t\")\n",
    "dec=int(num,2)            # here \"num\" should be in string\n",
    "print(f\"The decimal number of binary number{num} is  {dec}\")"
   ]
  },
  {
   "cell_type": "code",
   "execution_count": 6,
   "metadata": {},
   "outputs": [
    {
     "name": "stdout",
     "output_type": "stream",
     "text": [
      "how many number will you enter: 2\n",
      "Enter number; 1\n",
      "Enter number; 2\n",
      "The sum is 3\n"
     ]
    }
   ],
   "source": [
    "#  Q5.   python program to find the sum of number entered.\n",
    "total=0\n",
    "n=int(input(\"how many number will you enter: \"))\n",
    "for i in range(n):\n",
    "    num=int(input(\"Enter number; \"))\n",
    "    total+=num\n",
    "print(f\"The sum is {total}\")    "
   ]
  },
  {
   "cell_type": "code",
   "execution_count": 21,
   "metadata": {},
   "outputs": [
    {
     "name": "stdout",
     "output_type": "stream",
     "text": [
      "Enter 1st number: 5\n",
      "Enter 2nd number: 4\n",
      "The multiplication of two number is 20\n"
     ]
    }
   ],
   "source": [
    "#  Q6.  multiply two number without using * operator.\n",
    "\n",
    "num1=int(input(\"Enter 1st number: \"))\n",
    "num2=int(input(\"Enter 2nd number: \"))\n",
    "add=0\n",
    "for i in range(num2):\n",
    "    add=add+num1\n",
    "print(f\"The multiplication of two number is {add}\")    "
   ]
  },
  {
   "cell_type": "code",
   "execution_count": 7,
   "metadata": {},
   "outputs": [
    {
     "name": "stdout",
     "output_type": "stream",
     "text": [
      "Enter a number upto which you want a sum of the series: 6\n",
      "The series is:,1+2+4+7+11+16+\n",
      "The sum of a series is : 41\n"
     ]
    }
   ],
   "source": [
    "#  Q7.  python program to sum of this series upto 'n' terms 1+2+4+7+11+16+.......\n",
    "\n",
    "\n",
    "num=int(input(\"Enter a number upto which you want a sum of the series: \"))\n",
    "series=1\n",
    "add=0\n",
    "print(\"The series is:\" ,end=',')\n",
    "for i in range(num):\n",
    "    series=series+i\n",
    "    print(series,end='+')\n",
    "    add=add+series\n",
    "print(f\"\\nThe sum of a series is : {add}\")    \n",
    "    "
   ]
  },
  {
   "cell_type": "code",
   "execution_count": 5,
   "metadata": {},
   "outputs": [],
   "source": [
    "#  Q8., Q9. Q11. = completed in assignment 7.\n",
    "\n"
   ]
  },
  {
   "cell_type": "code",
   "execution_count": 5,
   "metadata": {},
   "outputs": [
    {
     "name": "stdout",
     "output_type": "stream",
     "text": [
      "Enter number:\t12345\n",
      "The sum of digits is 6\n"
     ]
    }
   ],
   "source": [
    "#  Q10.  python Program to find the sum of digits of a number until the sum is reduced to 1 digit.\n",
    "\n",
    "num=int(input(\"Enter number:\\t\"))\n",
    "temp_num=num\n",
    "while True:\n",
    "    if temp_num>9:\n",
    "        s=0\n",
    "        while temp_num:\n",
    "            s+=(temp_num%10)\n",
    "            temp_num=temp_num//10\n",
    "        temp_num=s\n",
    "        continue\n",
    "    else:\n",
    "        print(f\"The sum of digits is {temp_num}\")    #this is the reason we are storing num in temp_num.\n",
    "        break    \n",
    "        \n",
    "\n",
    "\n",
    "        \n",
    "    \n",
    "        \n"
   ]
  },
  {
   "cell_type": "code",
   "execution_count": null,
   "metadata": {},
   "outputs": [
    {
     "name": "stdout",
     "output_type": "stream",
     "text": [
      "Here you have to enter 10 positive integer.\n"
     ]
    }
   ],
   "source": [
    "#  Q12.  python program to find sum and average of 10 positive integer.\n",
    "\n",
    "print(\"Here you have to enter 10 positive integer.\")\n",
    "a,b,c,d,e,f,g,h,i,j=map(int,input(\"Enter number: \").split())\n",
    "add=a+b+c+d+e+f+g+h+i+j\n",
    "avg=add/10\n",
    "print(f\"\"\"The sum of 10 positive integer is {add}\n",
    "The average of 10 positive integer is {avg}\"\"\")"
   ]
  },
  {
   "cell_type": "code",
   "execution_count": 1,
   "metadata": {},
   "outputs": [
    {
     "name": "stdout",
     "output_type": "stream",
     "text": [
      "Enter number: 1\n",
      "Enter number: 2\n",
      "Enter number: 3\n",
      "Enter number: 4\n",
      "Enter number: 5\n",
      "Enter number: 6\n",
      "Enter number: 7\n",
      "Enter number: 8\n",
      "Enter number: 9\n",
      "Enter number: 10\n",
      "The sum of entered numbers is 55 \n",
      "The average of entered numbers is 5.5\n"
     ]
    }
   ],
   "source": [
    "#  Q12.  alternative of question number 12.\n",
    "\n",
    "l=[]\n",
    "total=0\n",
    "for i in range(10):\n",
    "    num=int(input(\"Enter number: \"))\n",
    "    l.append(num)\n",
    "for j in range(10):\n",
    "    total=total+l[j]\n",
    "avg=total/10\n",
    "print(f\"\"\"The sum of entered numbers is {total} \n",
    "The average of entered numbers is {avg}\"\"\")"
   ]
  },
  {
   "cell_type": "code",
   "execution_count": 9,
   "metadata": {},
   "outputs": [],
   "source": [
    "#  Q13.  Program to perform arithmetic calculations on integers\n",
    "# like calculator\n",
    "\n"
   ]
  },
  {
   "cell_type": "code",
   "execution_count": 14,
   "metadata": {},
   "outputs": [
    {
     "name": "stdout",
     "output_type": "stream",
     "text": [
      "Enter a alphabet: A\n",
      "The entered alphabet is vowel\n"
     ]
    }
   ],
   "source": [
    "#  Q14.  Program to find whether the alphabet is a vowel or consonant\n",
    "\n",
    "\n",
    "qwerty=input(\"Enter a alphabet: \")\n",
    "alphabet=qwerty.lower()\n",
    "l=['a','e','i','o','u']\n",
    "if alphabet.isalpha():\n",
    "    if alphabet in l:\n",
    "        flag='vowel'\n",
    "    else:\n",
    "        flag='consonant'\n",
    "    print(f\"The entered alphabet is {flag}\")        \n",
    "else:\n",
    "    print(\"please enter only alphabet.\")"
   ]
  },
  {
   "cell_type": "code",
   "execution_count": 20,
   "metadata": {},
   "outputs": [
    {
     "name": "stdout",
     "output_type": "stream",
     "text": [
      "Enter date in dd/mm/yy format:\t29/2/2004\n",
      "valid date\n"
     ]
    }
   ],
   "source": [
    "#  Q15.  python Program to check whether a date is valid or not\n",
    "\n",
    "\n",
    "day,month,year=map(int,(input(\"Enter date in dd/mm/yy format:\\t\").split('/')))\n",
    "m=[1,2,3,4,5,6,7,8,9,10,11,12]    #how to write 01\n",
    "d28={1:range(1,32),2:range(1,29),3:range(1,32),4:range(1,31),5:range(1,32),6:range(1,31),7:range(1,32),\n",
    "  8:range(1,32),9:range(1,31),10:range(1,32),11:range(1,31),12:range(1,32)}\n",
    "d29={1:range(1,32),2:range(1,30),3:range(1,32),4:range(1,31),5:range(1,32),6:range(1,31),7:range(1,32),\n",
    "  8:range(1,32),9:range(1,31),10:range(1,32),11:range(1,31),12:range(1,32)}\n",
    "if month in m:\n",
    "    if year%100==0:\n",
    "        if year%400==0:\n",
    "            y=True\n",
    "        else:\n",
    "            y=False\n",
    "    elif year%4==0:\n",
    "        y=True\n",
    "    else:\n",
    "        y=False\n",
    "    if y==True:\n",
    "        if day in d29[month]:\n",
    "            print(\"valid date\")\n",
    "        else:\n",
    "            print(\"Invalid date\")\n",
    "    else:\n",
    "        if day in d28[month]:\n",
    "            print(\"Valid date\")\n",
    "        else:\n",
    "            print(\"Invalid date\")\n",
    "else:\n",
    "    print(\"invalid date\")\n",
    "\n"
   ]
  },
  {
   "cell_type": "code",
   "execution_count": null,
   "metadata": {},
   "outputs": [],
   "source": [
    "#  Q16.  python Program to get difference of two dates in years, months days\n"
   ]
  },
  {
   "cell_type": "code",
   "execution_count": 23,
   "metadata": {},
   "outputs": [],
   "source": [
    "# Q17.  completed in assignment 7.\n",
    "\n"
   ]
  },
  {
   "cell_type": "code",
   "execution_count": 28,
   "metadata": {},
   "outputs": [
    {
     "name": "stdout",
     "output_type": "stream",
     "text": [
      "1\t\t2\t\t3\t\t4\t\t5\t\t6\t\t7\t\t8\t\t9\t\t10\t\t11\t\t12\t\t13\t\t14\t\t15\t\t16\t\t17\t\t18\t\t19\t\t20\t\t21\t\t22\t\t23\t\t24\t\t25\t\t26\t\t27\t\t28\t\t29\t\t30\t\t31\t\t32\t\t33\t\t34\t\t35\t\t36\t\t37\t\t38\t\t39\t\t40\t\t41\t\t42\t\t43\t\t44\t\t45\t\t46\t\t47\t\t48\t\t49\t\t50\t\t51\t\t52\t\t53\t\t54\t\t55\t\t56\t\t57\t\t58\t\t59\t\t60\t\t61\t\t62\t\t63\t\t64\t\t65\t\t66\t\t67\t\t68\t\t69\t\t70\t\t71\t\t72\t\t73\t\t74\t\t75\t\t76\t\t77\t\t78\t\t79\t\t80\t\t"
     ]
    }
   ],
   "source": [
    "#  Q18.  python program to print number from 1 to 80 seperated by tab, 8 numbers per line.\n",
    "\n",
    "\n",
    "for i in range(1,81):\n",
    "    print(i,end='\\t\\t')"
   ]
  },
  {
   "cell_type": "code",
   "execution_count": 30,
   "metadata": {},
   "outputs": [
    {
     "name": "stdout",
     "output_type": "stream",
     "text": [
      "Enter a number: 2\n",
      "Enter a number: 3\n",
      "Enter a number: 6\n",
      "Enter a number: 5\n",
      "Enter a number: 45\n",
      "Enter a number: 65\n",
      "Enter a number: 235\n",
      "Enter a number: 1\n",
      "Enter a number: 2\n",
      "Enter a number: 1\n",
      "The largest among the input is 235\n"
     ]
    }
   ],
   "source": [
    "#  Q19.  python program to take 10 input and find the largest among them .\n",
    "\n",
    "\n",
    "l=[]\n",
    "for i in range(10):\n",
    "    num=int(input(\"Enter a number: \"))\n",
    "    l.append(num)\n",
    "l.sort()\n",
    "print(f\"The largest among the input is {l[9]}\")"
   ]
  },
  {
   "cell_type": "code",
   "execution_count": 15,
   "metadata": {},
   "outputs": [
    {
     "name": "stdout",
     "output_type": "stream",
     "text": [
      "Enter 10 numbers: 1 2 3 45 65 41 25 63 21 452\n",
      "The largest among these is 452\n"
     ]
    }
   ],
   "source": [
    "# Alternative of Q19.\n",
    "\n",
    "l=list(map(int,input(\"Enter 10 numbers: \").split()))\n",
    "l.sort()\n",
    "print(f\"The largest among these is {l[9]}\")"
   ]
  },
  {
   "cell_type": "code",
   "execution_count": 50,
   "metadata": {},
   "outputs": [
    {
     "name": "stdout",
     "output_type": "stream",
     "text": [
      "Enter number: 2\n",
      "Enter number: 3\n",
      "Enter number: 56\n",
      "Enter number in range of 1 to 50\n",
      "Enter number: 2\n",
      "Enter number: 4\n",
      "2=\n",
      "3=\n",
      "2=\n",
      "4=\n"
     ]
    }
   ],
   "source": [
    "#  Q20.  20.\tWrite a program to input 10 numbers ranging from 1 to 50 and \n",
    "# draw a histogram by displaying adjacent ‘=’ signs for each number entered. \n",
    "# For example if the number entered is 12 then a line of 12 equal to signs should be displayed.\n",
    "\n",
    "\n",
    "l=[]\n",
    "x=5\n",
    "for i in range(x):\n",
    "    num=int(input(\"Enter number: \"))\n",
    "    if num  in range(1,50):\n",
    "        l.append(num)\n",
    "    else:\n",
    "        print(\"Enter number in range of 1 to 50\")\n",
    "        x=x+1\n",
    "for j in range(len(l)):\n",
    "    print(f\"{l[j]}=\")\n",
    "    \n",
    "        "
   ]
  },
  {
   "cell_type": "code",
   "execution_count": 19,
   "metadata": {},
   "outputs": [
    {
     "name": "stdout",
     "output_type": "stream",
     "text": [
      "Enter numbers: 1 2 32 54 6 4\n",
      "1 =\n",
      "2 =\n",
      "32 =\n",
      "54 =\n",
      "6 =\n",
      "4 =\n"
     ]
    }
   ],
   "source": [
    "# alternative of Q20. \n",
    "l=list(map(int,input(\"Enter numbers: \").split()))\n",
    "for i in l:\n",
    "    print(i,'=')"
   ]
  },
  {
   "cell_type": "code",
   "execution_count": 20,
   "metadata": {},
   "outputs": [
    {
     "name": "stdout",
     "output_type": "stream",
     "text": [
      "Enter a number upto which you want a prime number:\n",
      " 100\n",
      "The prime numbers are:\n",
      "2,3,5,7,11,13,17,19,23,29,31,37,41,43,47,53,59,61,67,71,73,79,83,89,97,"
     ]
    }
   ],
   "source": [
    "#  Q21.  python program to print all prime number from 1 to n.\n",
    "\n",
    "\n",
    "n=int(input(\"Enter a number upto which you want a prime number:\\n \"))\n",
    "l=[2,]\n",
    "for i in range(3,n+1):\n",
    "    for j in range(2,i):\n",
    "        if i%j==0:\n",
    "            break\n",
    "    else:\n",
    "        l.append(i)\n",
    "print(\"The prime numbers are:\")\n",
    "for k in l:\n",
    "    print(f\"{k}\",end=',')\n",
    "    \n",
    "        \n",
    "            "
   ]
  },
  {
   "cell_type": "code",
   "execution_count": 2,
   "metadata": {},
   "outputs": [
    {
     "name": "stdout",
     "output_type": "stream",
     "text": [
      "Enter number:\t12365\n",
      "THe reverse of the number 12365 is --> 56321\n"
     ]
    }
   ],
   "source": [
    "#  Q22. Write a program to enter a number and find the reverse of that number. \n",
    "#Also display the double of the reverse number. (don’t use string magic)\n",
    "\n",
    "\n",
    "num=int(input(\"Enter number:\\t\"))\n",
    "s=0\n",
    "temp_num=num\n",
    "while temp_num:\n",
    "    s=s*10+(temp_num%10)\n",
    "    temp_num=temp_num//10\n",
    "print(f\"THe reverse of the number {num} is --> {s}\")    \n"
   ]
  },
  {
   "cell_type": "code",
   "execution_count": 27,
   "metadata": {},
   "outputs": [
    {
     "name": "stdout",
     "output_type": "stream",
     "text": [
      "Enter a number: 123\n",
      "The number is not palindrome\n"
     ]
    }
   ],
   "source": [
    "#  Q23. Write a program to find a number is palindrome or not.\n",
    "\n",
    "\n",
    "num=int(input(\"Enter a number: \"))\n",
    "num_str=str(num)\n",
    "num_rev=reversed(num_str)\n",
    "if list(num_rev)==list(num_str):\n",
    "    flag=''\n",
    "else:\n",
    "    flag='not'\n",
    "print(f\"The number is {flag} palindrome\")    "
   ]
  },
  {
   "cell_type": "code",
   "execution_count": 4,
   "metadata": {},
   "outputs": [
    {
     "name": "stdout",
     "output_type": "stream",
     "text": [
      "Enter number: 123\n",
      "not palindrome number\n"
     ]
    }
   ],
   "source": [
    "# alternative of Q23. which is the real solution.\n",
    "\n",
    "\n",
    "num=int(input(\"Enter number: \"))\n",
    "s=0\n",
    "temp_num=num            # we use temp_num as a copy of num because we are using num multiple number of times.\n",
    "while temp_num:\n",
    "    d=temp_num%10\n",
    "    s=s*10+d           #sum is multiply by 10 and added to rremainder...\n",
    "    temp_num=temp_num//10\n",
    "if s==num:\n",
    "    print(\"palindrome number:\")\n",
    "else:\n",
    "    print(\"not palindrome number\")\n",
    "    "
   ]
  },
  {
   "cell_type": "code",
   "execution_count": 1,
   "metadata": {},
   "outputs": [
    {
     "name": "stdout",
     "output_type": "stream",
     "text": [
      "The four digit palindromes numbers are\n",
      "1001     1111     1221     1331     1441     1551     1661     1771     1881     1991     2002     2112     2222     2332     2442     2552     2662     2772     2882     2992     3003     3113     3223     3333     3443     3553     3663     3773     3883     3993     4004     4114     4224     4334     4444     4554     4664     4774     4884     4994     5005     5115     5225     5335     5445     5555     5665     5775     5885     5995     6006     6116     6226     6336     6446     6556     6666     6776     6886     6996     7007     7117     7227     7337     7447     7557     7667     7777     7887     7997     8008     8118     8228     8338     8448     8558     8668     8778     8888     8998     9009     9119     9229     9339     9449     9559     9669     9779     9889     9999     "
     ]
    }
   ],
   "source": [
    "#  Q24. Write a program to display all four digit palindromes.\n",
    "\n",
    "\n",
    "\n",
    "print(\"The four digit palindromes numbers are\")\n",
    "for i in range(1000,10000):\n",
    "    s=0\n",
    "    temp_num=i\n",
    "    while temp_num:\n",
    "        s=s*10+(temp_num%10)\n",
    "        temp_num=temp_num//10\n",
    "    if s==i:\n",
    "        print(i,end='     ')\n",
    "        \n",
    "    \n",
    "    \n",
    "    \n",
    "    \n"
   ]
  },
  {
   "cell_type": "code",
   "execution_count": 2,
   "metadata": {},
   "outputs": [
    {
     "name": "stdout",
     "output_type": "stream",
     "text": [
      "Enter number:\t1236\n",
      "The number of digits in 1236is --> 4\n"
     ]
    }
   ],
   "source": [
    "#  Q25. Write a program to input a number and count the digits in it. \n",
    "#Use while loop and the program should work correctly for 0 also.\n",
    "\n",
    "\n",
    "num=input(\"Enter number:\\t\")\n",
    "print(f\"The number of digits in {num}is --> {len(num)}\")"
   ]
  },
  {
   "cell_type": "code",
   "execution_count": 4,
   "metadata": {},
   "outputs": [
    {
     "name": "stdout",
     "output_type": "stream",
     "text": [
      "Enter number:\t1236\n",
      "The number of digits  is --> 4\n"
     ]
    }
   ],
   "source": [
    "# Q25. real solution\n",
    "\n",
    "num=int(input(\"Enter number:\\t\"))\n",
    "count=0\n",
    "while num:           # here we can't use for loop because number is not iterable.\n",
    "    count+=1\n",
    "    num=num//10\n",
    "print(f\"The number of digits  is --> {count}\")    "
   ]
  },
  {
   "cell_type": "code",
   "execution_count": 5,
   "metadata": {},
   "outputs": [
    {
     "name": "stdout",
     "output_type": "stream",
     "text": [
      "Enter number:\t12365412363214123\n",
      "Enter digit:\t1\n",
      "The digit 1 occurs 4 times\n"
     ]
    }
   ],
   "source": [
    "#  Q26. Input a number and a digit, and count the number of times the digit occurs in the number.\n",
    "#(don’t use count function or string)\n",
    "\n",
    "\n",
    "num=int(input(\"Enter number:\\t\"))\n",
    "digit=int(input(\"Enter digit:\\t\"))\n",
    "d=[]\n",
    "while num:\n",
    "    d.append(num%10)\n",
    "    num=num//10\n",
    "if digit in d:\n",
    "    print(f\"The digit {digit} occurs {d.count(digit)} times\")\n",
    "else:\n",
    "    print(f\"The digit {digit} does not occur in number {num}\")\n"
   ]
  },
  {
   "cell_type": "code",
   "execution_count": 26,
   "metadata": {},
   "outputs": [
    {
     "name": "stdout",
     "output_type": "stream",
     "text": [
      "Enter number upto which you want sum of square of all numbers from 1 to that number:\n",
      " 5\n",
      "The sum of squares of numbers is 55\n"
     ]
    }
   ],
   "source": [
    "#  Q27. Write a program to accept any number n and print the sum of square of all numbers from 1 to n.\n",
    "\n",
    "\n",
    "n=int(input(\"Enter number upto which you want sum of square of all numbers from 1 to that number:\\n \"))\n",
    "total=0\n",
    "for i in range(1,n+1):\n",
    "    square=i*i\n",
    "    total=total+square\n",
    "print(f\"The sum of squares of numbers is {total}\")    "
   ]
  },
  {
   "cell_type": "code",
   "execution_count": 37,
   "metadata": {},
   "outputs": [
    {
     "name": "stdout",
     "output_type": "stream",
     "text": [
      "Enter number upto which you want cube oa all numbers from 1 to that number which are divisible by 3: \n",
      "20\n",
      "The required numbers are:\n",
      "\n",
      "27,216,729,1728,3375,5832,"
     ]
    }
   ],
   "source": [
    "#  Q28. Write a program to accept any number n and print the cube of all numbers from 1 to n which are divisible by 3.\n",
    "#Rewrite the program using a continue statement.\n",
    "\n",
    "\n",
    "n=int(input(\"Enter number upto which you want cube oa all numbers from 1 to that number which are divisible by 3: \\n\"))\n",
    "print(\"The required numbers are:\\n\")\n",
    "for i in range(1,n+1):\n",
    "    if i%3==0:\n",
    "        print(i**3,end=',')"
   ]
  },
  {
   "cell_type": "code",
   "execution_count": 44,
   "metadata": {},
   "outputs": [
    {
     "name": "stdout",
     "output_type": "stream",
     "text": [
      "Enter number: \n",
      "-2\n",
      "Enter only positive number.\n"
     ]
    }
   ],
   "source": [
    "#  Q29.,Q30.  Write a program to find out the value of x raised to the power y, where x and y are positive integers. \n",
    "\n",
    "x=int(input(\"Enter number: \\n\"))\n",
    "if x>0:\n",
    "    y=int(input(\"Enter value of power:\\n\"))\n",
    "    if y>0:\n",
    "        print(f\"The value of x raised to the power y is \\n {x**y}\")\n",
    "    else:\n",
    "        print(\"Enter only positive integer.\")\n",
    "else:\n",
    "    print(\"Enter only positive number.\")"
   ]
  },
  {
   "cell_type": "code",
   "execution_count": 7,
   "metadata": {},
   "outputs": [
    {
     "name": "stdout",
     "output_type": "stream",
     "text": [
      "Enter number which you want to check whether it is a fabonnaci number or not: \n",
      "3\n",
      "The number is in fabonnaci series.\n"
     ]
    }
   ],
   "source": [
    "#  Q31.  Write a program to enter a number and test whether it is a Fibonacci number or not.\n",
    "\n",
    "\n",
    "\n",
    "first=0\n",
    "second=1\n",
    "num=int(input(\"Enter number which you want to check whether it is a fabonnaci number or not: \\n\"))\n",
    "while True:\n",
    "    add=first+second\n",
    "    first,second=second,add\n",
    "    if num==second:\n",
    "        print(\"The number is in fabonnaci series.\")\n",
    "        break\n",
    "    elif num<second:\n",
    "        print(\"The number is not in a fabonnaci series.\")\n",
    "        break\n",
    "    \n",
    "\n"
   ]
  },
  {
   "cell_type": "code",
   "execution_count": 6,
   "metadata": {},
   "outputs": [
    {
     "name": "stdout",
     "output_type": "stream",
     "text": [
      "Enter roll number in range 1000 to 9999 \n",
      "1\n",
      "Roll number is not in this range.Enter again.\n",
      "Enter roll number in range 1000 to 9999 \n",
      "2\n",
      "Roll number is not in this range.Enter again.\n",
      "Enter roll number in range 1000 to 9999 \n",
      "1111\n",
      "Enter number of physics:\n",
      "99\n",
      "Enter number of chemistry:\n",
      "88\n",
      "Enter number of mathematics:\n",
      "99\n",
      "Enter roll number in range 1000 to 9999 \n",
      "2222\n",
      "Enter number of physics:\n",
      "88\n",
      "Enter number of chemistry:\n",
      "99\n",
      "Enter number of mathematics:\n",
      "66\n",
      "Enter roll number in range 1000 to 9999 \n",
      "3333\n",
      "Enter number of physics:\n",
      "99\n",
      "Enter number of chemistry:\n",
      "99\n",
      "Enter number of mathematics:\n",
      "99\n",
      "\n",
      "The number of students whose total is more than 200 are  3\n",
      "\n",
      "The roll number of students having highest marks are: \n",
      "3333\t\t\t"
     ]
    }
   ],
   "source": [
    "#  Q32.  Write a program to read roll number and marks of 10 students in 3 subjects. \n",
    "#The valid range for roll number is 1000-9999, if the roll number entered is not in this range,\n",
    "#the user should be asked to enter again. \n",
    "#Calculate total marks of only those students who get more than or equal to 40 marks in each subject.\n",
    "#Count the number of students whose total is more than 200.\n",
    "#Print the roll number of the students who gets the highest total.\n",
    "\n",
    "\n",
    "my_dict,my_dict1,extra_dict={},{},{}\n",
    "count,x=0,1\n",
    "while x<=10:\n",
    "    roll_no=int(input(\"Enter roll number in range 1000 to 9999 \\n\"))\n",
    "    if roll_no in range(1000,9999):\n",
    "        p=int(input(\"Enter number of physics:\\n\"))\n",
    "        c=int(input(\"Enter number of chemistry:\\n\"))\n",
    "        m=int(input(\"Enter number of mathematics:\\n\"))\n",
    "        my_dict1.update([(p+c+m,roll_no)])\n",
    "        #extra_dict.update([('physics',p)])\n",
    "        #extra_dict.update([('chemistry',c)])\n",
    "        #extra_dict.update([('maths',m)])\n",
    "        #extra_dict.update([('total',p+c+m)])\n",
    "        #my_dict.update([(roll_no,extra_dict)])\n",
    "        #extra_dict.clear()\n",
    "        if p>=40 and m>=40 and c>=40:\n",
    "            if p+c+m>200:\n",
    "                count+=1\n",
    "        x+=1       \n",
    "    else:\n",
    "        print(\"Roll number is not in this range.Enter again.\")\n",
    "print(f\"\\nThe number of students whose total is more than 200 are  {count}\") \n",
    "m=max(my_dict1)\n",
    "print(\"\\nThe roll number of students having highest marks are: \")\n",
    "for i in my_dict1:\n",
    "    if m==i:\n",
    "        print(my_dict1[i],end='\\t\\t\\t')\n"
   ]
  },
  {
   "cell_type": "code",
   "execution_count": 2,
   "metadata": {},
   "outputs": [
    {
     "name": "stdout",
     "output_type": "stream",
     "text": [
      "If you want to make n by n checkerboard, then enter value of n:\t5\n",
      "***** \n",
      " *****\n",
      "***** \n",
      " *****\n",
      "***** \n"
     ]
    }
   ],
   "source": [
    "#  Q33.  Write a program that inputs an integer n and displays an n-by-n checkerboard pattern.\n",
    "#If the value of n is 5, the pattern would be –\n",
    "# *  *  *  *  *\n",
    "#   *  *  *  *  *\n",
    "# *  *  *  *  *  \n",
    "#   *  *  *  *  *\n",
    "# *  *  *  *  *\n",
    "\n",
    "\n",
    "n=int(input(\"If you want to make n by n checkerboard, then enter value of n:\\t\"))\n",
    "for i in range(1,n+1):\n",
    "    if i%2==0:\n",
    "        y=('*'*n).rjust(n+1)\n",
    "        print(y)\n",
    "    else:\n",
    "        y=('*'*n).ljust(n+1)\n",
    "        print(y)\n",
    "    "
   ]
  },
  {
   "cell_type": "code",
   "execution_count": 36,
   "metadata": {},
   "outputs": [
    {
     "name": "stdout",
     "output_type": "stream",
     "text": [
      "*\n",
      "**\n",
      "***\n",
      "****\n",
      "*****\n"
     ]
    }
   ],
   "source": [
    "# Q34. a)\n",
    "\n",
    "for i in range(1,6):\n",
    "    print('*'*i)"
   ]
  },
  {
   "cell_type": "code",
   "execution_count": 44,
   "metadata": {},
   "outputs": [
    {
     "name": "stdout",
     "output_type": "stream",
     "text": [
      "1\n",
      "22\n",
      "333\n",
      "4444\n",
      "55555\n"
     ]
    }
   ],
   "source": [
    "# Q34. b)\n",
    "\n",
    "for i in range(1,6):\n",
    "    print(f\"{i}\"*i)"
   ]
  },
  {
   "cell_type": "code",
   "execution_count": 42,
   "metadata": {},
   "outputs": [
    {
     "name": "stdout",
     "output_type": "stream",
     "text": [
      "1\n",
      "12\n",
      "123\n",
      "1234\n",
      "12345\n"
     ]
    }
   ],
   "source": [
    "# Q34 c)\n",
    "\n",
    "for i in range(1,6):\n",
    "    for j in range(1,i+1):\n",
    "        print(j,end='')\n",
    "    print()    "
   ]
  },
  {
   "cell_type": "code",
   "execution_count": 82,
   "metadata": {},
   "outputs": [
    {
     "name": "stdout",
     "output_type": "stream",
     "text": [
      "2\n",
      "34\n",
      "456\n",
      "5678\n",
      "678910\n"
     ]
    }
   ],
   "source": [
    "#  Q34 d) \n",
    "\n",
    "\n",
    "num=2\n",
    "for i in range(1,6):\n",
    "    print(num,end='')\n",
    "    num1=num+1\n",
    "    for j in range(i-1):\n",
    "        print(num1,end='')\n",
    "        num1+=1\n",
    "    num+=1\n",
    "    print()"
   ]
  },
  {
   "cell_type": "code",
   "execution_count": 91,
   "metadata": {},
   "outputs": [
    {
     "name": "stdout",
     "output_type": "stream",
     "text": [
      "1\n",
      "01\n",
      "101\n",
      "0010\n",
      "11010\n"
     ]
    }
   ],
   "source": [
    "# Q34 e)\n",
    "num=1\n",
    "num1=1\n",
    "for i in range(1,6):\n",
    "    print(num,end='')\n",
    "    for j in range(i-1):\n",
    "        if num1==0:\n",
    "            print(num1,end='')\n",
    "            num1+=1\n",
    "        else:\n",
    "            print(num1,end='')\n",
    "            num1-=1\n",
    "    if num==1:\n",
    "        num-=1\n",
    "    else:\n",
    "        num+=1\n",
    "    print()\n",
    "        \n",
    "    "
   ]
  },
  {
   "cell_type": "code",
   "execution_count": 102,
   "metadata": {},
   "outputs": [
    {
     "name": "stdout",
     "output_type": "stream",
     "text": [
      "1\n",
      "23\n",
      "456\n",
      "78910\n",
      "1112131415\n"
     ]
    }
   ],
   "source": [
    "#  Q34 f)\n",
    "num=1\n",
    "for i in range(1,6):\n",
    "    for j in range(i):\n",
    "        print(num,end='')\n",
    "        num+=1\n",
    "    print()"
   ]
  },
  {
   "cell_type": "code",
   "execution_count": 104,
   "metadata": {},
   "outputs": [
    {
     "name": "stdout",
     "output_type": "stream",
     "text": [
      "5\n",
      "54\n",
      "543\n",
      "5432\n",
      "54321\n"
     ]
    }
   ],
   "source": [
    "# Q34 g)\n",
    "num=5\n",
    "for i in range(1,6):\n",
    "    print(num,end='')\n",
    "    num1=num-1\n",
    "    for j in range(i-1):\n",
    "        print(num1,end='')\n",
    "        num1-=1\n",
    "    print()    \n",
    "        "
   ]
  },
  {
   "cell_type": "code",
   "execution_count": 7,
   "metadata": {},
   "outputs": [
    {
     "name": "stdout",
     "output_type": "stream",
     "text": [
      "5\n",
      "44\n",
      "333\n",
      "2222\n",
      "11111\n"
     ]
    }
   ],
   "source": [
    "# Q34 h)\n",
    "\n",
    "\n",
    "num=5\n",
    "for i in range(1,6):\n",
    "    for j in range(i):\n",
    "        print(num,end='')\n",
    "    num-=1\n",
    "    print()\n",
    "        \n"
   ]
  },
  {
   "cell_type": "code",
   "execution_count": 8,
   "metadata": {},
   "outputs": [
    {
     "name": "stdout",
     "output_type": "stream",
     "text": [
      "*****\n",
      "****\n",
      "***\n",
      "**\n",
      "*\n"
     ]
    }
   ],
   "source": [
    "# Q34. i)\n",
    "\n",
    "for i in range(5,0,-1):\n",
    "    print(\"*\"*i)\n",
    "    "
   ]
  },
  {
   "cell_type": "code",
   "execution_count": 10,
   "metadata": {},
   "outputs": [
    {
     "name": "stdout",
     "output_type": "stream",
     "text": [
      "11111\n",
      "2222\n",
      "333\n",
      "22\n",
      "1\n"
     ]
    }
   ],
   "source": [
    "# Q34. j)\n",
    "\n",
    "num=1\n",
    "for i in range(5,0,-1):\n",
    "    if num<4:\n",
    "        print(f\"{num}\"*i)\n",
    "        num+=1\n",
    "    else:\n",
    "        num=2\n",
    "        print(f\"{num}\"*i)\n",
    "        num-=1"
   ]
  },
  {
   "cell_type": "code",
   "execution_count": 11,
   "metadata": {},
   "outputs": [
    {
     "name": "stdout",
     "output_type": "stream",
     "text": [
      "12345\n",
      "1234\n",
      "123\n",
      "12\n",
      "1\n"
     ]
    }
   ],
   "source": [
    "#  Q34 k)\n",
    "\n",
    "for i in range(5,0,-1):\n",
    "    for j in range(1,i+1):\n",
    "        print(j,end='')\n",
    "    print()\n",
    "    "
   ]
  },
  {
   "cell_type": "code",
   "execution_count": 12,
   "metadata": {},
   "outputs": [
    {
     "name": "stdout",
     "output_type": "stream",
     "text": [
      "55555\n",
      "4444\n",
      "333\n",
      "22\n",
      "1\n"
     ]
    }
   ],
   "source": [
    "#  Q34 l)\n",
    "\n",
    "for i in range(5,0,-1):\n",
    "    for j in range(1,i+1):\n",
    "        print(i,end='')\n",
    "    print()    \n",
    "        "
   ]
  },
  {
   "cell_type": "code",
   "execution_count": 13,
   "metadata": {},
   "outputs": [
    {
     "name": "stdout",
     "output_type": "stream",
     "text": [
      "54321\n",
      "5432\n",
      "543\n",
      "54\n",
      "5\n"
     ]
    }
   ],
   "source": [
    "# Q34 m)\n",
    "\n",
    "\n",
    "for i in range(5,0,-1):\n",
    "    num=5\n",
    "    for j in range(i,0,-1):\n",
    "        print(num,end='')\n",
    "        num-=1\n",
    "    print()\n",
    "    "
   ]
  },
  {
   "cell_type": "code",
   "execution_count": 36,
   "metadata": {},
   "outputs": [
    {
     "name": "stdout",
     "output_type": "stream",
     "text": [
      "        *\r\n",
      "       **\r\n",
      "      ***\r\n",
      "     ****\r\n",
      "    *****\r\n"
     ]
    }
   ],
   "source": [
    "# Q34 n).o)\n",
    "\n",
    " \n",
    "        \n",
    "        "
   ]
  },
  {
   "cell_type": "code",
   "execution_count": 34,
   "metadata": {},
   "outputs": [
    {
     "name": "stdout",
     "output_type": "stream",
     "text": [
      "          *\n",
      "         **\n",
      "        ***\n",
      "       ****\n",
      "      *****\n"
     ]
    }
   ],
   "source": [
    "# Q 34 p)\n",
    "\n",
    "\n",
    "k=10          # This question can be done by rjust ,ljust.\n",
    "for i in range(0,5):\n",
    "    for j in range(0,k):     # This loop is for initial spaces.\n",
    "        print(end=' ')\n",
    "    k-=1\n",
    "    for l in range(0,i+1):\n",
    "        print(\"*\",end='')\n",
    "    print()    "
   ]
  },
  {
   "cell_type": "code",
   "execution_count": 35,
   "metadata": {},
   "outputs": [
    {
     "name": "stdout",
     "output_type": "stream",
     "text": [
      "          1\n",
      "         12\n",
      "        123\n",
      "       1234\n",
      "      12345\n"
     ]
    }
   ],
   "source": [
    "# Q34 q)\n",
    "\n",
    "k=10\n",
    "for i in range(1,6):\n",
    "    for j in range(0,k):\n",
    "        print(end=' ')\n",
    "    k-=1\n",
    "    for l in range(1,i+1):\n",
    "        print(l,end='')\n",
    "    print()    "
   ]
  },
  {
   "cell_type": "code",
   "execution_count": 37,
   "metadata": {},
   "outputs": [],
   "source": [
    "# Q34 r).......\n",
    "\n"
   ]
  },
  {
   "cell_type": "code",
   "execution_count": 4,
   "metadata": {},
   "outputs": [
    {
     "name": "stdout",
     "output_type": "stream",
     "text": [
      "*******\n",
      "*******\n",
      "*******\n",
      "*******\n",
      "*******\n",
      "*******\n",
      "*******\n"
     ]
    }
   ],
   "source": [
    "# Q34 62a)\n",
    "\n",
    "for i in range(0,7):\n",
    "    for j in range(0,7):\n",
    "        print(\"*\",end='')\n",
    "    print()    "
   ]
  },
  {
   "cell_type": "code",
   "execution_count": 5,
   "metadata": {},
   "outputs": [
    {
     "name": "stdout",
     "output_type": "stream",
     "text": [
      "*******\n",
      "*     *\n",
      "*     *\n",
      "*     *\n",
      "*     *\n",
      "*     *\n",
      "*******"
     ]
    }
   ],
   "source": [
    "# Q34  62b)\n",
    "\n",
    "\n",
    "for i in range(0,7):\n",
    "    print(\"*\",end='')\n",
    "print()\n",
    "for j in range(0,5):\n",
    "    print(\"*\",end='')\n",
    "    for k in range(0,5):\n",
    "        print(end=' ')\n",
    "    print(\"*\") \n",
    "for l in range(0,7):\n",
    "    print(\"*\",end='')\n",
    "\n",
    "   "
   ]
  },
  {
   "cell_type": "code",
   "execution_count": 6,
   "metadata": {},
   "outputs": [
    {
     "name": "stdout",
     "output_type": "stream",
     "text": [
      "*******\n",
      "*     *\n",
      "*     *\n",
      "*     *\n",
      "*     *\n",
      "*     *\n",
      "*******\n"
     ]
    }
   ],
   "source": [
    "# alternate of Q34 62b)\n",
    "\n",
    "print('*******')\n",
    "for i in range(5):\n",
    "    y='*'.ljust(4)+'*'.rjust(3)\n",
    "    print(y)\n",
    "print('*******')    "
   ]
  },
  {
   "cell_type": "code",
   "execution_count": 7,
   "metadata": {},
   "outputs": [
    {
     "name": "stdout",
     "output_type": "stream",
     "text": [
      "    *    \n",
      "   ***   \n",
      "  *****  \n",
      " ******* \n",
      "*********\n"
     ]
    }
   ],
   "source": [
    "# Q34 r)\n",
    "\n",
    "\n",
    "x=5\n",
    "for i in range(5):\n",
    "    y=('*'*i).rjust(4)+'*'+('*'*i).ljust(4)\n",
    "    print(y)"
   ]
  },
  {
   "cell_type": "code",
   "execution_count": 9,
   "metadata": {},
   "outputs": [
    {
     "name": "stdout",
     "output_type": "stream",
     "text": [
      "    1    \n",
      "   222   \n",
      "  33333  \n",
      " 4444444 \n",
      "555555555\n"
     ]
    }
   ],
   "source": [
    "# Q34. s)\n",
    "\n",
    "x=5\n",
    "for i in range(1,6):\n",
    "    y=(str(i)*(i-1)).rjust(4)+str(i)+(str(i)*(i-1)).ljust(4)\n",
    "    print(y)"
   ]
  },
  {
   "cell_type": "code",
   "execution_count": 10,
   "metadata": {},
   "outputs": [],
   "source": [
    "# Q34 t)\n",
    "\n",
    "x=5\n",
    "k=[]\n",
    "for i in range(1,6):\n",
    "    for j in range(1,i+1):\n",
    "        k.append(i+1)"
   ]
  },
  {
   "cell_type": "code",
   "execution_count": 12,
   "metadata": {},
   "outputs": [
    {
     "name": "stdout",
     "output_type": "stream",
     "text": [
      "    *    \n",
      "   ***   \n",
      "  *****  \n",
      " ******* \n",
      "*********\n",
      "*********\n",
      " ******* \n",
      "  *****  \n",
      "   ***   \n",
      "    *    \n"
     ]
    }
   ],
   "source": [
    "# Q34 z3)\n",
    "\n",
    "x=5\n",
    "y=[]\n",
    "for i in range(5):\n",
    "    y.append(('*'*i).rjust(4)+'*'+('*'*i).ljust(4))\n",
    "print('\\n'.join(y+y[4::-1]))    # reverse of list start from 4 to end.\n",
    "    "
   ]
  },
  {
   "cell_type": "code",
   "execution_count": null,
   "metadata": {},
   "outputs": [],
   "source": []
  }
 ],
 "metadata": {
  "kernelspec": {
   "display_name": "Python 3",
   "language": "python",
   "name": "python3"
  },
  "language_info": {
   "codemirror_mode": {
    "name": "ipython",
    "version": 3
   },
   "file_extension": ".py",
   "mimetype": "text/x-python",
   "name": "python",
   "nbconvert_exporter": "python",
   "pygments_lexer": "ipython3",
   "version": "3.7.0"
  }
 },
 "nbformat": 4,
 "nbformat_minor": 2
}
