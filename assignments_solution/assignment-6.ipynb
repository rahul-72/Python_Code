{
 "cells": [
  {
   "cell_type": "code",
   "execution_count": 4,
   "metadata": {},
   "outputs": [
    {
     "name": "stdout",
     "output_type": "stream",
     "text": [
      "list1 = [10, 'a']\n",
      "list2 = [123]\n",
      "list3 = [10, 'a']\n"
     ]
    }
   ],
   "source": [
    "# Q1.\n",
    "def extendList(val, list=[]):\n",
    "    list.append(val)\n",
    "    return list\n",
    "\n",
    "list1 = extendList(10)\n",
    "list2 = extendList(123,[])\n",
    "list3 = extendList('a')\n",
    "\n",
    "print(\"list1 = %s\" % list1)\n",
    "print(\"list2 = %s\" % list2)\n",
    "print(\"list3 = %s\" % list3)\n"
   ]
  },
  {
   "cell_type": "code",
   "execution_count": 3,
   "metadata": {},
   "outputs": [
    {
     "name": "stdout",
     "output_type": "stream",
     "text": [
      "5/2=2.5\n",
      "5.0/2=2.5\n",
      "5//2=2\n",
      "5.0//2.0=2.0\n"
     ]
    }
   ],
   "source": [
    "# Q4. \n",
    "def div1(x,y):\n",
    "    print(f\"{x}/{y}={x/y}\")\n",
    "    \n",
    "def div2(x,y):\n",
    "    print(f\"{x}//{y}={x//y}\")\n",
    "\n",
    "div1(5,2)\n",
    "div1(5.,2)\n",
    "div2(5,2)\n",
    "div2(5.,2.)\n"
   ]
  },
  {
   "cell_type": "code",
   "execution_count": 4,
   "metadata": {},
   "outputs": [],
   "source": [
    "# Q5. easy\n"
   ]
  },
  {
   "cell_type": "code",
   "execution_count": 5,
   "metadata": {},
   "outputs": [],
   "source": [
    "# Q6. completed in assignment 8."
   ]
  },
  {
   "cell_type": "code",
   "execution_count": 3,
   "metadata": {},
   "outputs": [
    {
     "name": "stdout",
     "output_type": "stream",
     "text": [
      "How many itmes do you have?\t100\n",
      "Cost price of each item:\t9\n",
      "Selling price of each item:\t10\n",
      "How many items have you sold?\t40\n",
      "The number of items sold is 40.\n",
      "The total sale is 16040\n"
     ]
    }
   ],
   "source": [
    "# Q7. write an application where a shop keeper keep track of sold products as -\n",
    "    #Items\tprice\n",
    "    #write an application - to return total sales, no of items sold\n",
    "    \n",
    "item=int(input(\"How many itmes do you have?\\t\"))\n",
    "cp=int(input(\"Cost price of each item:\\t\"))\n",
    "sp=int(input(\"Selling price of each item:\\t\"))\n",
    "sold_item=int(input(\"How many items have you sold?\\t\"))\n",
    "cp*=sold_item\n",
    "sp*=sold_item\n",
    "profit=sp-cp\n",
    "total_sale=profit+(sp*sold_item)\n",
    "print(f\"\"\"The number of items sold is {sold_item}.\n",
    "The total sale is {total_sale}\"\"\")"
   ]
  },
  {
   "cell_type": "code",
   "execution_count": null,
   "metadata": {},
   "outputs": [],
   "source": []
  }
 ],
 "metadata": {
  "kernelspec": {
   "display_name": "Python 3",
   "language": "python",
   "name": "python3"
  },
  "language_info": {
   "codemirror_mode": {
    "name": "ipython",
    "version": 3
   },
   "file_extension": ".py",
   "mimetype": "text/x-python",
   "name": "python",
   "nbconvert_exporter": "python",
   "pygments_lexer": "ipython3",
   "version": "3.7.0"
  }
 },
 "nbformat": 4,
 "nbformat_minor": 2
}
