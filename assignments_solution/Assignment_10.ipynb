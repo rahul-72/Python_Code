{
 "cells": [
  {
   "cell_type": "code",
   "execution_count": 6,
   "metadata": {},
   "outputs": [
    {
     "data": {
      "text/plain": [
       "5632"
      ]
     },
     "execution_count": 6,
     "metadata": {},
     "output_type": "execute_result"
    }
   ],
   "source": [
    "# Q1) . Write a function reverse() that inputs a number and return the reverse of that number,\n",
    "#for example if input is 1293, function should return 3921\n",
    "\n",
    "def reverse(num):\n",
    "    c=0\n",
    "    for i in range(len(str(num))):\n",
    "        c=c*10+(num%10)\n",
    "        num=num//10\n",
    "    return c   \n",
    "reverse(2365)"
   ]
  },
  {
   "cell_type": "code",
   "execution_count": 13,
   "metadata": {},
   "outputs": [
    {
     "data": {
      "text/plain": [
       "'The number is palindrome.'"
      ]
     },
     "execution_count": 13,
     "metadata": {},
     "output_type": "execute_result"
    }
   ],
   "source": [
    "# Q2) . Using the function reverse() in previous program, make a function isPalindrome() that inputs a number \n",
    "#and checks whether it is a palindrome number. \n",
    "#A number is palindrome number if it remains same after reversing its digits, for example 949, 82328 are palindrome\n",
    "\n",
    "def ispalindrome(num):\n",
    "    temp_num=num\n",
    "    c=0\n",
    "    for i in range(len(str(num))):\n",
    "        c=c*10+(temp_num%10)\n",
    "        temp_num=temp_num//10\n",
    "    if c==num:\n",
    "        return f\"The number is palindrome.\"\n",
    "    else:\n",
    "        return \"The number is not palindrome\"\n",
    "ispalindrome(121)    "
   ]
  },
  {
   "cell_type": "code",
   "execution_count": 20,
   "metadata": {},
   "outputs": [
    {
     "data": {
      "text/plain": [
       "1"
      ]
     },
     "execution_count": 20,
     "metadata": {},
     "output_type": "execute_result"
    }
   ],
   "source": [
    "# Q3) . Write a function isprime() which takes a number and returns 1 if the number is prime and 0 otherwise.\n",
    "\n",
    "def isprime(num):\n",
    "    for i in range(2,num):\n",
    "        if num%i==0:\n",
    "            return 0\n",
    "    else:\n",
    "        return 1\n",
    "isprime(11)    "
   ]
  },
  {
   "cell_type": "code",
   "execution_count": 22,
   "metadata": {},
   "outputs": [
    {
     "name": "stdout",
     "output_type": "stream",
     "text": [
      "Prime numbers between 2 and 25 are:\t\n",
      "3 ,5 ,7 ,11 ,13 ,17 ,19 ,23 ,"
     ]
    }
   ],
   "source": [
    "# Q4) 4 Write a function that inputs two numbers and prints all prime numbers between those numbers. \n",
    "\n",
    "def prime(num1,num2):\n",
    "    print(f\"Prime numbers between {num1} and {num2} are:\\t\")\n",
    "    for i in range(num1+1,num2):\n",
    "        for j in range(2,i):\n",
    "            if i%j==0:\n",
    "                break\n",
    "        else:\n",
    "            print(i,end=' ,')\n",
    "prime(2,25)            "
   ]
  },
  {
   "cell_type": "code",
   "execution_count": 23,
   "metadata": {},
   "outputs": [
    {
     "data": {
      "text/plain": [
       "'0b1100'"
      ]
     },
     "execution_count": 23,
     "metadata": {},
     "output_type": "execute_result"
    }
   ],
   "source": [
    "# Q5) 5 Write a function that converts a decimal number to binary number. \n",
    "\n",
    "def convert(num):\n",
    "    return bin(num)\n",
    "convert(12)"
   ]
  },
  {
   "cell_type": "code",
   "execution_count": 24,
   "metadata": {},
   "outputs": [],
   "source": [
    "# Q6) Write a program to raise a floating point number to an integer power\n",
    "#(eg. an where a is floating point number and n is an integer value.) \n",
    "#Note: do not use ** and pow built function of python for this purpose\n",
    "\n"
   ]
  },
  {
   "cell_type": "code",
   "execution_count": 43,
   "metadata": {},
   "outputs": [
    {
     "data": {
      "text/plain": [
       "'please enter binary or octal number.'"
      ]
     },
     "execution_count": 43,
     "metadata": {},
     "output_type": "execute_result"
    }
   ],
   "source": [
    "# Q7) . Write a function that inputs a binary or octal number and converts to decimal number.\n",
    "\n",
    "def convert(num):\n",
    "    b=[0,1]\n",
    "    o=[0,1,2,3,4,5,6,7,8,9,]\n",
    "    def isbinary(num):\n",
    "        for i in str(num):\n",
    "            if i in b:\n",
    "                continue\n",
    "            else:\n",
    "                return isoctal(num)\n",
    "        return int(str(num),2)\n",
    "    def isoctal(num):\n",
    "        for i in str(num):\n",
    "            if i in o:\n",
    "                continue\n",
    "            else:\n",
    "                return \"please enter binary or octal number.\"\n",
    "        return int(str(num),8)\n",
    "    return isbinary(num)\n",
    "convert('010df')    "
   ]
  },
  {
   "cell_type": "code",
   "execution_count": 44,
   "metadata": {},
   "outputs": [
    {
     "name": "stdout",
     "output_type": "stream",
     "text": [
      "Enter number of total objects:\t5\n",
      "ENter number of objects taken at a time:\t2\n",
      "p(n,r) is \t20.0\n",
      "c(n,r) is \t10.0\n"
     ]
    }
   ],
   "source": [
    "# Q8) .  Write a program to implement these formulae of permutations and combinations.\n",
    "\n",
    "#Number of permutations of n objects taken r at a time is: \n",
    "#p(n,r) = n! / (n-r)!\n",
    "#Number of combinations of n objects taken r at a time is:\n",
    "#c(n,r) = n! / ( r! * (n-r)! )\n",
    "#or c(n,r) = p(n,r) / r!\n",
    "\n",
    "n=int(input(\"Enter number of total objects:\\t\"))\n",
    "r=int(input(\"ENter number of objects taken at a time:\\t\"))\n",
    "m=n-r\n",
    "x,y,z=1,1,1\n",
    "for i in range(n):\n",
    "    x=n*x\n",
    "    n=n-1\n",
    "for j in range(m):\n",
    "    y=y*m\n",
    "    m-=1\n",
    "for k in range(r):\n",
    "    z=z*r\n",
    "    r-=1\n",
    "print(f\"p(n,r) is \\t{x/y}\")\n",
    "print(f\"c(n,r) is \\t{(x/y)/z}\")\n",
    "    "
   ]
  },
  {
   "cell_type": "code",
   "execution_count": 45,
   "metadata": {},
   "outputs": [
    {
     "data": {
      "text/plain": [
       "' 1\\n    1 1\\n    1 2 1\\n    1 3 3 1\\n    1 4 6 4 1\\n    1 5 10 10 5 1\\n    1 6 15 20 15 6 1 '"
      ]
     },
     "execution_count": 45,
     "metadata": {},
     "output_type": "execute_result"
    }
   ],
   "source": [
    "# Q9) . Write a program to print Pascal’s triangle.\n",
    "\"\"\" 1\n",
    "    1 1\n",
    "    1 2 1\n",
    "    1 3 3 1\n",
    "    1 4 6 4 1\n",
    "    1 5 10 10 5 1\n",
    "    1 6 15 20 15 6 1 \"\"\"\n",
    "\n"
   ]
  },
  {
   "cell_type": "code",
   "execution_count": 51,
   "metadata": {},
   "outputs": [
    {
     "name": "stdout",
     "output_type": "stream",
     "text": [
      "Enter number:\t55\n",
      "lv"
     ]
    }
   ],
   "source": [
    "# Q10) 10 Write a program to convert a decimal number to roman number. \n",
    "#The roman numbers corresponding to decimal numbers are – \n",
    "#1 – i\t\t9 – ix\t\t100 – c \t\n",
    "#4 – iv\t\t10 – x\t500 – d \n",
    "#5 – v\t\t50 – l\t\t1000 – m \n",
    " \n",
    "#Example : - 14 – xiv\t\t123 – cxxiii\t\t1009 – mix\t\n",
    "#\t\t  48 – xxxxviii\t772 – dcclxxii\t2856 –mmdccclvi\t\n",
    "\n",
    "num=int(input(\"Enter number:\\t\"))\n",
    "l=[1000,500,100,50,10,9,5,4,1]\n",
    "l1=['m','d','c','l','x','ix','v','iv','i']\n",
    "for i in l:\n",
    "    print((l1[l.index(i)]*(num//i)),end='')\n",
    "    num=num%i"
   ]
  },
  {
   "cell_type": "code",
   "execution_count": 1,
   "metadata": {},
   "outputs": [
    {
     "name": "stdout",
     "output_type": "stream",
     "text": [
      "Enter number:\t56\n",
      "The prime factors of number {num} are :\t\n",
      "2,2,2,7,"
     ]
    }
   ],
   "source": [
    "# Q11) 11 Write a program to find out the prime factors of a number. Some examples of prime factors are – \n",
    "\n",
    "#Prime factors of 56 – 2, 2, 2, 7\n",
    "#Prime factors of 98 – 2, 7, 7\n",
    "#Prime factors of 121 – 11, 11\n",
    "\n",
    "num=int(input(\"Enter number:\\t\"))\n",
    "l=[]\n",
    "print(\"The prime factors of number {num} are :\\t\")\n",
    "c=2\n",
    "while num!=1:\n",
    "    if num%c==0:\n",
    "        l.append(c)\n",
    "        num//=c\n",
    "        c=2\n",
    "    else:\n",
    "        c+=1\n",
    "for i in l:\n",
    "    print(i,end=',')"
   ]
  },
  {
   "cell_type": "code",
   "execution_count": 6,
   "metadata": {},
   "outputs": [
    {
     "name": "stdout",
     "output_type": "stream",
     "text": [
      "Enter number:\t56\n",
      "The sum of cube of individual digits of number 56 is \t341\n"
     ]
    }
   ],
   "source": [
    "# Q12) . Write a function cubesum() that accepts an integer and \n",
    "#returns the sum of the cubes of individual digits of that number. \n",
    "\n",
    "num=int(input(\"Enter number:\\t\"))\n",
    "temp_num=num\n",
    "cube=0\n",
    "for i in range(len(str(num))):\n",
    "    cube+=((temp_num%10)**3)\n",
    "    temp_num//=10\n",
    "print(f\"The sum of cube of individual digits of number {num} is \\t{cube}\")    "
   ]
  },
  {
   "cell_type": "code",
   "execution_count": 7,
   "metadata": {},
   "outputs": [
    {
     "name": "stdout",
     "output_type": "stream",
     "text": [
      "Enter number:\t56\n",
      "The product of digits of number 56 is \t30\n"
     ]
    }
   ],
   "source": [
    "# Q13) Write a function prodDigits() that inputs a number and return the prduct of digits of that number.\n",
    "\n",
    "num=int(input(\"Enter number:\\t\"))\n",
    "temp_num=num\n",
    "pro=1\n",
    "for i in range(len(str(num))):\n",
    "    pro*=(temp_num%10)\n",
    "    temp_num//=10\n",
    "print(f\"The product of digits of number {num} is \\t{pro}\")    "
   ]
  },
  {
   "cell_type": "code",
   "execution_count": 11,
   "metadata": {},
   "outputs": [
    {
     "name": "stdout",
     "output_type": "stream",
     "text": [
      "Enter lower range:\t12\n",
      "Enter upper range:\t30\n",
      "The perfect numbers:\t\n",
      "28,"
     ]
    }
   ],
   "source": [
    "# Q14) A number is called perfect if the sum of proper divisor of that number is equal to the number. \n",
    "#For example 28 is a perfect number, since 1+2+4+7+14=28.\n",
    "#Write a program to print all the perfect numbers in a given range.\n",
    "\n",
    "num1=int(input(\"Enter lower range:\\t\"))\n",
    "num2=int(input(\"Enter upper range:\\t\"))\n",
    "l=[]\n",
    "l1=[]\n",
    "for i in range(num1+1,num2):\n",
    "    for j in range(1,i):\n",
    "        if i%j==0:\n",
    "            l.append(j)\n",
    "    if sum(l)==i:\n",
    "        l1.append(i)\n",
    "    l.clear()     \n",
    "if l1:    \n",
    "    print(f\"The perfect numbers:\\t\")\n",
    "    for k in l1:\n",
    "        print(k,end=',')\n",
    "else:\n",
    "    print(\"No number is perfect number from given range.\")"
   ]
  },
  {
   "cell_type": "code",
   "execution_count": 22,
   "metadata": {},
   "outputs": [
    {
     "name": "stdout",
     "output_type": "stream",
     "text": [
      "Enter lower range:\t100\n",
      "Enter upper range:\t1000\n",
      "The pairs amicable numbers in range 100-->>1000 are \t\n",
      "(220,284),(284,220),(496,496),"
     ]
    }
   ],
   "source": [
    "# Q15) . Two different numbers are called amicable number\n",
    "#if the sum of the proper divisors of each is equal to the other number. For example 220 and 284 are amicable numbers.\n",
    "#Sum of proper divisors of 220=1+2+4+5+10+11+20+22+44+55+110=284\n",
    "#Sum of proper divisors of 284=1+2+4+71+142=220.\n",
    "#Write a function to print pairs of amicable numbers in a range.\n",
    "\n",
    "lower=int(input(\"Enter lower range:\\t\"))\n",
    "upper=int(input(\"Enter upper range:\\t\"))\n",
    "l=[[] for i in range(lower+1,upper)]  # to store factors of a number\n",
    "l1=[i for i in range(lower+1,upper)]   # to store numbers in the range.\n",
    "c=0\n",
    "for num in range(lower+1,upper):\n",
    "    for j in range(1,num):\n",
    "        if num%j==0:\n",
    "            l[c].append(j)\n",
    "            \n",
    "    c+=1 \n",
    "print(f\"The pairs amicable numbers in range {lower}-->>{upper} are \\t\")    \n",
    "for k in l:\n",
    "    if sum(k) in l1:\n",
    "        if sum(l[l1.index(sum(k))])==l1[l.index(k)]:\n",
    "            print(f\"({l1[l.index(k)]},{sum(k)})\",end=',')\n",
    "            #l.remove(k)\n",
    "            #l.pop(l1.index(sum(k)))\n",
    "            #l1.remove(l1[l.index(k)])   # removing numbers from list l1 so that redundancy will not occur.\n",
    "            #l1.remove(sum(k))       # eg-> (220,284) (284,220)\n",
    "     \n",
    "    "
   ]
  },
  {
   "cell_type": "code",
   "execution_count": 23,
   "metadata": {},
   "outputs": [],
   "source": [
    "# Q16) . Write a single function to print both amicable pairs and perfect numbers.\n"
   ]
  },
  {
   "cell_type": "code",
   "execution_count": 28,
   "metadata": {},
   "outputs": [
    {
     "name": "stdout",
     "output_type": "stream",
     "text": [
      "The required inches are \t3.9000000000000004\n"
     ]
    }
   ],
   "source": [
    "# Q17) . Write a function convert() that can convert inches to cms and vice versa. \n",
    "#The first argument should be the length to be converted  and \n",
    "#second argument should be a character(‘I’ or ‘c’) denoting the measurement unit of the length given in first argument\n",
    "\n",
    "def convert(num,char):\n",
    "    if char.lower=='i':\n",
    "        print(f\"The required cm is \\t{2.54*num}\")\n",
    "    else:\n",
    "        print(f\"The required inches are \\t{0.39*num}\")\n",
    "convert(10,'c')        "
   ]
  },
  {
   "cell_type": "code",
   "execution_count": 31,
   "metadata": {},
   "outputs": [
    {
     "name": "stdout",
     "output_type": "stream",
     "text": [
      "The twin prime numbers less then 1000 are:\t\n",
      "(1,3),(3,5),(5,7),(11,13),(17,19),(29,31),(41,43),(59,61),(71,73),(101,103),(107,109),(137,139),(149,151),(179,181),(191,193),(197,199),(227,229),(239,241),(269,271),(281,283),(311,313),(347,349),(419,421),(431,433),(461,463),(521,523),(569,571),(599,601),(617,619),(641,643),(659,661),(809,811),(821,823),(827,829),(857,859),(881,883),"
     ]
    }
   ],
   "source": [
    "# Q18) . Write a program to print twin primes less than 1000.\n",
    "#If two consecutive odd numbers are both prime (eg. 17, 19)  then they are known as twin prime numbers.\n",
    "\n",
    "l=[]\n",
    "for num in range(1,1000):\n",
    "    for i in range(2,num):\n",
    "        if num%i==0:\n",
    "            break\n",
    "    else:\n",
    "        l.append(num)\n",
    "print(\"The twin prime numbers less then 1000 are:\\t\")        \n",
    "for var in l:\n",
    "    if var+2 in l:\n",
    "        print(f\"({var},{var+2})\",end=',')"
   ]
  },
  {
   "cell_type": "code",
   "execution_count": 34,
   "metadata": {},
   "outputs": [
    {
     "data": {
      "text/plain": [
       "0"
      ]
     },
     "execution_count": 34,
     "metadata": {},
     "output_type": "execute_result"
    }
   ],
   "source": [
    "# Q19) . Write a function isLeap() which inputs a year and return 1 if the year is leap otherwise 0.\n",
    "\n",
    "def isleap(year):\n",
    "    if year%100==0:\n",
    "        if year%400==0:\n",
    "            return 1\n",
    "        else:\n",
    "            return 0\n",
    "    else:\n",
    "        if year%4==0:\n",
    "            return 1\n",
    "        else:\n",
    "            return 0\n",
    "isleap(1900)        "
   ]
  },
  {
   "cell_type": "code",
   "execution_count": 41,
   "metadata": {},
   "outputs": [
    {
     "data": {
      "text/plain": [
       "321"
      ]
     },
     "execution_count": 41,
     "metadata": {},
     "output_type": "execute_result"
    }
   ],
   "source": [
    "# Q20) Write a recursive function that reverses an integer.\n",
    "#For example if the input is 43287 then the function should return the integer 78234\n",
    "\n",
    "def reverse(num,length=len(str(num))-1):\n",
    "    if num==0:\n",
    "        return 0\n",
    "    \n",
    "    return ((num%10)*(10**length))+reverse(num//10,length=length-1)\n",
    "reverse(123)"
   ]
  },
  {
   "cell_type": "code",
   "execution_count": null,
   "metadata": {},
   "outputs": [],
   "source": []
  }
 ],
 "metadata": {
  "kernelspec": {
   "display_name": "Python 3",
   "language": "python",
   "name": "python3"
  },
  "language_info": {
   "codemirror_mode": {
    "name": "ipython",
    "version": 3
   },
   "file_extension": ".py",
   "mimetype": "text/x-python",
   "name": "python",
   "nbconvert_exporter": "python",
   "pygments_lexer": "ipython3",
   "version": "3.7.0"
  }
 },
 "nbformat": 4,
 "nbformat_minor": 2
}
