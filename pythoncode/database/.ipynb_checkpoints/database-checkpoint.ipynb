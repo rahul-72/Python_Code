{
 "cells": [
  {
   "cell_type": "code",
   "execution_count": 1,
   "metadata": {},
   "outputs": [],
   "source": [
    "import sqlite3 as sql "
   ]
  },
  {
   "cell_type": "code",
   "execution_count": 2,
   "metadata": {},
   "outputs": [],
   "source": [
    "db = sql.connect(\"test.db\")"
   ]
  },
  {
   "cell_type": "code",
   "execution_count": 3,
   "metadata": {},
   "outputs": [],
   "source": [
    "cmd = \"create table users(email varchar(300) primary key,fname varchar(300), sname varchar(300),password varchar(500))\""
   ]
  },
  {
   "cell_type": "code",
   "execution_count": 4,
   "metadata": {},
   "outputs": [],
   "source": [
    "cursor = db.cursor()"
   ]
  },
  {
   "cell_type": "code",
   "execution_count": 5,
   "metadata": {},
   "outputs": [
    {
     "data": {
      "text/plain": [
       "<sqlite3.Cursor at 0x1b221a266c0>"
      ]
     },
     "execution_count": 5,
     "metadata": {},
     "output_type": "execute_result"
    }
   ],
   "source": [
    "cursor.execute(cmd)"
   ]
  },
  {
   "cell_type": "code",
   "execution_count": 9,
   "metadata": {},
   "outputs": [
    {
     "name": "stdout",
     "output_type": "stream",
     "text": [
      "Errorr!! table users already exists\n"
     ]
    }
   ],
   "source": [
    "try : \n",
    "    cursor.execute(cmd)\n",
    "except sql.OperationalError as e : \n",
    "    print(\"Errorr!!\",e)"
   ]
  },
  {
   "cell_type": "code",
   "execution_count": 10,
   "metadata": {},
   "outputs": [],
   "source": [
    "cmd = \"insert into users values ('sachin@gmail.com','sachin','yadav','redhat@123')\""
   ]
  },
  {
   "cell_type": "code",
   "execution_count": 11,
   "metadata": {},
   "outputs": [
    {
     "name": "stdout",
     "output_type": "stream",
     "text": [
      "insert into users values ('sachin@gmail.com','sachin','yadav','redhat@123')\n"
     ]
    }
   ],
   "source": [
    "print(cmd)"
   ]
  },
  {
   "cell_type": "code",
   "execution_count": 12,
   "metadata": {},
   "outputs": [
    {
     "data": {
      "text/plain": [
       "<sqlite3.Cursor at 0x1b221a266c0>"
      ]
     },
     "execution_count": 12,
     "metadata": {},
     "output_type": "execute_result"
    }
   ],
   "source": [
    "cursor.execute(cmd)"
   ]
  },
  {
   "cell_type": "code",
   "execution_count": 13,
   "metadata": {},
   "outputs": [
    {
     "name": "stdout",
     "output_type": "stream",
     "text": [
      "Enter email addresss : rajat@gmail.com\n",
      "Enter first_name : rajat\n",
      "Enter last_name : goyal\n",
      "Enter Password : hello@123\n"
     ]
    },
    {
     "data": {
      "text/plain": [
       "<sqlite3.Cursor at 0x1b221a266c0>"
      ]
     },
     "execution_count": 13,
     "metadata": {},
     "output_type": "execute_result"
    }
   ],
   "source": [
    "email = input(\"Enter email addresss : \")\n",
    "fname = input(\"Enter first_name : \")\n",
    "lname = input(\"Enter last_name : \")\n",
    "password = input(\"Enter Password : \")\n",
    "cmd = f\"insert into users values ('{email}','{fname}','{lname}','{password}') \"\n",
    "cursor.execute(cmd)"
   ]
  },
  {
   "cell_type": "code",
   "execution_count": 14,
   "metadata": {},
   "outputs": [
    {
     "name": "stdout",
     "output_type": "stream",
     "text": [
      "insert into users values('nidhi@grras.com','nidhi','sharma','anything\n",
      "')\n",
      "insert into users values('kushal@grras.com','kushal','samota','helloworld')\n"
     ]
    }
   ],
   "source": [
    "f = open(\"grras_data.txt\")\n",
    "for line in f : \n",
    "    line = line.split(',')\n",
    "    cmd = \"insert into users values('{}','{}','{}','{}')\".format(*line)\n",
    "    print(cmd)\n",
    "    cursor.execute(cmd)\n",
    "    "
   ]
  },
  {
   "cell_type": "code",
   "execution_count": 15,
   "metadata": {},
   "outputs": [],
   "source": [
    "db.commit()"
   ]
  },
  {
   "cell_type": "code",
   "execution_count": 16,
   "metadata": {},
   "outputs": [],
   "source": [
    "cursor.close()"
   ]
  },
  {
   "cell_type": "code",
   "execution_count": 17,
   "metadata": {},
   "outputs": [],
   "source": [
    "db.close()"
   ]
  },
  {
   "cell_type": "code",
   "execution_count": null,
   "metadata": {},
   "outputs": [],
   "source": []
  },
  {
   "cell_type": "code",
   "execution_count": null,
   "metadata": {},
   "outputs": [],
   "source": []
  },
  {
   "cell_type": "code",
   "execution_count": 1,
   "metadata": {},
   "outputs": [],
   "source": [
    "import sqlite3 as sql \n",
    "\n",
    "db = sql.connect(\"test.db\")\n",
    "cursor = db.cursor()"
   ]
  },
  {
   "cell_type": "code",
   "execution_count": 2,
   "metadata": {},
   "outputs": [],
   "source": [
    "cmd = \"select * from users\""
   ]
  },
  {
   "cell_type": "code",
   "execution_count": 3,
   "metadata": {},
   "outputs": [
    {
     "data": {
      "text/plain": [
       "<sqlite3.Cursor at 0xa99e96c6c0>"
      ]
     },
     "execution_count": 3,
     "metadata": {},
     "output_type": "execute_result"
    }
   ],
   "source": [
    "cursor.execute(cmd)"
   ]
  },
  {
   "cell_type": "code",
   "execution_count": 4,
   "metadata": {},
   "outputs": [],
   "source": [
    "data = cursor.fetchall()"
   ]
  },
  {
   "cell_type": "code",
   "execution_count": 5,
   "metadata": {},
   "outputs": [
    {
     "data": {
      "text/plain": [
       "[('sachin@gmail.com', 'sachin', 'yadav', 'redhat@123'),\n",
       " ('rajat@gmail.com', 'rajat', 'goyal', 'hello@123'),\n",
       " ('nidhi@grras.com', 'nidhi', 'sharma', 'anything\\n'),\n",
       " ('kushal@grras.com', 'kushal', 'samota', 'helloworld')]"
      ]
     },
     "execution_count": 5,
     "metadata": {},
     "output_type": "execute_result"
    }
   ],
   "source": [
    "data"
   ]
  },
  {
   "cell_type": "code",
   "execution_count": 25,
   "metadata": {},
   "outputs": [
    {
     "name": "stdout",
     "output_type": "stream",
     "text": [
      "update users set password='Asimov' where email='sachin@gmail.com'\n"
     ]
    }
   ],
   "source": [
    "cmd = \"update users set password='Asimov' where email='sachin@gmail.com'\"\n",
    "print(cmd)"
   ]
  },
  {
   "cell_type": "code",
   "execution_count": 26,
   "metadata": {},
   "outputs": [
    {
     "data": {
      "text/plain": [
       "<sqlite3.Cursor at 0x1b221b25d50>"
      ]
     },
     "execution_count": 26,
     "metadata": {},
     "output_type": "execute_result"
    }
   ],
   "source": [
    "cursor.execute(cmd)"
   ]
  },
  {
   "cell_type": "code",
   "execution_count": 6,
   "metadata": {},
   "outputs": [],
   "source": [
    "import os,json\n",
    "import MySQLdb as sql\n",
    "db=sql.connect(user='root',database='xyz',password='')"
   ]
  },
  {
   "cell_type": "code",
   "execution_count": 7,
   "metadata": {},
   "outputs": [],
   "source": [
    "cursor=db.cursor()"
   ]
  },
  {
   "cell_type": "code",
   "execution_count": 8,
   "metadata": {},
   "outputs": [
    {
     "data": {
      "text/plain": [
       "(('bank',),)"
      ]
     },
     "execution_count": 8,
     "metadata": {},
     "output_type": "execute_result"
    }
   ],
   "source": [
    "cursor.execute(\"show tables\")\n",
    "cursor.fetchall()"
   ]
  },
  {
   "cell_type": "code",
   "execution_count": null,
   "metadata": {},
   "outputs": [],
   "source": []
  },
  {
   "cell_type": "code",
   "execution_count": 9,
   "metadata": {},
   "outputs": [],
   "source": [
    "file=os.listdir(\"D:\\\\data_science\\\\github\\\\fullstack_projects\\\\bank_with_database\\\\static\\\\data\\\\bank\")"
   ]
  },
  {
   "cell_type": "code",
   "execution_count": 10,
   "metadata": {},
   "outputs": [
    {
     "data": {
      "text/plain": [
       "['nikhil123', 'sachin123']"
      ]
     },
     "execution_count": 10,
     "metadata": {},
     "output_type": "execute_result"
    }
   ],
   "source": [
    "file"
   ]
  },
  {
   "cell_type": "code",
   "execution_count": 11,
   "metadata": {},
   "outputs": [
    {
     "name": "stdout",
     "output_type": "stream",
     "text": [
      "{'email': 'sharma91nikhil@gmail.com', 'first_name': 'nikhil', 'last_name': 'sharma', 'password': 'nikhil456', 'username': 'nikhil123', 'balance': 20000, 'account_number': '35104953062', 'phone_number': 9474123456}\n",
      "['sharma91nikhil@gmail.com', 'nikhil', 'sharma', 'nikhil456', 'nikhil123', 20000, '35104953062', 9474123456]\n",
      "{'first_name': 'sachin', 'last_name': 'yadav', 'balance': 30000, 'account_number': '11100011101', 'username': 'sachin123', 'password': 'sachin456', 'email': 'sachinyadav96@gmail.com', 'phone_number': 9414789456}\n",
      "['sachin', 'yadav', 30000, '11100011101', 'sachin123', 'sachin456', 'sachinyadav96@gmail.com', 9414789456]\n"
     ]
    }
   ],
   "source": [
    "for file in os.listdir(\"D:\\\\data_science\\\\github\\\\fullstack_projects\\\\bank_with_database\\\\static\\\\data\\\\bank\"):\n",
    "    path=os.path.join(\"D:\\\\data_science\\\\github\\\\fullstack_projects\\\\bank_with_database\\\\static\\\\data\\\\bank\",file)\n",
    "    f= open(path)\n",
    "    data=json.load(f)\n",
    "    print(data)\n",
    "    value_list=[value for key,value in data.items()]\n",
    "    print(value_list)\n",
    "    cursor.execute(\"insert into bank(email,first_name,last_name,password,username,balance,account_number,phone_number) values('{}','{}','{}','{}','{}','{}','{}','{}')\".format(*value_list))\n",
    "    \n",
    "\n",
    "\"\"\"This is to send all files into database.\"\"\"\n",
    "    "
   ]
  },
  {
   "cell_type": "code",
   "execution_count": 33,
   "metadata": {},
   "outputs": [],
   "source": [
    "\n",
    "cursor.execute(\"select * from bank where username='rahul123'\")\n",
    "data=cursor.fetchone()"
   ]
  },
  {
   "cell_type": "code",
   "execution_count": 36,
   "metadata": {},
   "outputs": [
    {
     "data": {
      "text/plain": [
       "('rahul123',\n",
       " 'rahul',\n",
       " 'charan',\n",
       " 33000,\n",
       " '11100011100',\n",
       " 'rahul456',\n",
       " 'charan7rahul@gmail.com',\n",
       " 2147483647)"
      ]
     },
     "execution_count": 36,
     "metadata": {},
     "output_type": "execute_result"
    }
   ],
   "source": [
    "data"
   ]
  },
  {
   "cell_type": "code",
   "execution_count": 37,
   "metadata": {},
   "outputs": [
    {
     "data": {
      "text/plain": [
       "'rahul456'"
      ]
     },
     "execution_count": 37,
     "metadata": {},
     "output_type": "execute_result"
    }
   ],
   "source": [
    "data[5]"
   ]
  },
  {
   "cell_type": "code",
   "execution_count": null,
   "metadata": {},
   "outputs": [],
   "source": [
    "db.commit"
   ]
  }
 ],
 "metadata": {
  "kernelspec": {
   "display_name": "Python 3",
   "language": "python",
   "name": "python3"
  },
  "language_info": {
   "codemirror_mode": {
    "name": "ipython",
    "version": 3
   },
   "file_extension": ".py",
   "mimetype": "text/x-python",
   "name": "python",
   "nbconvert_exporter": "python",
   "pygments_lexer": "ipython3",
   "version": "3.7.0"
  }
 },
 "nbformat": 4,
 "nbformat_minor": 2
}
