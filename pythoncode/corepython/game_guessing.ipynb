{
 "cells": [
  {
   "cell_type": "code",
   "execution_count": 3,
   "metadata": {},
   "outputs": [
    {
     "name": "stdout",
     "output_type": "stream",
     "text": [
      "Enter your 1 guess: 52\n",
      "please enter lesser value.\n",
      "Enter your 2 guess: 22\n",
      "please enter greater value.\n",
      "Enter your 3 guess: 33\n",
      "please enter greater value.\n",
      "Enter your 4 guess: 31\n",
      "please enter greater value.\n",
      "Enter your 5 guess: 32\n",
      "please enter greater value.\n",
      "You are such a loser.\n",
      "The value of computer is 35\n"
     ]
    }
   ],
   "source": [
    "#computer will guess any random num between 1 - 50 \n",
    "# user has 5 chances to guess the number\n",
    "# if user guess is less at any point just print hint \n",
    "# messege guess is lower think high else opposite\n",
    "# if user wins print congrats you have won the game\n",
    "# if user loose than you such a looser\n",
    "\n",
    "\n",
    "\n",
    "from random import choice\n",
    "com=choice(range(1,50))\n",
    "c=1\n",
    "while c<=5:\n",
    "    num=int(input(f\"Enter your {c} guess: \"))\n",
    "    if com>num:\n",
    "        print(\"please enter greater value.\")\n",
    "    elif com<num:\n",
    "        print(\"please enter lesser value.\")\n",
    "    else:\n",
    "        print(\"You have won this game congratulation.\")\n",
    "        break\n",
    "    c+=1\n",
    "else:\n",
    "    print(\"You are such a loser.\")\n",
    "    print(f\"The value of computer is {com}\")\n"
   ]
  },
  {
   "cell_type": "code",
   "execution_count": null,
   "metadata": {},
   "outputs": [],
   "source": []
  }
 ],
 "metadata": {
  "kernelspec": {
   "display_name": "Python 3",
   "language": "python",
   "name": "python3"
  },
  "language_info": {
   "codemirror_mode": {
    "name": "ipython",
    "version": 3
   },
   "file_extension": ".py",
   "mimetype": "text/x-python",
   "name": "python",
   "nbconvert_exporter": "python",
   "pygments_lexer": "ipython3",
   "version": "3.7.0"
  }
 },
 "nbformat": 4,
 "nbformat_minor": 2
}
