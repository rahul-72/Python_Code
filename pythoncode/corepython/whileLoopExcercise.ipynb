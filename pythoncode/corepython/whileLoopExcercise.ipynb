{
 "cells": [
  {
   "cell_type": "code",
   "execution_count": 3,
   "metadata": {},
   "outputs": [
    {
     "name": "stdout",
     "output_type": "stream",
     "text": [
      "Enter your Guess[1]: 25\n",
      "Hint : Your Guess is High Think Low\n",
      "Enter your Guess[2]: 13\n",
      "Hint : Your Guess is High Think Low\n",
      "Enter your Guess[3]: 7\n",
      "Hint : Your Guess is Low Think High\n",
      "Enter your Guess[4]: 10\n",
      "Hint : Your Guess is Low Think High\n",
      "Enter your Guess[5]: 12\n",
      "Whola!!You Have Won The Game\n"
     ]
    }
   ],
   "source": [
    "#Guess Game\n",
    "from random import randint\n",
    "comGuess = randint(1,50)\n",
    "chance = 1\n",
    "while chance <= 5 : \n",
    "    userGuess = int(input(f\"Enter your Guess[{chance}]: \"))\n",
    "    if userGuess > 50 or userGuess < 1 : \n",
    "        print(\"Error!!Invalid Range Guess between 1-50 \")\n",
    "        continue\n",
    "    if userGuess > comGuess : \n",
    "        print(\"Hint : Your Guess is High Think Low\")\n",
    "    elif userGuess < comGuess : \n",
    "        print(\"Hint : Your Guess is Low Think High\")\n",
    "    else : \n",
    "        print(\"Whola!!You Have Won The Game\")\n",
    "        break\n",
    "    chance += 1\n",
    "else :\n",
    "    print(f\"Computer Guess Was : {comGuess}\")\n",
    "    print(\"!!You Such a looser\")"
   ]
  },
  {
   "cell_type": "code",
   "execution_count": 9,
   "metadata": {},
   "outputs": [
    {
     "name": "stdout",
     "output_type": "stream",
     "text": [
      "Enter return amount : 16735\n",
      "2000 = 8\n",
      "500 = 1\n",
      "200 = 1\n",
      "20 = 1\n",
      "10 = 1\n",
      "5 = 1\n"
     ]
    }
   ],
   "source": [
    "#note counting with help of loops\n",
    "\n",
    "notes = [2000,500,200,100,50,20,10,5,2,1]\n",
    "amount = int(input(\"Enter return amount : \"))\n",
    "count_notes = []\n",
    "index = 0 \n",
    "while index < len(notes) : \n",
    "    n = notes[index]\n",
    "    n,amount = divmod(amount,n)\n",
    "    count_notes.append(n)\n",
    "    index += 1\n",
    "else: \n",
    "    index = 0\n",
    "    while index < len(notes) : \n",
    "        if count_notes[index] : \n",
    "            print(f\"{notes[index]} = {count_notes[index]}\")\n",
    "        index += 1\n",
    "\n"
   ]
  },
  {
   "cell_type": "code",
   "execution_count": 8,
   "metadata": {},
   "outputs": [
    {
     "data": {
      "text/plain": [
       "[83, 2, 1, 1, 0, 1, 1, 1, 0, 1]"
      ]
     },
     "execution_count": 8,
     "metadata": {},
     "output_type": "execute_result"
    }
   ],
   "source": [
    "count_notes"
   ]
  },
  {
   "cell_type": "code",
   "execution_count": 6,
   "metadata": {},
   "outputs": [
    {
     "name": "stdout",
     "output_type": "stream",
     "text": [
      "8 735\n"
     ]
    }
   ],
   "source": [
    "v= 16735\n",
    "#n = v // 2000\n",
    "#v = v % 2000\n",
    "#print(n,v)\n",
    "n,v = divmod(v,2000)\n",
    "print(n,v)"
   ]
  },
  {
   "cell_type": "code",
   "execution_count": 5,
   "metadata": {},
   "outputs": [
    {
     "data": {
      "text/plain": [
       "(3, 1)"
      ]
     },
     "execution_count": 5,
     "metadata": {},
     "output_type": "execute_result"
    }
   ],
   "source": [
    "divmod(10,3)"
   ]
  },
  {
   "cell_type": "code",
   "execution_count": 11,
   "metadata": {},
   "outputs": [
    {
     "name": "stdout",
     "output_type": "stream",
     "text": [
      "Enter return amount : 16739\n",
      "2000 = 8\n",
      "500 = 1\n",
      "200 = 1\n",
      "20 = 1\n",
      "10 = 1\n",
      "5 = 1\n",
      "2 = 2\n"
     ]
    }
   ],
   "source": [
    "#note counting with help of loops\n",
    "notes = [2000,500,200,100,50,20,10,5,2,1]\n",
    "amount = int(input(\"Enter return amount : \"))\n",
    "index = 0 \n",
    "while index < len(notes) : \n",
    "    n = notes[index]\n",
    "    n,amount = divmod(amount,n)\n",
    "    if n : \n",
    "        print(f\"{notes[index]} = {n}\")\n",
    "    index += 1"
   ]
  },
  {
   "cell_type": "code",
   "execution_count": 19,
   "metadata": {},
   "outputs": [
    {
     "name": "stdout",
     "output_type": "stream",
     "text": [
      "Hello World, HI World, bye world\n"
     ]
    }
   ],
   "source": [
    "print(\"Hello World\",\"HI World\",'bye world',sep=', ')"
   ]
  },
  {
   "cell_type": "code",
   "execution_count": 20,
   "metadata": {},
   "outputs": [
    {
     "name": "stdout",
     "output_type": "stream",
     "text": [
      "1\n",
      "2\n",
      "3\n",
      "4\n",
      "5\n",
      "hi\n",
      "hello\n"
     ]
    }
   ],
   "source": [
    "l = [ 1,2,3,4,5,'hi','hello']\n",
    "print(*l,sep='\\n')\n",
    "#print(1,2,3,4,5,'hi','hello',sep='\\n)"
   ]
  },
  {
   "cell_type": "code",
   "execution_count": 26,
   "metadata": {},
   "outputs": [
    {
     "name": "stdout",
     "output_type": "stream",
     "text": [
      "Hello World\tHi World\n"
     ]
    }
   ],
   "source": [
    "print(\"Hello World\",end='\\t')\n",
    "print(\"Hi World\")"
   ]
  },
  {
   "cell_type": "code",
   "execution_count": 25,
   "metadata": {},
   "outputs": [
    {
     "name": "stdout",
     "output_type": "stream",
     "text": [
      "hello, hello, hello, hello, hello, hello, hello, hello, hello, hello, "
     ]
    }
   ],
   "source": [
    "c = 1 \n",
    "while c <= 10 : \n",
    "    print('hello',end=', ')\n",
    "    c = c + 1"
   ]
  },
  {
   "cell_type": "code",
   "execution_count": 28,
   "metadata": {},
   "outputs": [],
   "source": [
    "print?"
   ]
  },
  {
   "cell_type": "code",
   "execution_count": 29,
   "metadata": {},
   "outputs": [
    {
     "data": {
      "text/plain": [
       "'/home/hduser/Desktop/batch5pm2019'"
      ]
     },
     "execution_count": 29,
     "metadata": {},
     "output_type": "execute_result"
    }
   ],
   "source": [
    "pwd"
   ]
  },
  {
   "cell_type": "code",
   "execution_count": 30,
   "metadata": {},
   "outputs": [],
   "source": [
    "f = open(\"hello.txt\",\"w\")\n",
    "print(\"Hello world\",file=f)\n",
    "print(\"Hi world\",file=f)\n",
    "c = 1\n",
    "while c <= 5 : \n",
    "    print(c,end='\\t',file=f)\n",
    "    c = c + 1\n",
    "f.close()"
   ]
  },
  {
   "cell_type": "code",
   "execution_count": 32,
   "metadata": {},
   "outputs": [],
   "source": [
    "f = open(\"task1.txt\",\"w\")\n",
    "c = 1 \n",
    "while c <= 10 : \n",
    "    c1 = 1 \n",
    "    print(c,end='-->\\t',file=f)\n",
    "    while c1 <= c : \n",
    "        print(c1,end=',\\t',file=f)\n",
    "        c1 += 1\n",
    "    print(file=f)\n",
    "    c += 1\n",
    "f.close()\n"
   ]
  },
  {
   "cell_type": "code",
   "execution_count": 33,
   "metadata": {},
   "outputs": [
    {
     "name": "stdout",
     "output_type": "stream",
     "text": [
      "*\n",
      "**\n",
      "***\n",
      "****\n",
      "*****\n",
      "******\n",
      "*******\n",
      "********\n",
      "*********\n",
      "**********\n"
     ]
    }
   ],
   "source": [
    "c = 1 \n",
    "while c <= 10 : \n",
    "    c1 = 1 \n",
    "    while c1 <= c : \n",
    "        print(\"*\",end='')\n",
    "        c1 += 1\n",
    "    print()\n",
    "    c += 1"
   ]
  },
  {
   "cell_type": "code",
   "execution_count": 34,
   "metadata": {},
   "outputs": [
    {
     "name": "stdout",
     "output_type": "stream",
     "text": [
      "*\n",
      "**\n",
      "***\n",
      "****\n",
      "*****\n",
      "******\n",
      "*******\n",
      "********\n",
      "*********\n",
      "**********\n"
     ]
    }
   ],
   "source": [
    "c = 1\n",
    "while c <= 10 : \n",
    "    print(\"*\"*c)\n",
    "    c = c + 1"
   ]
  },
  {
   "cell_type": "code",
   "execution_count": 38,
   "metadata": {},
   "outputs": [
    {
     "name": "stdout",
     "output_type": "stream",
     "text": [
      "999999999\n",
      "88888888\n",
      "7777777\n",
      "666666\n",
      "55555\n",
      "4444\n",
      "333\n",
      "22\n",
      "1\n"
     ]
    }
   ],
   "source": [
    "c = 9 \n",
    "while c >= 1 : \n",
    "    print(f\"{c}\"*c)\n",
    "    c = c - 1"
   ]
  },
  {
   "cell_type": "code",
   "execution_count": 39,
   "metadata": {},
   "outputs": [],
   "source": [
    "#Algorithms --> sorting searching \n",
    "#searching --> linear search, binary search \n",
    "#sorting --> selection sort, insertion sort"
   ]
  },
  {
   "cell_type": "code",
   "execution_count": 40,
   "metadata": {},
   "outputs": [],
   "source": [
    "l = []"
   ]
  },
  {
   "cell_type": "code",
   "execution_count": 41,
   "metadata": {},
   "outputs": [
    {
     "name": "stdout",
     "output_type": "stream",
     "text": [
      "insert 0 5\n"
     ]
    }
   ],
   "source": [
    "cmd = input()"
   ]
  },
  {
   "cell_type": "code",
   "execution_count": 42,
   "metadata": {},
   "outputs": [
    {
     "data": {
      "text/plain": [
       "'insert 0 5'"
      ]
     },
     "execution_count": 42,
     "metadata": {},
     "output_type": "execute_result"
    }
   ],
   "source": [
    "cmd"
   ]
  },
  {
   "cell_type": "code",
   "execution_count": 43,
   "metadata": {},
   "outputs": [],
   "source": [
    "cmd = cmd.split()"
   ]
  },
  {
   "cell_type": "code",
   "execution_count": 44,
   "metadata": {},
   "outputs": [
    {
     "data": {
      "text/plain": [
       "['insert', '0', '5']"
      ]
     },
     "execution_count": 44,
     "metadata": {},
     "output_type": "execute_result"
    }
   ],
   "source": [
    "cmd"
   ]
  },
  {
   "cell_type": "code",
   "execution_count": 45,
   "metadata": {},
   "outputs": [],
   "source": [
    "if cmd[0] == 'insert' : \n",
    "    l.insert(int(cmd[1]),int(cmd[2]))"
   ]
  },
  {
   "cell_type": "code",
   "execution_count": 46,
   "metadata": {},
   "outputs": [
    {
     "data": {
      "text/plain": [
       "[5]"
      ]
     },
     "execution_count": 46,
     "metadata": {},
     "output_type": "execute_result"
    }
   ],
   "source": [
    "l"
   ]
  },
  {
   "cell_type": "code",
   "execution_count": 51,
   "metadata": {},
   "outputs": [
    {
     "name": "stdout",
     "output_type": "stream",
     "text": [
      "5\n",
      "insert 0 5\n",
      "insert 0 10\n",
      "print\n",
      "[10, 5]\n",
      "insert 1 9\n",
      "print\n",
      "[10, 9, 5]\n"
     ]
    }
   ],
   "source": [
    "l = []\n",
    "n = int(input())\n",
    "c = 1\n",
    "while c <= n : \n",
    "    cmd = input()\n",
    "    cmd_list = cmd.split()\n",
    "    if cmd_list[0] == 'insert' : \n",
    "        l.insert(int(cmd_list[1]),int(cmd_list[2]))\n",
    "    elif cmd_list[0] == 'print' : \n",
    "        print(l)\n",
    "    elif cmd_list[0] == 'pop' : \n",
    "        l.pop()\n",
    "    elif cmd_list[0] == 'sort' : \n",
    "        l.sort()\n",
    "    elif cmd_list[0] == 'remove' : \n",
    "        l.remove(int(cmd_list[1]))\n",
    "    elif cmd_list[0] == 'reverse' : \n",
    "        l.reverse()\n",
    "    elif cmd_list[0] == 'append' : \n",
    "        l.append(int(cmd_list[1]))\n",
    "    c = c + 1"
   ]
  },
  {
   "cell_type": "code",
   "execution_count": null,
   "metadata": {},
   "outputs": [],
   "source": []
  }
 ],
 "metadata": {
  "kernelspec": {
   "display_name": "Python 3",
   "language": "python",
   "name": "python3"
  },
  "language_info": {
   "codemirror_mode": {
    "name": "ipython",
    "version": 3
   },
   "file_extension": ".py",
   "mimetype": "text/x-python",
   "name": "python",
   "nbconvert_exporter": "python",
   "pygments_lexer": "ipython3",
   "version": "3.6.4"
  }
 },
 "nbformat": 4,
 "nbformat_minor": 2
}
