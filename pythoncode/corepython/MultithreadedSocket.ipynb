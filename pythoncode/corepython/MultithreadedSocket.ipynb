{
 "cells": [
  {
   "cell_type": "code",
   "execution_count": 1,
   "metadata": {},
   "outputs": [
    {
     "name": "stdout",
     "output_type": "stream",
     "text": [
      "Hello World\n"
     ]
    }
   ],
   "source": [
    "print(\"Hello World\")"
   ]
  },
  {
   "cell_type": "code",
   "execution_count": 5,
   "metadata": {},
   "outputs": [],
   "source": [
    "from time import sleep\n",
    "from random import choice\n",
    "l = [ 0.1,0.2,0.3,0.4,0.5,0.6,0.7,1,1.5,2]\n",
    "def hello(name):\n",
    "    for var in range(5):\n",
    "        print(\"Hello world\",name)\n",
    "        sleep(choice(l))\n",
    "def bye(fname,lname):\n",
    "    for var in range(5):\n",
    "        print(\"Bye World \",fname,lname)\n",
    "        sleep(choice(l))\n"
   ]
  },
  {
   "cell_type": "code",
   "execution_count": 7,
   "metadata": {},
   "outputs": [
    {
     "name": "stdout",
     "output_type": "stream",
     "text": [
      "Hello world sachin\n",
      "Hello world sachin\n",
      "Hello world sachin\n",
      "Hello world sachin\n",
      "Hello world sachin\n",
      "Bye World  sachin yadav\n",
      "Bye World  sachin yadav\n",
      "Bye World  sachin yadav\n",
      "Bye World  sachin yadav\n",
      "Bye World  sachin yadav\n"
     ]
    }
   ],
   "source": [
    "hello('sachin')\n",
    "bye('sachin', 'yadav')"
   ]
  },
  {
   "cell_type": "code",
   "execution_count": 4,
   "metadata": {},
   "outputs": [],
   "source": [
    "import threading"
   ]
  },
  {
   "cell_type": "code",
   "execution_count": 8,
   "metadata": {},
   "outputs": [],
   "source": [
    "th1 = threading.Thread(target=hello,args=('sachin',))\n",
    "th2 = threading.Thread(target=bye,args=('sachin','yadav'))"
   ]
  },
  {
   "cell_type": "code",
   "execution_count": 10,
   "metadata": {},
   "outputs": [
    {
     "name": "stdout",
     "output_type": "stream",
     "text": [
      "Hello world sachin\n",
      "Bye World  sachin yadav\n",
      "Bye World  sachin yadav\n",
      "Hello world sachin\n",
      "Bye World  sachin yadav\n",
      "Hello world sachin\n",
      "Bye World  sachin yadav\n",
      "Hello world sachin\n",
      "Bye World  sachin yadav\n",
      "Hello world sachin\n"
     ]
    }
   ],
   "source": [
    "th1.start()\n",
    "th2.start()\n",
    "th1.join()\n",
    "th2.join()"
   ]
  },
  {
   "cell_type": "code",
   "execution_count": null,
   "metadata": {},
   "outputs": [],
   "source": [
    "#client side coding\n",
    "def send(client):\n",
    "\twhile True : \n",
    "\t\tmsg  = input(\"server-->\")\n",
    "\t\tclient.send(msg.encode())\n",
    "\t\tif msg.lower().strip() == 'bye' :\n",
    "\t\t\tclient.close()\n",
    "\t\t\tprint(\"Connection closed by server\")\n",
    "\t\t\tbreak\n",
    "\t\t\n",
    "def recv(client):\n",
    "\twhile True : \n",
    "\t\tmsg = client.recv(1024).decode()\n",
    "\t\tmsg = f\"client--> {msg}\"\n",
    "\t\tprint(msg.rjust(50))\n",
    "\t\tif msg.lower().strip() == 'bye' : \n",
    "\t\t\tclient.close()\n",
    "\t\t\tprint(\"Connection closed by client\")\n",
    "\t\t\tbreak\n",
    "\t\t\n",
    "import socket\n",
    "import threading\n",
    "server = socket.socket() \n",
    "host = 'localhost'\n",
    "port = 12345\n",
    "server.connect((host,port))\n",
    "\n",
    "print(f\"Connected to {host}:{port}\")\n",
    "\n",
    "msg_send = threading.Thread(target=send,args=(server,))\n",
    "msg_recv = threading.Thread(target=recv,args=(server,))\n",
    "\n",
    "msg_send.start()\n",
    "msg_recv.start()\n",
    "\n",
    "msg_send.join()\n",
    "msg_recv.join() \t\t\t"
   ]
  },
  {
   "cell_type": "code",
   "execution_count": null,
   "metadata": {},
   "outputs": [],
   "source": [
    "#server file\n",
    "def send(client):\n",
    "\twhile True : \n",
    "\t\tmsg  = input(\"server-->\")\n",
    "\t\tclient.send(msg.encode())\n",
    "\t\tif msg.lower().strip() == 'bye' :\n",
    "\t\t\tclient.close()\n",
    "\t\t\tprint(\"Connection closed by server\")\n",
    "\t\t\tbreak\n",
    "\t\t\n",
    "def recv(client):\n",
    "\twhile True : \n",
    "\t\tmsg = client.recv(1024).decode()\n",
    "\t\tmsg = f\"client--> {msg}\"\n",
    "\t\tprint(msg.rjust(50))\n",
    "\t\tif msg.lower().strip() == 'bye' : \n",
    "\t\t\tclient.close()\n",
    "\t\t\tprint(\"Connection closed by client\")\n",
    "\t\t\tbreak\n",
    "\t\t\n",
    "import socket\n",
    "import threading\n",
    "server = socket.socket() \n",
    "host = 'localhost'\n",
    "port = 12345\n",
    "server.bind((host,port))\n",
    "server.listen()\n",
    "\n",
    "print(f\"Server is listing for clients on {host}:{port}\")\n",
    "client_socket,client_address = server.accept()\n",
    "print(f\"Got a connection from {client_address[0]}:{client_address[1]}\")\n",
    "\n",
    "msg_send = threading.Thread(target=send,args=(client_socket,))\n",
    "msg_recv = threading.Thread(target=recv,args=(client_socket,))\n",
    "\n",
    "msg_send.start()\n",
    "msg_recv.start()\n",
    "\n",
    "msg_send.join()\n",
    "msg_recv.join() \t\t\t\n"
   ]
  }
 ],
 "metadata": {
  "kernelspec": {
   "display_name": "Python 3",
   "language": "python",
   "name": "python3"
  },
  "language_info": {
   "codemirror_mode": {
    "name": "ipython",
    "version": 3
   },
   "file_extension": ".py",
   "mimetype": "text/x-python",
   "name": "python",
   "nbconvert_exporter": "python",
   "pygments_lexer": "ipython3",
   "version": "3.6.5"
  }
 },
 "nbformat": 4,
 "nbformat_minor": 2
}
