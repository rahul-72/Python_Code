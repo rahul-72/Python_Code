{
 "cells": [
  {
   "cell_type": "code",
   "execution_count": 2,
   "metadata": {},
   "outputs": [
    {
     "name": "stdout",
     "output_type": "stream",
     "text": [
      "Before Loop\n",
      "Hello world Times 1.\n",
      "Hello world Times 2.\n",
      "Hello world Times 3.\n",
      "Hello world Times 4.\n",
      "Hello world Times 5.\n",
      "Hello world Times 6.\n",
      "Hello world Times 7.\n",
      "Hello world Times 8.\n",
      "Hello world Times 9.\n",
      "Hello world Times 10.\n",
      "After Loop\n"
     ]
    }
   ],
   "source": [
    "c = 1\n",
    "print(\"Before Loop\")\n",
    "while c <= 10 : \n",
    "    print(f\"ello world Times {c}.\")\n",
    "    c = c + 1\n",
    "print(\"After Loop\")"
   ]
  },
  {
   "cell_type": "code",
   "execution_count": 3,
   "metadata": {},
   "outputs": [
    {
     "name": "stdout",
     "output_type": "stream",
     "text": [
      "Enter a number : 13\n",
      "13*1=13\n",
      "13*2=26\n",
      "13*3=39\n",
      "13*4=52\n",
      "13*5=65\n",
      "13*6=78\n",
      "13*7=91\n",
      "13*8=104\n",
      "13*9=117\n",
      "13*10=130\n"
     ]
    }
   ],
   "source": [
    "num = int(input(\"Enter a number : \"))\n",
    "c = 1\n",
    "while c <= 10 : \n",
    "    print(f\"{num}*{c}={num*c}\")\n",
    "    c = c + 1"
   ]
  },
  {
   "cell_type": "code",
   "execution_count": 4,
   "metadata": {},
   "outputs": [
    {
     "name": "stdout",
     "output_type": "stream",
     "text": [
      "Enter a number : 13\n",
      "0+13=13\n",
      "13+13=26\n",
      "26+13=39\n",
      "39+13=52\n",
      "52+13=65\n",
      "65+13=78\n",
      "78+13=91\n",
      "91+13=104\n",
      "104+13=117\n",
      "117+13=130\n"
     ]
    }
   ],
   "source": [
    "s = 0 \n",
    "c = 1\n",
    "num = int(input(\"Enter a number : \"))\n",
    "while c <= 10 : \n",
    "    print(f\"{s}+{num}={s+num}\")\n",
    "    s = s + num\n",
    "    c = c + 1"
   ]
  },
  {
   "cell_type": "code",
   "execution_count": 5,
   "metadata": {},
   "outputs": [
    {
     "name": "stdout",
     "output_type": "stream",
     "text": [
      "10    --------> 100  \n",
      "9     --------> 81   \n",
      "8     --------> 64   \n",
      "7     --------> 49   \n",
      "6     --------> 36   \n",
      "5     --------> 25   \n",
      "4     --------> 16   \n",
      "3     --------> 9    \n",
      "2     --------> 4    \n",
      "1     --------> 1    \n"
     ]
    }
   ],
   "source": [
    "c = 10 \n",
    "while c >= 1 : \n",
    "    print(f\"{c:<5} --------> {c**2:<5}\")\n",
    "    c = c - 1"
   ]
  },
  {
   "cell_type": "code",
   "execution_count": 6,
   "metadata": {},
   "outputs": [
    {
     "name": "stdout",
     "output_type": "stream",
     "text": [
      "1\n",
      "3\n",
      "5\n",
      "7\n",
      "9\n"
     ]
    }
   ],
   "source": [
    "c = 1\n",
    "while c <= 10 : \n",
    "    print(c)\n",
    "    c += 2"
   ]
  },
  {
   "cell_type": "code",
   "execution_count": 7,
   "metadata": {},
   "outputs": [
    {
     "name": "stdout",
     "output_type": "stream",
     "text": [
      "1\n",
      "3\n",
      "5\n",
      "7\n",
      "9\n"
     ]
    }
   ],
   "source": [
    "c = 1\n",
    "while c <= 10 :\n",
    "    print(c)\n",
    "    if c % 2 : \n",
    "        c += 2\n",
    "    else : \n",
    "        c += 2"
   ]
  },
  {
   "cell_type": "code",
   "execution_count": 8,
   "metadata": {},
   "outputs": [
    {
     "name": "stdout",
     "output_type": "stream",
     "text": [
      "Hello world\n",
      "Hello world\n",
      "Hello world\n",
      "Hello world\n",
      "Hello world\n",
      "Can i work here ? \n"
     ]
    }
   ],
   "source": [
    "c = 2 \n",
    "while c <= 10 : \n",
    "    print(\"Hello world\")\n",
    "    c += 2\n",
    "else : \n",
    "    print(\"Can i work here ? \")"
   ]
  },
  {
   "cell_type": "code",
   "execution_count": 10,
   "metadata": {},
   "outputs": [
    {
     "data": {
      "text/plain": [
       "5"
      ]
     },
     "execution_count": 10,
     "metadata": {},
     "output_type": "execute_result"
    }
   ],
   "source": [
    "l = [ 'apple','mangao','stone','graphes','orange']\n",
    "len(l)"
   ]
  },
  {
   "cell_type": "code",
   "execution_count": 13,
   "metadata": {},
   "outputs": [
    {
     "name": "stdout",
     "output_type": "stream",
     "text": [
      "I can eat :  apple\n",
      "I can eat :  mangao\n",
      "I can eat :  stone\n",
      "I can eat :  graphes\n",
      "I can eat :  orange\n",
      "I have eaten all items\n"
     ]
    }
   ],
   "source": [
    "index = 0 \n",
    "while index < len(l) : \n",
    "    print(\"I can eat : \",l[index])\n",
    "    index = index + 1\n",
    "else : \n",
    "    print(\"I have eaten all items\")"
   ]
  },
  {
   "cell_type": "code",
   "execution_count": 14,
   "metadata": {},
   "outputs": [
    {
     "name": "stdout",
     "output_type": "stream",
     "text": [
      "I can eat :  apple\n",
      "I can eat :  mangao\n"
     ]
    }
   ],
   "source": [
    "l = [ 'apple','mangao','stone','graphes','orange']\n",
    "index = 0 \n",
    "while index < len(l) : \n",
    "    if l[index] == 'stone' : \n",
    "        break\n",
    "    print(\"I can eat : \",l[index])\n",
    "    index = index + 1\n",
    "else : \n",
    "    print(\"I have eaten all items\")"
   ]
  },
  {
   "cell_type": "code",
   "execution_count": 15,
   "metadata": {},
   "outputs": [
    {
     "name": "stdout",
     "output_type": "stream",
     "text": [
      "Value is  1\n",
      "Value is  3\n",
      "Value is  5\n",
      "Value is  33\n"
     ]
    }
   ],
   "source": [
    "i = -1\n",
    "l = [ 1,3,5,33,2,4,23,2,23,2,5,6,2,1,2,4,2,21,]\n",
    "while i < len(l) :\n",
    "    i = i + 1\n",
    "    if l[i] % 2 : \n",
    "        print(\"Value is \",l[i])\n",
    "    else : \n",
    "        continue\n",
    "    if l[i] >= 30 : \n",
    "        break\n",
    "else : \n",
    "    print(\"Sab Theek Hai\")"
   ]
  },
  {
   "cell_type": "code",
   "execution_count": 18,
   "metadata": {},
   "outputs": [
    {
     "name": "stdout",
     "output_type": "stream",
     "text": [
      "Value of c =  1\n",
      "Value of c =  3\n",
      "Value of c =  5\n",
      "Value of c =  7\n",
      "Value of c =  9\n",
      "Hello World\n"
     ]
    }
   ],
   "source": [
    "c = 1\n",
    "while c <= 10 : \n",
    "    if c % 2 == 0 : \n",
    "        c = c + 1\n",
    "        continue\n",
    "        #pass\n",
    "    print(\"Value of c = \",c)\n",
    "    c = c + 1\n",
    "else : \n",
    "    print(\"Hello World\")"
   ]
  },
  {
   "cell_type": "code",
   "execution_count": 19,
   "metadata": {},
   "outputs": [
    {
     "name": "stdout",
     "output_type": "stream",
     "text": [
      "2\n",
      "4\n",
      "6\n",
      "8\n",
      "10\n"
     ]
    }
   ],
   "source": [
    "c = 1 \n",
    "while c <= 10 : \n",
    "    if c % 2 :\n",
    "        c = c + 1\n",
    "        continue\n",
    "    print(c)\n",
    "    if c % 5 == 0 : \n",
    "        break\n",
    "    c = c + 1\n",
    "else : \n",
    "    print(\"hello world\")"
   ]
  },
  {
   "cell_type": "code",
   "execution_count": 20,
   "metadata": {},
   "outputs": [],
   "source": [
    "from random import randint \n",
    "\n",
    "l = [ randint(1,50) for var in range(20)]"
   ]
  },
  {
   "cell_type": "code",
   "execution_count": 21,
   "metadata": {},
   "outputs": [
    {
     "data": {
      "text/plain": [
       "[25, 32, 24, 31, 45, 47, 3, 16, 22, 18, 37, 16, 39, 34, 42, 36, 22, 12, 22, 29]"
      ]
     },
     "execution_count": 21,
     "metadata": {},
     "output_type": "execute_result"
    }
   ],
   "source": [
    "l"
   ]
  },
  {
   "cell_type": "code",
   "execution_count": 22,
   "metadata": {},
   "outputs": [],
   "source": [
    "#tell how many time sixteen is there\n",
    "# and alse repesctive position \n",
    "# note --> you are not allowed to use index, count function of list\n"
   ]
  },
  {
   "cell_type": "code",
   "execution_count": 23,
   "metadata": {},
   "outputs": [],
   "source": [
    "#for 16\n",
    "#16 --> 8\n",
    "#16 --> 12\n",
    "#total = 2\n",
    "#100 is not list"
   ]
  },
  {
   "cell_type": "code",
   "execution_count": 25,
   "metadata": {},
   "outputs": [],
   "source": [
    "from random import randint \n",
    "\n",
    "mylist = [ randint(1,50) for var in range(20)]"
   ]
  },
  {
   "cell_type": "code",
   "execution_count": 28,
   "metadata": {},
   "outputs": [
    {
     "name": "stdout",
     "output_type": "stream",
     "text": [
      "23\n",
      "29\n",
      "8\n",
      "8\n",
      "13\n",
      "2\n",
      "16\n",
      "12\n",
      "46\n",
      "36\n",
      "31\n",
      "5\n",
      "23\n",
      "10\n",
      "28\n",
      "32\n",
      "45\n",
      "43\n",
      "31\n",
      "25\n"
     ]
    }
   ],
   "source": [
    "index = 0\n",
    "while index < len(mylist) : \n",
    "    print(mylist[index])\n",
    "    index += 1"
   ]
  },
  {
   "cell_type": "code",
   "execution_count": 33,
   "metadata": {},
   "outputs": [
    {
     "name": "stdout",
     "output_type": "stream",
     "text": [
      "[23, 29, 8, 8, 13, 2, 16, 12, 46, 36, 31, 5, 23, 10, 28, 32, 45, 43, 31, 25]\n",
      "Enter item8\n",
      "Item found 2 times in data\n",
      "Indexes where your item is -->  2 3\n"
     ]
    }
   ],
   "source": [
    "#linear search\n",
    "print(mylist)\n",
    "item = int(input(\"Enter item\"))\n",
    "counting = 0\n",
    "found_index = []\n",
    "index = 0\n",
    "while index < len(mylist) :  \n",
    "    if mylist[index] == item : \n",
    "        counting += 1\n",
    "        found_index.append(index)\n",
    "    index += 1\n",
    "else : \n",
    "    print(f\"Item found {counting} times in data\")\n",
    "    if found_index :\n",
    "        print(f\"Indexes where your item is --> \",*found_index)\n",
    "        "
   ]
  },
  {
   "cell_type": "code",
   "execution_count": 36,
   "metadata": {},
   "outputs": [
    {
     "data": {
      "text/plain": [
       "10"
      ]
     },
     "execution_count": 36,
     "metadata": {},
     "output_type": "execute_result"
    }
   ],
   "source": [
    "#Guessing\n",
    "randint(1,50)"
   ]
  },
  {
   "cell_type": "code",
   "execution_count": null,
   "metadata": {},
   "outputs": [],
   "source": [
    "#computer will guess any random num between 1 - 50 \n",
    "# user has 5 chances to guess the number\n",
    "# if user guess is less at any point just print hint \n",
    "# messege guess is lower think high else opposite\n",
    "# if user wins print congrats you have won the game\n",
    "# if user loose than you such a looser"
   ]
  }
 ],
 "metadata": {
  "kernelspec": {
   "display_name": "Python 3",
   "language": "python",
   "name": "python3"
  },
  "language_info": {
   "codemirror_mode": {
    "name": "ipython",
    "version": 3
   },
   "file_extension": ".py",
   "mimetype": "text/x-python",
   "name": "python",
   "nbconvert_exporter": "python",
   "pygments_lexer": "ipython3",
   "version": "3.6.4"
  }
 },
 "nbformat": 4,
 "nbformat_minor": 2
}
