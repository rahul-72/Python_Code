{
 "cells": [
  {
   "cell_type": "code",
   "execution_count": 3,
   "metadata": {},
   "outputs": [
    {
     "name": "stdout",
     "output_type": "stream",
     "text": [
      "Enter a number : 13\n",
      "Given Number 13 is Odd Number \n"
     ]
    }
   ],
   "source": [
    "num = int(input(\"Enter a number : \"))\n",
    "if num % 2 : \n",
    "    print(f\"Given Number {num} is Odd Number \")\n",
    "else : \n",
    "    print(f\"Given Number {num} is Even Number \")"
   ]
  },
  {
   "cell_type": "code",
   "execution_count": 4,
   "metadata": {},
   "outputs": [
    {
     "name": "stdout",
     "output_type": "stream",
     "text": [
      "Enter a number : 13\n",
      "Given Number 13 is Odd Number \n"
     ]
    }
   ],
   "source": [
    "num = int(input(\"Enter a number : \"))\n",
    "if num % 2 : \n",
    "    flag = \"Odd\"\n",
    "else : \n",
    "    flag = \"Even\"\n",
    "print(f\"Given Number {num} is {flag} Number \")"
   ]
  },
  {
   "cell_type": "code",
   "execution_count": 7,
   "metadata": {},
   "outputs": [
    {
     "name": "stdout",
     "output_type": "stream",
     "text": [
      "Enter something :  \n",
      "Good Boy!! keep it up \n"
     ]
    }
   ],
   "source": [
    "if input(\"Enter something : \") : \n",
    "    print(\"Good Boy!! keep it up \")\n",
    "else : \n",
    "    print(\"You such an idiot!!\")"
   ]
  },
  {
   "cell_type": "code",
   "execution_count": 8,
   "metadata": {},
   "outputs": [
    {
     "name": "stdout",
     "output_type": "stream",
     "text": [
      "let's move forward\n"
     ]
    }
   ],
   "source": [
    "if {} : \n",
    "    print(\"do you get this ? \")\n",
    "else : \n",
    "    print(\"let's move forward\")"
   ]
  },
  {
   "cell_type": "code",
   "execution_count": 15,
   "metadata": {},
   "outputs": [
    {
     "name": "stdout",
     "output_type": "stream",
     "text": [
      "Enter a year : 1997\n",
      "Given Year is not a Leap Year\n"
     ]
    }
   ],
   "source": [
    "year = int(input(\"Enter a year : \"))\n",
    "if year % 4 : \n",
    "    flag  = 'not'\n",
    "else : \n",
    "    if year % 100 : \n",
    "        flag = ''\n",
    "    else : \n",
    "        if year % 400 == 0 : \n",
    "            flag = ''\n",
    "        else : \n",
    "            flag ='not'\n",
    "            \n",
    "print(f\"Given Year is {flag} a Leap Year\")"
   ]
  },
  {
   "cell_type": "code",
   "execution_count": 23,
   "metadata": {},
   "outputs": [
    {
     "name": "stdout",
     "output_type": "stream",
     "text": [
      "Enter a year : 2400\n",
      "Given year 2400 is a leap year\n"
     ]
    }
   ],
   "source": [
    "year = int(input(\"Enter a year : \"))\n",
    "if year % 4 == 0 and year % 100  or  year % 400 == 0: \n",
    "    print(f\"Given year {year} is a leap year\")\n",
    "else : \n",
    "    print(f\"Given Year {year} is not a Leap Year\")"
   ]
  },
  {
   "cell_type": "raw",
   "metadata": {},
   "source": [
    "rock paper scissor\n",
    "player1    player2     winner \n",
    "\n",
    "rock       rock        Draw\n",
    "paper      paper       Draw\n",
    "scissor    scissor     Draw\n",
    "\n",
    "rock       scissor     player1\n",
    "paper      rock        palyer1\n",
    "scissor    paper       player1\n",
    "\n",
    "rock       paper       player2\n",
    "paper      scissor     player2\n",
    "scissor    rock        player2"
   ]
  },
  {
   "cell_type": "code",
   "execution_count": 27,
   "metadata": {},
   "outputs": [
    {
     "name": "stdout",
     "output_type": "stream",
     "text": [
      "Player1 Choice : ········\n",
      "Player2 Choice : ········\n",
      "rock\n",
      "scissor\n"
     ]
    }
   ],
   "source": [
    "from getpass import getpass\n",
    "ch1 = getpass(\"Player1 Choice : \").strip().lower()\n",
    "ch2 = getpass(\"Player2 Choice : \").strip().lower()\n",
    "\n",
    "print(ch1)\n",
    "print(ch2)"
   ]
  },
  {
   "cell_type": "code",
   "execution_count": 7,
   "metadata": {},
   "outputs": [
    {
     "name": "stdout",
     "output_type": "stream",
     "text": [
      "rock\n"
     ]
    }
   ],
   "source": [
    "from random import choice\n",
    "\n",
    "l = [ 'rock','paper','scissor']\n",
    "\n",
    "print(choice(l))"
   ]
  },
  {
   "cell_type": "code",
   "execution_count": null,
   "metadata": {},
   "outputs": [],
   "source": []
  }
 ],
 "metadata": {
  "kernelspec": {
   "display_name": "Python 3",
   "language": "python",
   "name": "python3"
  },
  "language_info": {
   "codemirror_mode": {
    "name": "ipython",
    "version": 3
   },
   "file_extension": ".py",
   "mimetype": "text/x-python",
   "name": "python",
   "nbconvert_exporter": "python",
   "pygments_lexer": "ipython3",
   "version": "3.7.1"
  }
 },
 "nbformat": 4,
 "nbformat_minor": 2
}
