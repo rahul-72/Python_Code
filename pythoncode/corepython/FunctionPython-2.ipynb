{
 "cells": [
  {
   "cell_type": "code",
   "execution_count": 1,
   "metadata": {},
   "outputs": [],
   "source": [
    "def hello(): #defination\n",
    "    print(\"Hello World\") #body\n",
    "    print(\"I am inside function\")"
   ]
  },
  {
   "cell_type": "code",
   "execution_count": 2,
   "metadata": {},
   "outputs": [
    {
     "name": "stdout",
     "output_type": "stream",
     "text": [
      "Hello World\n",
      "I am inside function\n"
     ]
    }
   ],
   "source": [
    "hello()"
   ]
  },
  {
   "cell_type": "code",
   "execution_count": 3,
   "metadata": {},
   "outputs": [
    {
     "name": "stdout",
     "output_type": "stream",
     "text": [
      "Hello World\n",
      "I am inside function\n",
      "Hello World\n",
      "I am inside function\n",
      "Hello World\n",
      "I am inside function\n",
      "Hello World\n",
      "I am inside function\n",
      "Hello World\n",
      "I am inside function\n"
     ]
    }
   ],
   "source": [
    "for var in range(5) : \n",
    "    hello()\n",
    "    "
   ]
  },
  {
   "cell_type": "code",
   "execution_count": 4,
   "metadata": {},
   "outputs": [
    {
     "name": "stdout",
     "output_type": "stream",
     "text": [
      "Hello World\n",
      "I am inside function\n",
      "None\n"
     ]
    }
   ],
   "source": [
    "x = hello()\n",
    "print(x)"
   ]
  },
  {
   "cell_type": "code",
   "execution_count": 6,
   "metadata": {},
   "outputs": [],
   "source": [
    "def add(x,y): #positional argumets, formal parameters \n",
    "    \"\"\"add(x,y) --> x+y\n",
    "    add(x,y) will return addition of var x and y.\n",
    "    >>>add(3,4)\n",
    "    7\n",
    "    >>>add(5,5)\n",
    "    10\n",
    "    \"\"\" #doc string\n",
    "    print(f\"x = {x}\")\n",
    "    print(f\"y = {y}\")\n",
    "    print(f\"{x}+{y}={x+y}\")\n",
    "    return x + y "
   ]
  },
  {
   "cell_type": "code",
   "execution_count": 7,
   "metadata": {},
   "outputs": [
    {
     "name": "stdout",
     "output_type": "stream",
     "text": [
      "Help on function add in module __main__:\n",
      "\n",
      "add(x, y)\n",
      "    add(x,y) --> x+y\n",
      "    add(x,y) will return addition of var x and y.\n",
      "    >>>add(3,4)\n",
      "    7\n",
      "    >>>add(5,5)\n",
      "    10\n",
      "\n"
     ]
    }
   ],
   "source": [
    "help(add)"
   ]
  },
  {
   "cell_type": "code",
   "execution_count": 8,
   "metadata": {},
   "outputs": [
    {
     "name": "stdout",
     "output_type": "stream",
     "text": [
      "add(x,y) --> x+y\n",
      "    add(x,y) will return addition of var x and y.\n",
      "    >>>add(3,4)\n",
      "    7\n",
      "    >>>add(5,5)\n",
      "    10\n",
      "    \n"
     ]
    }
   ],
   "source": [
    "print(add.__doc__)"
   ]
  },
  {
   "cell_type": "code",
   "execution_count": 9,
   "metadata": {},
   "outputs": [
    {
     "name": "stdout",
     "output_type": "stream",
     "text": [
      "Help on method_descriptor:\n",
      "\n",
      "append(self, object, /)\n",
      "    Append object to the end of the list.\n",
      "\n"
     ]
    }
   ],
   "source": [
    "help(list.append)"
   ]
  },
  {
   "cell_type": "code",
   "execution_count": 10,
   "metadata": {},
   "outputs": [
    {
     "name": "stdout",
     "output_type": "stream",
     "text": [
      "Help on method_descriptor:\n",
      "\n",
      "pop(self, index=-1, /)\n",
      "    Remove and return item at index (default last).\n",
      "    \n",
      "    Raises IndexError if list is empty or index is out of range.\n",
      "\n"
     ]
    }
   ],
   "source": [
    "help(list.pop)"
   ]
  },
  {
   "cell_type": "code",
   "execution_count": 11,
   "metadata": {},
   "outputs": [
    {
     "name": "stdout",
     "output_type": "stream",
     "text": [
      "x = 3\n",
      "y = 4\n",
      "3+4=7\n",
      "x = 5\n",
      "y = 7\n",
      "5+7=12\n"
     ]
    }
   ],
   "source": [
    "r1 = add(3,4)\n",
    "r2 = add(5,7)"
   ]
  },
  {
   "cell_type": "code",
   "execution_count": 12,
   "metadata": {},
   "outputs": [
    {
     "name": "stdout",
     "output_type": "stream",
     "text": [
      "7\n"
     ]
    }
   ],
   "source": [
    "print(r1)"
   ]
  },
  {
   "cell_type": "code",
   "execution_count": 13,
   "metadata": {},
   "outputs": [
    {
     "name": "stdout",
     "output_type": "stream",
     "text": [
      "12\n"
     ]
    }
   ],
   "source": [
    "print(r2)"
   ]
  },
  {
   "cell_type": "code",
   "execution_count": 14,
   "metadata": {},
   "outputs": [],
   "source": [
    "# you have to write a function that will return true if passed \n",
    "# argument is even else it will return FAlse"
   ]
  },
  {
   "cell_type": "code",
   "execution_count": 15,
   "metadata": {},
   "outputs": [
    {
     "name": "stdout",
     "output_type": "stream",
     "text": [
      "x = 3\n",
      "y = 4\n",
      "3+4=34\n"
     ]
    },
    {
     "data": {
      "text/plain": [
       "'34'"
      ]
     },
     "execution_count": 15,
     "metadata": {},
     "output_type": "execute_result"
    }
   ],
   "source": [
    "add('3','4')"
   ]
  },
  {
   "cell_type": "code",
   "execution_count": 16,
   "metadata": {},
   "outputs": [
    {
     "name": "stdout",
     "output_type": "stream",
     "text": [
      "x = [1, 2, 3, 4]\n",
      "y = ['hi', 'hello']\n",
      "[1, 2, 3, 4]+['hi', 'hello']=[1, 2, 3, 4, 'hi', 'hello']\n"
     ]
    },
    {
     "data": {
      "text/plain": [
       "[1, 2, 3, 4, 'hi', 'hello']"
      ]
     },
     "execution_count": 16,
     "metadata": {},
     "output_type": "execute_result"
    }
   ],
   "source": [
    "add([1,2,3,4],['hi','hello'])"
   ]
  },
  {
   "cell_type": "code",
   "execution_count": 17,
   "metadata": {},
   "outputs": [],
   "source": [
    "def add(x,y):\n",
    "    \"\"\"add(x,y) --> x+y\"\"\"\n",
    "    if isinstance(x,int) and isinstance(y,int): \n",
    "        return x+y \n",
    "    return \"Error!!Only works with integers\""
   ]
  },
  {
   "cell_type": "code",
   "execution_count": 18,
   "metadata": {},
   "outputs": [],
   "source": [
    "x = add(4,5)\n",
    "y = add('4','5')\n",
    "z = add([1,2,3],[4,5,6])"
   ]
  },
  {
   "cell_type": "code",
   "execution_count": 19,
   "metadata": {},
   "outputs": [
    {
     "name": "stdout",
     "output_type": "stream",
     "text": [
      "9\n",
      "Error!!Only works with integers\n",
      "Error!!Only works with integers\n"
     ]
    }
   ],
   "source": [
    "print(x)\n",
    "print(y)\n",
    "print(z)"
   ]
  },
  {
   "cell_type": "code",
   "execution_count": 20,
   "metadata": {},
   "outputs": [],
   "source": [
    "def even(num):\n",
    "    if isinstance(num,int) and num %2 == 0 : \n",
    "        return \"Even\"\n",
    "    elif isinstance(num,int) : \n",
    "        return \"Odd\"\n",
    "    return \"You should mind your input\""
   ]
  },
  {
   "cell_type": "code",
   "execution_count": 21,
   "metadata": {},
   "outputs": [
    {
     "data": {
      "text/plain": [
       "'You should mind your input'"
      ]
     },
     "execution_count": 21,
     "metadata": {},
     "output_type": "execute_result"
    }
   ],
   "source": [
    "even('hi')"
   ]
  },
  {
   "cell_type": "code",
   "execution_count": 22,
   "metadata": {},
   "outputs": [
    {
     "data": {
      "text/plain": [
       "'You should mind your input'"
      ]
     },
     "execution_count": 22,
     "metadata": {},
     "output_type": "execute_result"
    }
   ],
   "source": [
    "even(5.4)"
   ]
  },
  {
   "cell_type": "code",
   "execution_count": 23,
   "metadata": {},
   "outputs": [
    {
     "data": {
      "text/plain": [
       "'Odd'"
      ]
     },
     "execution_count": 23,
     "metadata": {},
     "output_type": "execute_result"
    }
   ],
   "source": [
    "even(15)"
   ]
  },
  {
   "cell_type": "code",
   "execution_count": 24,
   "metadata": {},
   "outputs": [
    {
     "data": {
      "text/plain": [
       "'Even'"
      ]
     },
     "execution_count": 24,
     "metadata": {},
     "output_type": "execute_result"
    }
   ],
   "source": [
    "even(16)"
   ]
  },
  {
   "cell_type": "code",
   "execution_count": 29,
   "metadata": {},
   "outputs": [
    {
     "name": "stdout",
     "output_type": "stream",
     "text": [
      "Enter a number : 127\n",
      "127 % 2 = 1\n",
      "127 // 2 = 63\n",
      "\n",
      "127 % 3 = 1\n",
      "127 // 3 = 42\n",
      "\n",
      "127 % 4 = 3\n",
      "127 // 4 = 31\n",
      "\n",
      "127 % 5 = 2\n",
      "127 // 5 = 25\n",
      "\n",
      "127 % 6 = 1\n",
      "127 // 6 = 21\n",
      "\n",
      "127 % 7 = 1\n",
      "127 // 7 = 18\n",
      "\n",
      "127 % 8 = 7\n",
      "127 // 8 = 15\n",
      "\n",
      "127 % 9 = 1\n",
      "127 // 9 = 14\n",
      "\n",
      "127 % 10 = 7\n",
      "127 // 10 = 12\n",
      "\n",
      "127 % 11 = 6\n",
      "127 // 11 = 11\n",
      "\n",
      "127 % 12 = 7\n",
      "127 // 12 = 10\n",
      "\n",
      "127 % 13 = 10\n",
      "127 // 13 = 9\n",
      "\n",
      "127 % 14 = 1\n",
      "127 // 14 = 9\n",
      "\n",
      "127 % 15 = 7\n",
      "127 // 15 = 8\n",
      "\n",
      "127 % 16 = 15\n",
      "127 // 16 = 7\n",
      "\n",
      "127 % 17 = 8\n",
      "127 // 17 = 7\n",
      "\n",
      "127 % 18 = 1\n",
      "127 // 18 = 7\n",
      "\n",
      "127 % 19 = 13\n",
      "127 // 19 = 6\n",
      "\n",
      "127 % 20 = 7\n",
      "127 // 20 = 6\n",
      "\n",
      "127 % 21 = 1\n",
      "127 // 21 = 6\n",
      "\n",
      "127 % 22 = 17\n",
      "127 // 22 = 5\n",
      "\n",
      "127 % 23 = 12\n",
      "127 // 23 = 5\n",
      "\n",
      "127 % 24 = 7\n",
      "127 // 24 = 5\n",
      "\n",
      "127 % 25 = 2\n",
      "127 // 25 = 5\n",
      "\n",
      "127 % 26 = 23\n",
      "127 // 26 = 4\n",
      "\n",
      "127 % 27 = 19\n",
      "127 // 27 = 4\n",
      "\n",
      "127 % 28 = 15\n",
      "127 // 28 = 4\n",
      "\n",
      "127 % 29 = 11\n",
      "127 // 29 = 4\n",
      "\n",
      "127 % 30 = 7\n",
      "127 // 30 = 4\n",
      "\n",
      "127 % 31 = 3\n",
      "127 // 31 = 4\n",
      "\n",
      "127 % 32 = 31\n",
      "127 // 32 = 3\n",
      "\n",
      "127 % 33 = 28\n",
      "127 // 33 = 3\n",
      "\n",
      "127 % 34 = 25\n",
      "127 // 34 = 3\n",
      "\n",
      "127 % 35 = 22\n",
      "127 // 35 = 3\n",
      "\n",
      "127 % 36 = 19\n",
      "127 // 36 = 3\n",
      "\n",
      "127 % 37 = 16\n",
      "127 // 37 = 3\n",
      "\n",
      "127 % 38 = 13\n",
      "127 // 38 = 3\n",
      "\n",
      "127 % 39 = 10\n",
      "127 // 39 = 3\n",
      "\n",
      "127 % 40 = 7\n",
      "127 // 40 = 3\n",
      "\n",
      "127 % 41 = 4\n",
      "127 // 41 = 3\n",
      "\n",
      "127 % 42 = 1\n",
      "127 // 42 = 3\n",
      "\n",
      "127 % 43 = 41\n",
      "127 // 43 = 2\n",
      "\n",
      "127 % 44 = 39\n",
      "127 // 44 = 2\n",
      "\n",
      "127 % 45 = 37\n",
      "127 // 45 = 2\n",
      "\n",
      "127 % 46 = 35\n",
      "127 // 46 = 2\n",
      "\n",
      "127 % 47 = 33\n",
      "127 // 47 = 2\n",
      "\n",
      "127 % 48 = 31\n",
      "127 // 48 = 2\n",
      "\n",
      "127 % 49 = 29\n",
      "127 // 49 = 2\n",
      "\n",
      "127 % 50 = 27\n",
      "127 // 50 = 2\n",
      "\n",
      "127 % 51 = 25\n",
      "127 // 51 = 2\n",
      "\n",
      "127 % 52 = 23\n",
      "127 // 52 = 2\n",
      "\n",
      "127 % 53 = 21\n",
      "127 // 53 = 2\n",
      "\n",
      "127 % 54 = 19\n",
      "127 // 54 = 2\n",
      "\n",
      "127 % 55 = 17\n",
      "127 // 55 = 2\n",
      "\n",
      "127 % 56 = 15\n",
      "127 // 56 = 2\n",
      "\n",
      "127 % 57 = 13\n",
      "127 // 57 = 2\n",
      "\n",
      "127 % 58 = 11\n",
      "127 // 58 = 2\n",
      "\n",
      "127 % 59 = 9\n",
      "127 // 59 = 2\n",
      "\n",
      "127 % 60 = 7\n",
      "127 // 60 = 2\n",
      "\n",
      "127 % 61 = 5\n",
      "127 // 61 = 2\n",
      "\n",
      "127 % 62 = 3\n",
      "127 // 62 = 2\n",
      "\n",
      "127 % 63 = 1\n",
      "127 // 63 = 2\n",
      "\n",
      "127 % 64 = 63\n",
      "127 // 64 = 1\n",
      "\n",
      "127 % 65 = 62\n",
      "127 // 65 = 1\n",
      "\n",
      "127 % 66 = 61\n",
      "127 // 66 = 1\n",
      "\n",
      "127 % 67 = 60\n",
      "127 // 67 = 1\n",
      "\n",
      "127 % 68 = 59\n",
      "127 // 68 = 1\n",
      "\n",
      "127 % 69 = 58\n",
      "127 // 69 = 1\n",
      "\n",
      "127 % 70 = 57\n",
      "127 // 70 = 1\n",
      "\n",
      "127 % 71 = 56\n",
      "127 // 71 = 1\n",
      "\n",
      "127 % 72 = 55\n",
      "127 // 72 = 1\n",
      "\n",
      "127 % 73 = 54\n",
      "127 // 73 = 1\n",
      "\n",
      "127 % 74 = 53\n",
      "127 // 74 = 1\n",
      "\n",
      "127 % 75 = 52\n",
      "127 // 75 = 1\n",
      "\n",
      "127 % 76 = 51\n",
      "127 // 76 = 1\n",
      "\n",
      "127 % 77 = 50\n",
      "127 // 77 = 1\n",
      "\n",
      "127 % 78 = 49\n",
      "127 // 78 = 1\n",
      "\n",
      "127 % 79 = 48\n",
      "127 // 79 = 1\n",
      "\n",
      "127 % 80 = 47\n",
      "127 // 80 = 1\n",
      "\n",
      "127 % 81 = 46\n",
      "127 // 81 = 1\n",
      "\n",
      "127 % 82 = 45\n",
      "127 // 82 = 1\n",
      "\n",
      "127 % 83 = 44\n",
      "127 // 83 = 1\n",
      "\n",
      "127 % 84 = 43\n",
      "127 // 84 = 1\n",
      "\n",
      "127 % 85 = 42\n",
      "127 // 85 = 1\n",
      "\n",
      "127 % 86 = 41\n",
      "127 // 86 = 1\n",
      "\n",
      "127 % 87 = 40\n",
      "127 // 87 = 1\n",
      "\n",
      "127 % 88 = 39\n",
      "127 // 88 = 1\n",
      "\n",
      "127 % 89 = 38\n",
      "127 // 89 = 1\n",
      "\n",
      "127 % 90 = 37\n",
      "127 // 90 = 1\n",
      "\n",
      "127 % 91 = 36\n",
      "127 // 91 = 1\n",
      "\n",
      "127 % 92 = 35\n",
      "127 // 92 = 1\n",
      "\n",
      "127 % 93 = 34\n",
      "127 // 93 = 1\n",
      "\n",
      "127 % 94 = 33\n",
      "127 // 94 = 1\n",
      "\n",
      "127 % 95 = 32\n",
      "127 // 95 = 1\n",
      "\n",
      "127 % 96 = 31\n",
      "127 // 96 = 1\n",
      "\n",
      "127 % 97 = 30\n",
      "127 // 97 = 1\n",
      "\n",
      "127 % 98 = 29\n",
      "127 // 98 = 1\n",
      "\n",
      "127 % 99 = 28\n",
      "127 // 99 = 1\n",
      "\n",
      "127 % 100 = 27\n",
      "127 // 100 = 1\n",
      "\n",
      "127 % 101 = 26\n",
      "127 // 101 = 1\n",
      "\n",
      "127 % 102 = 25\n",
      "127 // 102 = 1\n",
      "\n",
      "127 % 103 = 24\n",
      "127 // 103 = 1\n",
      "\n",
      "127 % 104 = 23\n",
      "127 // 104 = 1\n",
      "\n",
      "127 % 105 = 22\n",
      "127 // 105 = 1\n",
      "\n",
      "127 % 106 = 21\n",
      "127 // 106 = 1\n",
      "\n",
      "127 % 107 = 20\n",
      "127 // 107 = 1\n",
      "\n",
      "127 % 108 = 19\n",
      "127 // 108 = 1\n",
      "\n",
      "127 % 109 = 18\n",
      "127 // 109 = 1\n",
      "\n",
      "127 % 110 = 17\n",
      "127 // 110 = 1\n",
      "\n",
      "127 % 111 = 16\n",
      "127 // 111 = 1\n",
      "\n",
      "127 % 112 = 15\n",
      "127 // 112 = 1\n",
      "\n",
      "127 % 113 = 14\n",
      "127 // 113 = 1\n",
      "\n",
      "127 % 114 = 13\n",
      "127 // 114 = 1\n",
      "\n",
      "127 % 115 = 12\n",
      "127 // 115 = 1\n",
      "\n",
      "127 % 116 = 11\n",
      "127 // 116 = 1\n",
      "\n",
      "127 % 117 = 10\n",
      "127 // 117 = 1\n",
      "\n",
      "127 % 118 = 9\n",
      "127 // 118 = 1\n",
      "\n",
      "127 % 119 = 8\n",
      "127 // 119 = 1\n",
      "\n",
      "127 % 120 = 7\n",
      "127 // 120 = 1\n",
      "\n",
      "127 % 121 = 6\n",
      "127 // 121 = 1\n",
      "\n",
      "127 % 122 = 5\n",
      "127 // 122 = 1\n",
      "\n",
      "127 % 123 = 4\n",
      "127 // 123 = 1\n",
      "\n",
      "127 % 124 = 3\n",
      "127 // 124 = 1\n",
      "\n",
      "127 % 125 = 2\n",
      "127 // 125 = 1\n",
      "\n",
      "127 % 126 = 1\n",
      "127 // 126 = 1\n",
      "\n",
      "Prime\n"
     ]
    }
   ],
   "source": [
    "# Write a function to check whether  a num is prime or not\n",
    "num = int(input(\"Enter a number : \"))\n",
    "for check in range(2,num) : \n",
    "    print(f\"{num} % {check} = {num%check}\")\n",
    "    print(f\"{num} // {check} = {num//check}\")\n",
    "    print()\n",
    "    if num % check == 0 : \n",
    "        print(\"Not Prime\")\n",
    "        break \n",
    "else : \n",
    "    print(\"Prime\")"
   ]
  },
  {
   "cell_type": "code",
   "execution_count": 30,
   "metadata": {},
   "outputs": [
    {
     "name": "stdout",
     "output_type": "stream",
     "text": [
      "Enter a number : 127\n",
      "Prime\n"
     ]
    }
   ],
   "source": [
    "# Write a function to check whether  a num is prime or not\n",
    "num = int(input(\"Enter a number : \"))\n",
    "for check in range(2,num//2+1) : \n",
    "    if num % check == 0 : \n",
    "        print(\"Not Prime\")\n",
    "        break \n",
    "else : \n",
    "    print(\"Prime\")"
   ]
  },
  {
   "cell_type": "code",
   "execution_count": 33,
   "metadata": {},
   "outputs": [
    {
     "name": "stdout",
     "output_type": "stream",
     "text": [
      "Enter a number : 121\n",
      "Not Prime\n"
     ]
    }
   ],
   "source": [
    "#math --> prime --> 2 ---> sqrt(num)\n",
    "# Write a function to check whether  a num is prime or not\n",
    "num = int(input(\"Enter a number : \"))\n",
    "from math import sqrt\n",
    "for check in range(2,round(sqrt(num))+1) : \n",
    "    if num % check == 0 : \n",
    "        print(\"Not Prime\")\n",
    "        break \n",
    "else : \n",
    "    print(\"Prime\")"
   ]
  },
  {
   "cell_type": "code",
   "execution_count": 34,
   "metadata": {},
   "outputs": [],
   "source": [
    "def prime(num):\n",
    "    \"\"\"prime(num) --> it will True if num is prime else False\"\"\"\n",
    "    from math import sqrt\n",
    "    if isinstance(num,int) and num >= 2 : \n",
    "        if num <= 3 : \n",
    "            return \"Prime\"\n",
    "        last_check = round(sqrt(num))+1\n",
    "        for check_var in range(2,last_check+1) : \n",
    "            if num % check_var == 0 : \n",
    "                return \"Not Prime\"\n",
    "        return \"Prime\"\n",
    "    return \"Mind your Input\""
   ]
  },
  {
   "cell_type": "code",
   "execution_count": 35,
   "metadata": {},
   "outputs": [
    {
     "data": {
      "text/plain": [
       "'Mind your Input'"
      ]
     },
     "execution_count": 35,
     "metadata": {},
     "output_type": "execute_result"
    }
   ],
   "source": [
    "prime('aldskjflkdjsfl')"
   ]
  },
  {
   "cell_type": "code",
   "execution_count": 36,
   "metadata": {},
   "outputs": [
    {
     "data": {
      "text/plain": [
       "'Mind your Input'"
      ]
     },
     "execution_count": 36,
     "metadata": {},
     "output_type": "execute_result"
    }
   ],
   "source": [
    "prime(0)"
   ]
  },
  {
   "cell_type": "code",
   "execution_count": 37,
   "metadata": {},
   "outputs": [
    {
     "data": {
      "text/plain": [
       "'Mind your Input'"
      ]
     },
     "execution_count": 37,
     "metadata": {},
     "output_type": "execute_result"
    }
   ],
   "source": [
    "prime(-123)"
   ]
  },
  {
   "cell_type": "code",
   "execution_count": 38,
   "metadata": {},
   "outputs": [
    {
     "data": {
      "text/plain": [
       "'Mind your Input'"
      ]
     },
     "execution_count": 38,
     "metadata": {},
     "output_type": "execute_result"
    }
   ],
   "source": [
    "prime(23.34)"
   ]
  },
  {
   "cell_type": "code",
   "execution_count": 39,
   "metadata": {},
   "outputs": [
    {
     "data": {
      "text/plain": [
       "'Not Prime'"
      ]
     },
     "execution_count": 39,
     "metadata": {},
     "output_type": "execute_result"
    }
   ],
   "source": [
    "prime(121)"
   ]
  },
  {
   "cell_type": "code",
   "execution_count": 40,
   "metadata": {},
   "outputs": [
    {
     "data": {
      "text/plain": [
       "'Prime'"
      ]
     },
     "execution_count": 40,
     "metadata": {},
     "output_type": "execute_result"
    }
   ],
   "source": [
    "prime(127)"
   ]
  },
  {
   "cell_type": "code",
   "execution_count": 41,
   "metadata": {},
   "outputs": [],
   "source": [
    "username  = 'sachin'\n",
    "password = 'redhat'\n",
    "def login(uname,passwd) : \n",
    "    \"\"\"login(uname,passwd) --> True if login is sucessfull else\n",
    "it will return False\"\"\"\n",
    "    #your code goes here\n",
    "    \n",
    "login('hari','devta') # invalid username\n",
    "login('sachin','alkdjf') #invalid password\n",
    "login('sachin','redhat') # Sucessful"
   ]
  },
  {
   "cell_type": "code",
   "execution_count": 42,
   "metadata": {},
   "outputs": [],
   "source": [
    "def login(uname,passwd):\n",
    "    if uname.lower().strip() == username :\n",
    "        if passwd == password : \n",
    "            return \"login Successfully\"\n",
    "        return \"Invalid Password\"\n",
    "    return \"Invalid Username\"\n",
    "    "
   ]
  },
  {
   "cell_type": "code",
   "execution_count": 43,
   "metadata": {},
   "outputs": [
    {
     "data": {
      "text/plain": [
       "'Invalid Username'"
      ]
     },
     "execution_count": 43,
     "metadata": {},
     "output_type": "execute_result"
    }
   ],
   "source": [
    "login('rajat','redhat')"
   ]
  },
  {
   "cell_type": "code",
   "execution_count": 44,
   "metadata": {},
   "outputs": [
    {
     "data": {
      "text/plain": [
       "'Invalid Password'"
      ]
     },
     "execution_count": 44,
     "metadata": {},
     "output_type": "execute_result"
    }
   ],
   "source": [
    "login('sachin','python')"
   ]
  },
  {
   "cell_type": "code",
   "execution_count": 45,
   "metadata": {},
   "outputs": [
    {
     "data": {
      "text/plain": [
       "'login Successfully'"
      ]
     },
     "execution_count": 45,
     "metadata": {},
     "output_type": "execute_result"
    }
   ],
   "source": [
    "login('    SaCHiN   ','redhat') #actual arguments"
   ]
  },
  {
   "cell_type": "code",
   "execution_count": 46,
   "metadata": {},
   "outputs": [],
   "source": [
    "# Bank Application\n",
    "\n",
    "data = { \n",
    "            1001 : { 'name':'ram','password':'redhat','bal':15000},\n",
    "            1002 : { 'name':'shyam','password':'something','bal':25000},\n",
    "            1003 : { 'name':'jhon','password':'iamcool','bal':35000}\n",
    "            }"
   ]
  },
  {
   "cell_type": "code",
   "execution_count": 47,
   "metadata": {},
   "outputs": [],
   "source": [
    "#write a bank application\n",
    "\n",
    "#login\n",
    "#signup\n",
    "#debit\n",
    "#credit\n",
    "#chkbalance"
   ]
  },
  {
   "cell_type": "code",
   "execution_count": null,
   "metadata": {},
   "outputs": [],
   "source": []
  }
 ],
 "metadata": {
  "kernelspec": {
   "display_name": "Python 3",
   "language": "python",
   "name": "python3"
  },
  "language_info": {
   "codemirror_mode": {
    "name": "ipython",
    "version": 3
   },
   "file_extension": ".py",
   "mimetype": "text/x-python",
   "name": "python",
   "nbconvert_exporter": "python",
   "pygments_lexer": "ipython3",
   "version": "3.7.1"
  }
 },
 "nbformat": 4,
 "nbformat_minor": 2
}
