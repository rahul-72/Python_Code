{
 "cells": [
  {
   "cell_type": "code",
   "execution_count": 1,
   "metadata": {},
   "outputs": [
    {
     "name": "stdout",
     "output_type": "stream",
     "text": [
      "This is rock_paper_scissor game .Both players have to enter thier choice from rock,paper,scissor.\n",
      "Enter player 1 choice: rock\n",
      "Enter player 2 choice: paper\n",
      "Player 2 is a winner.\n"
     ]
    }
   ],
   "source": [
    "#Rock-paper-scissor game between two player.Here thier input is visible.\n",
    "\n",
    "print(\"This is rock_paper_scissor game .Both players have to enter thier choice from rock,paper,scissor.\")\n",
    "a=input(\"Enter player 1 choice: \").strip().lower()\n",
    "b=input(\"Enter player 2 choice: \").strip().lower()\n",
    "if a!=b:\n",
    "    if a==\"rock\" and b==\"scissor\" or a==\"scissor\" and b==\"paper\" or a==\"paper\" and b==\"rock\":\n",
    "        print(\"Player 1 is a winner.\")\n",
    "    else:\n",
    "        print(\"Player 2 is a winner.\")\n",
    "else:\n",
    "    print(\"Match is draw.\")"
   ]
  },
  {
   "cell_type": "code",
   "execution_count": 1,
   "metadata": {},
   "outputs": [
    {
     "name": "stdout",
     "output_type": "stream",
     "text": [
      "This is rock_paper_scissor game .Both players have to enter thier choice from rock,paper,scissor.\n",
      "Enter player 1 choice: ········\n",
      "Enter player 2 choice: ········\n",
      "Player 2 is a winner.\n",
      "Choice of player 1 is rock.\n",
      "Choice of player 2 is paper.\n"
     ]
    }
   ],
   "source": [
    "#rock-paper-scissor game between two player and thier input is not visible.\n",
    "\n",
    "\n",
    "print(\"This is rock_paper_scissor game .Both players have to enter thier choice from rock,paper,scissor.\")\n",
    "from getpass import getpass\n",
    "a=getpass(\"Enter player 1 choice: \").strip().lower()\n",
    "b=getpass(\"Enter player 2 choice: \").strip().lower()\n",
    "if a!=b:\n",
    "    if a==\"rock\" and b==\"scissor\" or a==\"scissor\" and b==\"paper\" or a==\"paper\" and b==\"rock\":\n",
    "        print(\"Player 1 is a winner.\")\n",
    "    else:\n",
    "        print(\"Player 2 is a winner.\")\n",
    "else:\n",
    "    print(\"Match is draw.\")\n",
    "print(f\"\"\"Choice of player 1 is {a}.\n",
    "Choice of player 2 is {b}.\"\"\")    "
   ]
  },
  {
   "cell_type": "code",
   "execution_count": 2,
   "metadata": {},
   "outputs": [
    {
     "name": "stdout",
     "output_type": "stream",
     "text": [
      "This is rock_paper_scissor game between you and computer .You have to enter choice from rock,paper,scissor.\n",
      "Enter player's choice: rock\n",
      "Computer is a winner.\n",
      "Choice of computer is paper\n"
     ]
    }
   ],
   "source": [
    "#rock-paper-scissor game between computer and player.\n",
    "\n",
    "\n",
    "print(\"This is rock_paper_scissor game between you and computer .You have to enter choice from rock,paper,scissor.\")\n",
    "from random import choice\n",
    "l=['rock','scissor','paper']\n",
    "a=choice(l)\n",
    "b=input(\"Enter player's choice: \").strip().lower()\n",
    "if a!=b:\n",
    "    if a==\"rock\" and b==\"scissor\" or a==\"scissor\" and b==\"paper\" or a==\"paper\" and b==\"rock\":\n",
    "        print(\"Computer is a winner.\")\n",
    "    else:\n",
    "        print(\"Player  is a winner.\")\n",
    "else:\n",
    "    print(\"Match is draw.\")\n",
    "print(f\"Choice of computer is {a}\")    "
   ]
  },
  {
   "cell_type": "code",
   "execution_count": 3,
   "metadata": {},
   "outputs": [
    {
     "name": "stdout",
     "output_type": "stream",
     "text": [
      "This is a rock,paper,scissor game between you and computer.\n",
      "Enter user choice: rocK\n",
      "The computer choice is paper\n",
      "The user choice is rock\n",
      "Computer win\n"
     ]
    }
   ],
   "source": [
    "print(\"This is a rock,paper,scissor game between you and computer.\")\n",
    "import random\n",
    "l=['rock','paper','scissor']\n",
    "com_choice=random.choice(l)\n",
    "user_choice=input(\"Enter user choice: \").strip().lower()\n",
    "user_win=[('rock','scissor'),('scissor','paper'),('paper','rock')]\n",
    "print(f\"The computer choice is {com_choice}\")\n",
    "print(f\"The user choice is {user_choice}\")\n",
    "if user_choice!=com_choice:\n",
    "    if (user_choice,com_choice) in user_win:\n",
    "        print(\"user win\")\n",
    "    else:\n",
    "        print(\"Computer win\")\n",
    "else:\n",
    "    print(\"Match draw\")"
   ]
  },
  {
   "cell_type": "code",
   "execution_count": null,
   "metadata": {},
   "outputs": [],
   "source": []
  }
 ],
 "metadata": {
  "kernelspec": {
   "display_name": "Python 3",
   "language": "python",
   "name": "python3"
  },
  "language_info": {
   "codemirror_mode": {
    "name": "ipython",
    "version": 3
   },
   "file_extension": ".py",
   "mimetype": "text/x-python",
   "name": "python",
   "nbconvert_exporter": "python",
   "pygments_lexer": "ipython3",
   "version": "3.7.0"
  }
 },
 "nbformat": 4,
 "nbformat_minor": 2
}
