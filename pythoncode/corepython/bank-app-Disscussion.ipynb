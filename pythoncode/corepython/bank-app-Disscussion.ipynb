{
 "cells": [
  {
   "cell_type": "code",
   "execution_count": 1,
   "metadata": {},
   "outputs": [],
   "source": [
    "data = {\n",
    "    1001:{'name':'john','password':'redhat','bal':50000.0},\n",
    "    1002:{'name':'natasha','password':'toor','bal':13500.0},\n",
    "    1003:{'name':'harry','password':'Asimov','bal':75000.0}\n",
    "        }\n",
    "\n"
   ]
  },
  {
   "cell_type": "code",
   "execution_count": 2,
   "metadata": {},
   "outputs": [],
   "source": [
    "def decorator(old_func):\n",
    "    def work(*args,**kwargs):\n",
    "        print(\"*\"*70)\n",
    "        print(\"*\"*70)\n",
    "        print()\n",
    "        old_func(*args,**kwargs)\n",
    "        print()\n",
    "        print(\"*\"*70)\n",
    "        print(\"*\"*70)\n",
    "    "
   ]
  },
  {
   "cell_type": "code",
   "execution_count": null,
   "metadata": {},
   "outputs": [],
   "source": [
    "def debit(acc): \n",
    "    amt = float(input(\"Enter amount to Withdraw : \"))\n",
    "    if amt > data.get(acc)['bal'] : \n",
    "        print(\"Insufficient Balance Try Again\")\n",
    "        amt = data.get(acc)['bal']\n",
    "        print(f\"\\n\\nYou only have {amt} rs in your account \")\n",
    "        print(\"\\n\\n\")\n",
    "        input(\"Press any key to continue \")\n",
    "        debit(acc)\n",
    "    else : \n",
    "        new_bal = data.get(acc)['bal'] - amt\n",
    "        data.get(acc).update(bal=new_bal)\n",
    "        print(f\"{amt} is withdrawn from your account\")\n",
    "        print(f\"Your updated bal is {new_bal} rs\")\n",
    "        \n",
    "        input(\"\\nPress any key to continue \")\n",
    "        login(acc)"
   ]
  },
  {
   "cell_type": "code",
   "execution_count": null,
   "metadata": {},
   "outputs": [],
   "source": [
    "def chk_bal(acc):\n",
    "    print(\"\\n\\nHere is your information \")\n",
    "    for key,value in data.get(acc).items() : \"\n",
    "        if key == 'password' : \n",
    "            continue\n",
    "        print(f\"{key} = {value}\")\n",
    "    print(\"\\n\\n\")\n",
    "    input(\"Press any key to continue \")\n",
    "    login(acc)\n",
    "        "
   ]
  },
  {
   "cell_type": "code",
   "execution_count": null,
   "metadata": {},
   "outputs": [],
   "source": [
    "def credit(acc): \n",
    "    amt = float(input(\"Enter amount to Deposit : \"))\n",
    "    old_amt = data.get(acc)['bal']\n",
    "    new_amt = old_amt + amt \n",
    "    print(f\"your old amount {old_amt} is updated with {amt} and now you have \\\n",
    "    {new_amt} in your account.\")\n",
    "    data.get(acc).update(bal=new_amt)\n",
    "    print(\"\\n\\n\")\n",
    "    input(\"Press any key to continue : \")\n",
    "    login()"
   ]
  },
  {
   "cell_type": "code",
   "execution_count": null,
   "metadata": {},
   "outputs": [],
   "source": [
    "def choice(acc): \n",
    "    name = data.get(acc)['name']\n",
    "    print(f\"\\n\\nWelcome back user {name}\")\n",
    "    print(\"\\n1. Debit\")\n",
    "    print(\"2. Credit\")\n",
    "    print(\"3. Check Balance\")\n",
    "    print(\"4. Logout\")\n",
    "    ch = int(input(\"Enter your choice : \"))\n",
    "    if ch > 4 or ch < 1 : \n",
    "        print(\"Invalid Choice Try Again\")\n",
    "        choice(acc)\n",
    "    elif ch == 1 : \n",
    "        debit(acc)\n",
    "    elif ch == 2 : \n",
    "        credit(acc)\n",
    "    elif ch == 3 : \n",
    "        chk_bal(acc)\n",
    "    else : \n",
    "        print(\"\\n\\n...........Logging you out...........\\n\")\n",
    "        sleep(2)\n",
    "        main()"
   ]
  },
  {
   "cell_type": "code",
   "execution_count": 29,
   "metadata": {},
   "outputs": [
    {
     "ename": "SyntaxError",
     "evalue": "EOL while scanning string literal (<ipython-input-29-efbf430b212f>, line 7)",
     "output_type": "error",
     "traceback": [
      "\u001b[1;36m  File \u001b[1;32m\"<ipython-input-29-efbf430b212f>\"\u001b[1;36m, line \u001b[1;32m7\u001b[0m\n\u001b[1;33m    print(f\"\\n\\nWelcome back user {data.get(acc)['name']}\u001b[0m\n\u001b[1;37m                                                         ^\u001b[0m\n\u001b[1;31mSyntaxError\u001b[0m\u001b[1;31m:\u001b[0m EOL while scanning string literal\n"
     ]
    }
   ],
   "source": [
    "@decorator\n",
    "def login():\n",
    "    acc = int(input(\"Enter your account number : \"))\n",
    "    password = input(\"Enter your password : \")\n",
    "    if data.get(acc) : \n",
    "        if password == data.get(acc)['password'] : \n",
    "            choice(acc)\n",
    "        else : \n",
    "            print(\"\\n\\nInvalid Password Try Again\\n\\n\")\n",
    "            input(\"Press any key to continue \")\n",
    "            login()\n",
    "    else : \n",
    "        print(\"\\n\\nNo such user Exists\\tPlease Signup\\n\\n\")\n",
    "        input(\"Press  any key to continue \")\n",
    "        main()"
   ]
  },
  {
   "cell_type": "code",
   "execution_count": 24,
   "metadata": {},
   "outputs": [],
   "source": [
    "from getpass import getpass\n",
    "def password_verify():\n",
    "    password = getpass(\"Enter your Password : \")\n",
    "    password_copy = getpass(\"Confirm Password : \")\n",
    "    if password == password_copy :\n",
    "        return password\n",
    "    print(\"\\nPassword does not match Try Again \\n\")\n",
    "    return password_verify()\n",
    "\n",
    "@decorator\n",
    "def signup():\n",
    "    print(\"\\n\\t\\tWelcome to Signup Services\\n\")\n",
    "    name = input(\"Enter user name : \")\n",
    "    password = password_verify()\n",
    "    bal = float(input(\"Enter your Initial Balance : \"))\n",
    "    old_acc = max(data.keys())\n",
    "    new_acc = old_acc + 1\n",
    "    data[new_acc] = { 'name':name,'password':password,'bal':bal}\n",
    "    sleep(1)\n",
    "    print(\"\\n\\nCongratulation!!!Your account is Opend\")\n",
    "    print(f\"\\n\\nWrite Down your account num {new_acc}, and use it login into your account\")\n",
    "    print(\"\\n\\n.......Redirecting to Main Menu.......\")\n",
    "    sleep(randint(1,3))\n",
    "    main()"
   ]
  },
  {
   "cell_type": "code",
   "execution_count": 26,
   "metadata": {},
   "outputs": [
    {
     "name": "stdout",
     "output_type": "stream",
     "text": [
      "**********************************************************************\n",
      "**********************************************************************\n",
      "\n",
      "Welcome to My Bank Service\n",
      "\n",
      "1. Signup\n",
      "2. Login\n",
      "3. Exit\n",
      "Enter your choice (1,3) : 1\n",
      "**********************************************************************\n",
      "**********************************************************************\n",
      "\n",
      "\n",
      "\t\tWelcome to Signup Services\n",
      "\n",
      "Enter user name : sachin\n",
      "Enter your Password : ········\n",
      "Confirm Password : ········\n",
      "Enter your Initial Balance : 16500\n",
      "\n",
      "\n",
      "Congratulation!!!Your account is Opend\n",
      "\n",
      "\n",
      "Write Down your account num 1005, and use it login into your account\n",
      "\n",
      "\n",
      ".......Redirecting to Main Menu.......\n",
      "**********************************************************************\n",
      "**********************************************************************\n",
      "\n",
      "Welcome to My Bank Service\n",
      "\n",
      "1. Signup\n",
      "2. Login\n",
      "3. Exit\n",
      "Enter your choice (1,3) : 3\n",
      "\n",
      "\n",
      "...Thanks for using our services bye bye.......\n",
      "\n",
      "**********************************************************************\n",
      "**********************************************************************\n",
      "\n",
      "**********************************************************************\n",
      "**********************************************************************\n",
      "\n",
      "**********************************************************************\n",
      "**********************************************************************\n"
     ]
    }
   ],
   "source": [
    "from time import sleep\n",
    "from random import randint\n",
    "#Bank Application\n",
    "@decorator\n",
    "def main():\n",
    "    print(\"Welcome to My Bank Service\\n\")\n",
    "    print(\"1. Signup\")\n",
    "    print(\"2. Login\")\n",
    "    print(\"3. Exit\")\n",
    "    ch = int(input(\"Enter your choice (1,3) : \"))\n",
    "    if ch > 3 or ch < 1 : \n",
    "        print(\"\\n.........Invalid Choice Try again.....\")\n",
    "        sleep(randint(1,3))\n",
    "        main()\n",
    "    elif ch == 1 : \n",
    "        signup()\n",
    "    elif ch == 2 : \n",
    "        login()\n",
    "    else : \n",
    "        print(\"\\n\\n...Thanks for using our services bye bye.......\")\n",
    "\n",
    "main()"
   ]
  },
  {
   "cell_type": "code",
   "execution_count": 27,
   "metadata": {},
   "outputs": [
    {
     "data": {
      "text/plain": [
       "{1001: {'name': 'john', 'password': 'redhat', 'bal': 50000.0},\n",
       " 1002: {'name': 'natasha', 'password': 'toor', 'bal': 13500.0},\n",
       " 1003: {'name': 'harry', 'password': 'Asimov', 'bal': 75000.0},\n",
       " 1004: {'name': 'sachin', 'password': 'helloworld', 'bal': 165000.0},\n",
       " 1005: {'name': 'sachin', 'password': 'hello', 'bal': 16500.0}}"
      ]
     },
     "execution_count": 27,
     "metadata": {},
     "output_type": "execute_result"
    }
   ],
   "source": [
    "data"
   ]
  },
  {
   "cell_type": "code",
   "execution_count": 28,
   "metadata": {},
   "outputs": [
    {
     "data": {
      "text/plain": [
       "{'name': 'sachin', 'password': 'hello', 'bal': 16500.0}"
      ]
     },
     "execution_count": 28,
     "metadata": {},
     "output_type": "execute_result"
    }
   ],
   "source": [
    "data.pop(1005)\n"
   ]
  },
  {
   "cell_type": "code",
   "execution_count": 6,
   "metadata": {},
   "outputs": [],
   "source": [
    "d.update(name='hello',age=23)"
   ]
  },
  {
   "cell_type": "code",
   "execution_count": 7,
   "metadata": {},
   "outputs": [
    {
     "data": {
      "text/plain": [
       "{'name': 'hello', 'age': 23}"
      ]
     },
     "execution_count": 7,
     "metadata": {},
     "output_type": "execute_result"
    }
   ],
   "source": [
    "d"
   ]
  },
  {
   "cell_type": "code",
   "execution_count": 8,
   "metadata": {},
   "outputs": [],
   "source": [
    "d.update(color='blue')"
   ]
  },
  {
   "cell_type": "code",
   "execution_count": 9,
   "metadata": {},
   "outputs": [
    {
     "data": {
      "text/plain": [
       "{'name': 'hello', 'age': 23, 'color': 'blue'}"
      ]
     },
     "execution_count": 9,
     "metadata": {},
     "output_type": "execute_result"
    }
   ],
   "source": [
    "d"
   ]
  },
  {
   "cell_type": "code",
   "execution_count": 10,
   "metadata": {},
   "outputs": [],
   "source": [
    "d.update(name='sachin')"
   ]
  },
  {
   "cell_type": "code",
   "execution_count": 11,
   "metadata": {},
   "outputs": [
    {
     "data": {
      "text/plain": [
       "{'name': 'sachin', 'age': 23, 'color': 'blue'}"
      ]
     },
     "execution_count": 11,
     "metadata": {},
     "output_type": "execute_result"
    }
   ],
   "source": [
    "d"
   ]
  },
  {
   "cell_type": "code",
   "execution_count": 12,
   "metadata": {},
   "outputs": [
    {
     "ename": "SyntaxError",
     "evalue": "keyword can't be an expression (<ipython-input-12-3949c306d069>, line 1)",
     "output_type": "error",
     "traceback": [
      "\u001b[1;36m  File \u001b[1;32m\"<ipython-input-12-3949c306d069>\"\u001b[1;36m, line \u001b[1;32m1\u001b[0m\n\u001b[1;33m    d.update(1='somethind')\u001b[0m\n\u001b[1;37m            ^\u001b[0m\n\u001b[1;31mSyntaxError\u001b[0m\u001b[1;31m:\u001b[0m keyword can't be an expression\n"
     ]
    }
   ],
   "source": [
    "d.update(1='somethind')"
   ]
  },
  {
   "cell_type": "code",
   "execution_count": 13,
   "metadata": {},
   "outputs": [],
   "source": [
    "d['hi'] = 'bye'"
   ]
  },
  {
   "cell_type": "code",
   "execution_count": 30,
   "metadata": {},
   "outputs": [],
   "source": [
    "d  = { 1001: { 'bal':15000}}"
   ]
  },
  {
   "cell_type": "code",
   "execution_count": 31,
   "metadata": {},
   "outputs": [],
   "source": [
    "d.get(1001).update(bal=20000)"
   ]
  },
  {
   "cell_type": "code",
   "execution_count": 32,
   "metadata": {},
   "outputs": [
    {
     "data": {
      "text/plain": [
       "{1001: {'bal': 20000}}"
      ]
     },
     "execution_count": 32,
     "metadata": {},
     "output_type": "execute_result"
    }
   ],
   "source": [
    "d"
   ]
  },
  {
   "cell_type": "code",
   "execution_count": 33,
   "metadata": {},
   "outputs": [],
   "source": [
    "#library management\n"
   ]
  },
  {
   "cell_type": "code",
   "execution_count": 34,
   "metadata": {},
   "outputs": [
    {
     "name": "stdout",
     "output_type": "stream",
     "text": [
      "hello world\n"
     ]
    }
   ],
   "source": [
    "print(\"hello world\") if True else print(\"bye world\")"
   ]
  },
  {
   "cell_type": "code",
   "execution_count": 37,
   "metadata": {},
   "outputs": [],
   "source": [
    "l = [ [123]*4]*4"
   ]
  },
  {
   "cell_type": "code",
   "execution_count": 38,
   "metadata": {},
   "outputs": [
    {
     "data": {
      "text/plain": [
       "[[123, 123, 123, 123],\n",
       " [123, 123, 123, 123],\n",
       " [123, 123, 123, 123],\n",
       " [123, 123, 123, 123]]"
      ]
     },
     "execution_count": 38,
     "metadata": {},
     "output_type": "execute_result"
    }
   ],
   "source": [
    "l"
   ]
  },
  {
   "cell_type": "code",
   "execution_count": 39,
   "metadata": {},
   "outputs": [],
   "source": [
    "mylist = [ 1,2,3,4]"
   ]
  },
  {
   "cell_type": "code",
   "execution_count": 40,
   "metadata": {},
   "outputs": [
    {
     "data": {
      "text/plain": [
       "[1, 2, 3, 4]"
      ]
     },
     "execution_count": 40,
     "metadata": {},
     "output_type": "execute_result"
    }
   ],
   "source": [
    "mylist"
   ]
  },
  {
   "cell_type": "code",
   "execution_count": 41,
   "metadata": {},
   "outputs": [],
   "source": [
    "mylist = [ var for var in range(10) ]"
   ]
  },
  {
   "cell_type": "code",
   "execution_count": 42,
   "metadata": {},
   "outputs": [
    {
     "data": {
      "text/plain": [
       "[0, 1, 2, 3, 4, 5, 6, 7, 8, 9]"
      ]
     },
     "execution_count": 42,
     "metadata": {},
     "output_type": "execute_result"
    }
   ],
   "source": [
    "mylist"
   ]
  },
  {
   "cell_type": "code",
   "execution_count": 44,
   "metadata": {},
   "outputs": [
    {
     "name": "stdout",
     "output_type": "stream",
     "text": [
      "[(1, 10), (2, 9), (3, 8), (4, 7), (5, 6), (6, 5), (7, 4), (8, 3), (9, 2), (10, 1)]\n"
     ]
    }
   ],
   "source": [
    "l1 = [ 1,2,3,4,5,6,7,8,9,10]\n",
    "l2 = [ 10,9,8,7,6,5,4,3,2,1]\n",
    "\n",
    "l3 = [ (var1,var2) for var1,var2 in zip(l1,l2)  ]\n",
    "print(l3)"
   ]
  },
  {
   "cell_type": "code",
   "execution_count": 45,
   "metadata": {},
   "outputs": [
    {
     "data": {
      "text/plain": [
       "{1: 10, 2: 9, 3: 8, 4: 7, 5: 6, 6: 5, 7: 4, 8: 3, 9: 2, 10: 1}"
      ]
     },
     "execution_count": 45,
     "metadata": {},
     "output_type": "execute_result"
    }
   ],
   "source": [
    "d = dict(l3)\n",
    "d"
   ]
  },
  {
   "cell_type": "code",
   "execution_count": 46,
   "metadata": {},
   "outputs": [],
   "source": [
    "l = [ randint(1,10) for var in range(30)]"
   ]
  },
  {
   "cell_type": "code",
   "execution_count": 48,
   "metadata": {},
   "outputs": [
    {
     "name": "stdout",
     "output_type": "stream",
     "text": [
      "[9, 5, 10, 8, 6, 4, 4, 3, 6, 1, 7, 10, 6, 6, 10, 3, 1, 9, 1, 3, 1, 1, 4, 3, 6, 5, 6, 8, 6, 9]\n"
     ]
    }
   ],
   "source": [
    "print(l)"
   ]
  },
  {
   "cell_type": "code",
   "execution_count": 49,
   "metadata": {},
   "outputs": [],
   "source": [
    "from collections import Counter"
   ]
  },
  {
   "cell_type": "code",
   "execution_count": 50,
   "metadata": {},
   "outputs": [],
   "source": [
    "r = Counter(l)"
   ]
  },
  {
   "cell_type": "code",
   "execution_count": 51,
   "metadata": {},
   "outputs": [
    {
     "data": {
      "text/plain": [
       "Counter({9: 3, 5: 2, 10: 3, 8: 2, 6: 7, 4: 3, 3: 4, 1: 5, 7: 1})"
      ]
     },
     "execution_count": 51,
     "metadata": {},
     "output_type": "execute_result"
    }
   ],
   "source": [
    "r"
   ]
  },
  {
   "cell_type": "code",
   "execution_count": 53,
   "metadata": {},
   "outputs": [],
   "source": [
    "def update(x,l=[]):\n",
    "    l.append(x)\n",
    "    return l "
   ]
  },
  {
   "cell_type": "code",
   "execution_count": 54,
   "metadata": {},
   "outputs": [],
   "source": [
    "x = update(10)\n",
    "y = update(35,[1,2,3,4])\n",
    "z = update(17)"
   ]
  },
  {
   "cell_type": "code",
   "execution_count": 55,
   "metadata": {},
   "outputs": [
    {
     "name": "stdout",
     "output_type": "stream",
     "text": [
      "[10, 17]\n",
      "[1, 2, 3, 4, 35]\n",
      "[10, 17]\n"
     ]
    }
   ],
   "source": [
    "print(x);print(y);print(z)"
   ]
  },
  {
   "cell_type": "code",
   "execution_count": 56,
   "metadata": {},
   "outputs": [],
   "source": [
    "def generator(start,end):\n",
    "    while start <= end : \n",
    "        yield start \n",
    "        start += 1"
   ]
  },
  {
   "cell_type": "code",
   "execution_count": 62,
   "metadata": {},
   "outputs": [],
   "source": [
    "x = generator(1,10)"
   ]
  },
  {
   "cell_type": "code",
   "execution_count": 63,
   "metadata": {},
   "outputs": [
    {
     "name": "stdout",
     "output_type": "stream",
     "text": [
      "<generator object generator at 0x0000025913097D68>\n"
     ]
    }
   ],
   "source": [
    "print(x)"
   ]
  },
  {
   "cell_type": "code",
   "execution_count": 64,
   "metadata": {},
   "outputs": [
    {
     "name": "stdout",
     "output_type": "stream",
     "text": [
      "<class 'generator'>\n"
     ]
    }
   ],
   "source": [
    "print(type(x))"
   ]
  },
  {
   "cell_type": "code",
   "execution_count": 65,
   "metadata": {},
   "outputs": [
    {
     "name": "stdout",
     "output_type": "stream",
     "text": [
      "1\n",
      "2\n",
      "3\n",
      "4\n",
      "5\n",
      "6\n",
      "7\n",
      "8\n",
      "9\n",
      "10\n"
     ]
    }
   ],
   "source": [
    "for var in  x : \n",
    "    print(var)"
   ]
  },
  {
   "cell_type": "code",
   "execution_count": 67,
   "metadata": {},
   "outputs": [
    {
     "name": "stdout",
     "output_type": "stream",
     "text": [
      "1\n",
      "2\n",
      "3\n",
      "4\n",
      "5\n"
     ]
    }
   ],
   "source": [
    "for var in generator(1,5) : \n",
    "    print(var)"
   ]
  },
  {
   "cell_type": "code",
   "execution_count": 68,
   "metadata": {},
   "outputs": [
    {
     "name": "stdout",
     "output_type": "stream",
     "text": [
      "1\n",
      "2\n",
      "3\n",
      "4\n",
      "5\n"
     ]
    },
    {
     "ename": "StopIteration",
     "evalue": "",
     "output_type": "error",
     "traceback": [
      "\u001b[1;31m---------------------------------------------------------------------------\u001b[0m",
      "\u001b[1;31mStopIteration\u001b[0m                             Traceback (most recent call last)",
      "\u001b[1;32m<ipython-input-68-547e6db88714>\u001b[0m in \u001b[0;36m<module>\u001b[1;34m\u001b[0m\n\u001b[0;32m      1\u001b[0m \u001b[0mx\u001b[0m \u001b[1;33m=\u001b[0m \u001b[0mgenerator\u001b[0m\u001b[1;33m(\u001b[0m\u001b[1;36m1\u001b[0m\u001b[1;33m,\u001b[0m\u001b[1;36m5\u001b[0m\u001b[1;33m)\u001b[0m\u001b[1;33m\u001b[0m\u001b[1;33m\u001b[0m\u001b[0m\n\u001b[0;32m      2\u001b[0m \u001b[1;32mwhile\u001b[0m \u001b[1;32mTrue\u001b[0m \u001b[1;33m:\u001b[0m\u001b[1;33m\u001b[0m\u001b[1;33m\u001b[0m\u001b[0m\n\u001b[1;32m----> 3\u001b[1;33m     \u001b[0mprint\u001b[0m\u001b[1;33m(\u001b[0m\u001b[0mnext\u001b[0m\u001b[1;33m(\u001b[0m\u001b[0mx\u001b[0m\u001b[1;33m)\u001b[0m\u001b[1;33m)\u001b[0m\u001b[1;33m\u001b[0m\u001b[1;33m\u001b[0m\u001b[0m\n\u001b[0m",
      "\u001b[1;31mStopIteration\u001b[0m: "
     ]
    }
   ],
   "source": [
    "x = generator(1,5)\n",
    "while True : \n",
    "    print(next(x))"
   ]
  },
  {
   "cell_type": "code",
   "execution_count": null,
   "metadata": {},
   "outputs": [],
   "source": []
  }
 ],
 "metadata": {
  "kernelspec": {
   "display_name": "Python 3",
   "language": "python",
   "name": "python3"
  },
  "language_info": {
   "codemirror_mode": {
    "name": "ipython",
    "version": 3
   },
   "file_extension": ".py",
   "mimetype": "text/x-python",
   "name": "python",
   "nbconvert_exporter": "python",
   "pygments_lexer": "ipython3",
   "version": "3.7.1"
  }
 },
 "nbformat": 4,
 "nbformat_minor": 2
}
