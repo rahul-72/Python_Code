{
 "cells": [
  {
   "cell_type": "markdown",
   "metadata": {},
   "source": [
    "<h1 style='color:red'>What is Exception ? </h1>"
   ]
  },
  {
   "cell_type": "markdown",
   "metadata": {},
   "source": [
    "<h2 style='color:red'> What is Difference between Exception and Errors ? </h2>"
   ]
  },
  {
   "cell_type": "code",
   "execution_count": 5,
   "metadata": {},
   "outputs": [
    {
     "name": "stdout",
     "output_type": "stream",
     "text": [
      "Enter a number : hello world\n"
     ]
    },
    {
     "ename": "ValueError",
     "evalue": "invalid literal for int() with base 10: 'hello world'",
     "output_type": "error",
     "traceback": [
      "\u001b[1;31m---------------------------------------------------------------------------\u001b[0m",
      "\u001b[1;31mValueError\u001b[0m                                Traceback (most recent call last)",
      "\u001b[1;32m<ipython-input-5-b3ce277a93b8>\u001b[0m in \u001b[0;36m<module>\u001b[1;34m\u001b[0m\n\u001b[1;32m----> 1\u001b[1;33m \u001b[0mnum\u001b[0m \u001b[1;33m=\u001b[0m \u001b[0mint\u001b[0m\u001b[1;33m(\u001b[0m\u001b[0minput\u001b[0m\u001b[1;33m(\u001b[0m\u001b[1;34m\"Enter a number : \"\u001b[0m\u001b[1;33m)\u001b[0m\u001b[1;33m)\u001b[0m\u001b[1;33m\u001b[0m\u001b[1;33m\u001b[0m\u001b[0m\n\u001b[0m\u001b[0;32m      2\u001b[0m \u001b[0mprint\u001b[0m\u001b[1;33m(\u001b[0m\u001b[1;34m\"Squre of Number : \"\u001b[0m\u001b[1;33m,\u001b[0m\u001b[0mnum\u001b[0m\u001b[1;33m**\u001b[0m\u001b[1;36m2\u001b[0m\u001b[1;33m)\u001b[0m\u001b[1;33m\u001b[0m\u001b[1;33m\u001b[0m\u001b[0m\n",
      "\u001b[1;31mValueError\u001b[0m: invalid literal for int() with base 10: 'hello world'"
     ]
    }
   ],
   "source": [
    "num = int(input(\"Enter a number : \"))\n",
    "print(\"Squre of Number : \",num**2)"
   ]
  },
  {
   "cell_type": "code",
   "execution_count": 3,
   "metadata": {},
   "outputs": [
    {
     "ename": "SyntaxError",
     "evalue": "unexpected EOF while parsing (<ipython-input-3-8da0cca1dd15>, line 1)",
     "output_type": "error",
     "traceback": [
      "\u001b[1;36m  File \u001b[1;32m\"<ipython-input-3-8da0cca1dd15>\"\u001b[1;36m, line \u001b[1;32m1\u001b[0m\n\u001b[1;33m    print(\"hello \"\u001b[0m\n\u001b[1;37m                  ^\u001b[0m\n\u001b[1;31mSyntaxError\u001b[0m\u001b[1;31m:\u001b[0m unexpected EOF while parsing\n"
     ]
    }
   ],
   "source": [
    "print(\"hello \""
   ]
  },
  {
   "cell_type": "markdown",
   "metadata": {},
   "source": [
    "<h1 style='color:red'>How to Handle Errors ? </h1>"
   ]
  },
  {
   "cell_type": "code",
   "execution_count": 7,
   "metadata": {},
   "outputs": [
    {
     "name": "stdout",
     "output_type": "stream",
     "text": [
      "Enter a number : hellow\n",
      "Idiot I asked for Integer Don't you know what is integer\n",
      "I order you to put integer next time as 12 23 343423 \n",
      "Enter a number : lskdjf\n",
      "Idiot I asked for Integer Don't you know what is integer\n",
      "I order you to put integer next time as 12 23 343423 \n",
      "Enter a number : ldsfkj\n",
      "Idiot I asked for Integer Don't you know what is integer\n",
      "I order you to put integer next time as 12 23 343423 \n",
      "Enter a number : 67\n",
      "Squre of number :  4489\n"
     ]
    }
   ],
   "source": [
    "while True : \n",
    "    try : \n",
    "        num = int(input(\"Enter a number : \"))\n",
    "        print(\"Squre of number : \",num**2)\n",
    "        break\n",
    "    except : \n",
    "        print(\"Idiot I asked for Integer Don't you know what is integer\")\n",
    "        print(\"I order you to put integer next time as 12 23 343423 \")"
   ]
  },
  {
   "cell_type": "code",
   "execution_count": 10,
   "metadata": {},
   "outputs": [],
   "source": [
    "import builtins"
   ]
  },
  {
   "cell_type": "code",
   "execution_count": 11,
   "metadata": {},
   "outputs": [
    {
     "name": "stdout",
     "output_type": "stream",
     "text": [
      "['ArithmeticError', 'AssertionError', 'AttributeError', 'BaseException', 'BlockingIOError', 'BrokenPipeError', 'BufferError', 'BytesWarning', 'ChildProcessError', 'ConnectionAbortedError', 'ConnectionError', 'ConnectionRefusedError', 'ConnectionResetError', 'DeprecationWarning', 'EOFError', 'Ellipsis', 'EnvironmentError', 'Exception', 'False', 'FileExistsError', 'FileNotFoundError', 'FloatingPointError', 'FutureWarning', 'GeneratorExit', 'IOError', 'ImportError', 'ImportWarning', 'IndentationError', 'IndexError', 'InterruptedError', 'IsADirectoryError', 'KeyError', 'KeyboardInterrupt', 'LookupError', 'MemoryError', 'ModuleNotFoundError', 'NameError', 'None', 'NotADirectoryError', 'NotImplemented', 'NotImplementedError', 'OSError', 'OverflowError', 'PendingDeprecationWarning', 'PermissionError', 'ProcessLookupError', 'RecursionError', 'ReferenceError', 'ResourceWarning', 'RuntimeError', 'RuntimeWarning', 'StopAsyncIteration', 'StopIteration', 'SyntaxError', 'SyntaxWarning', 'SystemError', 'SystemExit', 'TabError', 'TimeoutError', 'True', 'TypeError', 'UnboundLocalError', 'UnicodeDecodeError', 'UnicodeEncodeError', 'UnicodeError', 'UnicodeTranslateError', 'UnicodeWarning', 'UserWarning', 'ValueError', 'Warning', 'WindowsError', 'ZeroDivisionError', '__IPYTHON__', '__build_class__', '__debug__', '__doc__', '__import__', '__loader__', '__name__', '__package__', '__spec__', 'abs', 'all', 'any', 'ascii', 'bin', 'bool', 'breakpoint', 'bytearray', 'bytes', 'callable', 'chr', 'classmethod', 'compile', 'complex', 'copyright', 'credits', 'delattr', 'dict', 'dir', 'display', 'divmod', 'enumerate', 'eval', 'exec', 'filter', 'float', 'format', 'frozenset', 'get_ipython', 'getattr', 'globals', 'hasattr', 'hash', 'help', 'hex', 'id', 'input', 'int', 'isinstance', 'issubclass', 'iter', 'len', 'license', 'list', 'locals', 'map', 'max', 'memoryview', 'min', 'next', 'object', 'oct', 'open', 'ord', 'pow', 'print', 'property', 'range', 'repr', 'reversed', 'round', 'set', 'setattr', 'slice', 'sorted', 'staticmethod', 'str', 'sum', 'super', 'tuple', 'type', 'vars', 'zip']\n"
     ]
    }
   ],
   "source": [
    "print(dir(builtins))"
   ]
  },
  {
   "cell_type": "code",
   "execution_count": 12,
   "metadata": {},
   "outputs": [
    {
     "ename": "ZeroDivisionError",
     "evalue": "division by zero",
     "output_type": "error",
     "traceback": [
      "\u001b[1;31m---------------------------------------------------------------------------\u001b[0m",
      "\u001b[1;31mZeroDivisionError\u001b[0m                         Traceback (most recent call last)",
      "\u001b[1;32m<ipython-input-12-9e1622b385b6>\u001b[0m in \u001b[0;36m<module>\u001b[1;34m\u001b[0m\n\u001b[1;32m----> 1\u001b[1;33m \u001b[1;36m1\u001b[0m\u001b[1;33m/\u001b[0m\u001b[1;36m0\u001b[0m\u001b[1;33m\u001b[0m\u001b[1;33m\u001b[0m\u001b[0m\n\u001b[0m",
      "\u001b[1;31mZeroDivisionError\u001b[0m: division by zero"
     ]
    }
   ],
   "source": [
    "1/0"
   ]
  },
  {
   "cell_type": "code",
   "execution_count": 13,
   "metadata": {},
   "outputs": [
    {
     "ename": "TypeError",
     "evalue": "unsupported operand type(s) for +: 'int' and 'str'",
     "output_type": "error",
     "traceback": [
      "\u001b[1;31m---------------------------------------------------------------------------\u001b[0m",
      "\u001b[1;31mTypeError\u001b[0m                                 Traceback (most recent call last)",
      "\u001b[1;32m<ipython-input-13-baec12f600c0>\u001b[0m in \u001b[0;36m<module>\u001b[1;34m\u001b[0m\n\u001b[1;32m----> 1\u001b[1;33m \u001b[1;36m1\u001b[0m \u001b[1;33m+\u001b[0m \u001b[1;34m'one'\u001b[0m\u001b[1;33m\u001b[0m\u001b[1;33m\u001b[0m\u001b[0m\n\u001b[0m",
      "\u001b[1;31mTypeError\u001b[0m: unsupported operand type(s) for +: 'int' and 'str'"
     ]
    }
   ],
   "source": [
    "1 + 'one'"
   ]
  },
  {
   "cell_type": "code",
   "execution_count": 14,
   "metadata": {},
   "outputs": [
    {
     "name": "stdout",
     "output_type": "stream",
     "text": [
      "slkjflksadjfklds\n"
     ]
    },
    {
     "ename": "ValueError",
     "evalue": "invalid literal for int() with base 10: 'slkjflksadjfklds'",
     "output_type": "error",
     "traceback": [
      "\u001b[1;31m---------------------------------------------------------------------------\u001b[0m",
      "\u001b[1;31mValueError\u001b[0m                                Traceback (most recent call last)",
      "\u001b[1;32m<ipython-input-14-b18148c418c0>\u001b[0m in \u001b[0;36m<module>\u001b[1;34m\u001b[0m\n\u001b[1;32m----> 1\u001b[1;33m \u001b[0mx\u001b[0m \u001b[1;33m=\u001b[0m \u001b[0mint\u001b[0m\u001b[1;33m(\u001b[0m\u001b[0minput\u001b[0m\u001b[1;33m(\u001b[0m\u001b[1;33m)\u001b[0m\u001b[1;33m)\u001b[0m\u001b[1;33m\u001b[0m\u001b[1;33m\u001b[0m\u001b[0m\n\u001b[0m",
      "\u001b[1;31mValueError\u001b[0m: invalid literal for int() with base 10: 'slkjflksadjfklds'"
     ]
    }
   ],
   "source": [
    "x = int(input())"
   ]
  },
  {
   "cell_type": "code",
   "execution_count": 17,
   "metadata": {},
   "outputs": [
    {
     "name": "stdout",
     "output_type": "stream",
     "text": [
      "Enter integer x : 1\n",
      "Enter integer y : 0\n"
     ]
    },
    {
     "ename": "ZeroDivisionError",
     "evalue": "division by zero",
     "output_type": "error",
     "traceback": [
      "\u001b[1;31m---------------------------------------------------------------------------\u001b[0m",
      "\u001b[1;31mZeroDivisionError\u001b[0m                         Traceback (most recent call last)",
      "\u001b[1;32m<ipython-input-17-3f89f77c5e51>\u001b[0m in \u001b[0;36m<module>\u001b[1;34m\u001b[0m\n\u001b[0;32m      3\u001b[0m     \u001b[0my\u001b[0m \u001b[1;33m=\u001b[0m \u001b[0mint\u001b[0m\u001b[1;33m(\u001b[0m\u001b[0minput\u001b[0m\u001b[1;33m(\u001b[0m\u001b[1;34m\"Enter integer y : \"\u001b[0m\u001b[1;33m)\u001b[0m\u001b[1;33m)\u001b[0m\u001b[1;33m\u001b[0m\u001b[1;33m\u001b[0m\u001b[0m\n\u001b[0;32m      4\u001b[0m \u001b[1;33m\u001b[0m\u001b[0m\n\u001b[1;32m----> 5\u001b[1;33m     \u001b[0mr\u001b[0m \u001b[1;33m=\u001b[0m \u001b[0mx\u001b[0m \u001b[1;33m/\u001b[0m \u001b[0my\u001b[0m\u001b[1;33m\u001b[0m\u001b[1;33m\u001b[0m\u001b[0m\n\u001b[0m\u001b[0;32m      6\u001b[0m     \u001b[0mprint\u001b[0m\u001b[1;33m(\u001b[0m\u001b[1;34m\"result is \"\u001b[0m \u001b[1;33m,\u001b[0m \u001b[0mr\u001b[0m\u001b[1;33m)\u001b[0m\u001b[1;33m\u001b[0m\u001b[1;33m\u001b[0m\u001b[0m\n\u001b[0;32m      7\u001b[0m \u001b[1;32mexcept\u001b[0m \u001b[0mValueError\u001b[0m \u001b[1;32mas\u001b[0m \u001b[0mmsg\u001b[0m \u001b[1;33m:\u001b[0m\u001b[1;33m\u001b[0m\u001b[1;33m\u001b[0m\u001b[0m\n",
      "\u001b[1;31mZeroDivisionError\u001b[0m: division by zero"
     ]
    }
   ],
   "source": [
    "try : \n",
    "    x = int(input(\"Enter integer x : \"))\n",
    "    y = int(input(\"Enter integer y : \"))\n",
    "    \n",
    "    r = x / y \n",
    "    print(\"result is \" , r)\n",
    "except ValueError as msg : \n",
    "    print(f\"!!Error!!{msg}\")\n",
    "    print(\"You should use integer values next time \")"
   ]
  },
  {
   "cell_type": "code",
   "execution_count": 19,
   "metadata": {},
   "outputs": [
    {
     "name": "stdout",
     "output_type": "stream",
     "text": [
      "Enter integer x : 1\n",
      "Enter integer y : 0\n",
      "Are you from Out of This Planet  ?\n",
      "Who divides a number with 0, man you need serious attentaion\n"
     ]
    }
   ],
   "source": [
    "try : \n",
    "    x = int(input(\"Enter integer x : \"))\n",
    "    y = int(input(\"Enter integer y : \"))\n",
    "    r = x / y \n",
    "    print(\"result is \" , r)\n",
    "except ValueError as msg : \n",
    "    print(f\"!!Error!!{msg}\")\n",
    "    print(\"You should use integer values next time \")\n",
    "except ZeroDivisionError as err : \n",
    "    print(\"Are you from Out of This Planet  ?\")\n",
    "    print(\"Who divides a number with 0, man you need serious attentaion\")\n"
   ]
  },
  {
   "cell_type": "code",
   "execution_count": 20,
   "metadata": {},
   "outputs": [
    {
     "name": "stdout",
     "output_type": "stream",
     "text": [
      "Enter integer x : LASDJFK\n",
      "!!Error!!invalid literal for int() with base 10: 'LASDJFK'\n"
     ]
    }
   ],
   "source": [
    "try : \n",
    "    x = int(input(\"Enter integer x : \"))\n",
    "    y = int(input(\"Enter integer y : \"))\n",
    "    r = x / y \n",
    "    print(\"result is \" , r)\n",
    "except Exception as msg : \n",
    "    print(f\"!!Error!!{msg}\")"
   ]
  },
  {
   "cell_type": "code",
   "execution_count": 21,
   "metadata": {},
   "outputs": [
    {
     "name": "stdout",
     "output_type": "stream",
     "text": [
      "Enter integer x : 1\n",
      "Enter integer y : 0\n",
      "!!Error!!division by zero\n"
     ]
    }
   ],
   "source": [
    "try : \n",
    "    x = int(input(\"Enter integer x : \"))\n",
    "    y = int(input(\"Enter integer y : \"))\n",
    "    r = x / y \n",
    "    print(\"result is \" , r)\n",
    "except Exception as msg : \n",
    "    print(f\"!!Error!!{msg}\")"
   ]
  },
  {
   "cell_type": "code",
   "execution_count": 22,
   "metadata": {},
   "outputs": [
    {
     "name": "stdout",
     "output_type": "stream",
     "text": [
      "Enter integer x : lkfjds\n",
      "!!Error!!invalid literal for int() with base 10: 'lkfjds'\n",
      "You should use integer values next time \n",
      "Enter integer x : 1\n",
      "Enter integer y : 0\n",
      "Are you from Out of This Planet  ?\n",
      "Who divides a number with 0, man you need serious attentaion\n",
      "Enter integer x : 5\n",
      "Enter integer y : 6\n",
      "result is  0.8333333333333334\n"
     ]
    }
   ],
   "source": [
    "while True : \n",
    "    try : \n",
    "        x = int(input(\"Enter integer x : \"))\n",
    "        y = int(input(\"Enter integer y : \"))\n",
    "        r = x / y \n",
    "        print(\"result is \" , r)\n",
    "        break\n",
    "    except ValueError as msg : \n",
    "        print(f\"!!Error!!{msg}\")\n",
    "        print(\"You should use integer values next time \")\n",
    "    except ZeroDivisionError as err : \n",
    "        print(\"Are you from Out of This Planet  ?\")\n",
    "        print(\"Who divides a number with 0, man you need serious attentaion\")\n",
    "    except Exception as msg : \n",
    "        print(f\"!!Error!!{msg}\")\n"
   ]
  },
  {
   "cell_type": "code",
   "execution_count": 23,
   "metadata": {},
   "outputs": [
    {
     "name": "stdout",
     "output_type": "stream",
     "text": [
      "Integer : sdflkjd\n",
      "Invalid Input it should be integer\n",
      "I will run no matter exception will come or not\n"
     ]
    }
   ],
   "source": [
    "try : \n",
    "    x = int(input(\"Integer : \"))\n",
    "    print(x)\n",
    "except ValueError as e : \n",
    "    print(\"Invalid Input it should be integer\")\n",
    "finally : \n",
    "    print(\"I will run no matter exception will come or not\")"
   ]
  },
  {
   "cell_type": "code",
   "execution_count": 24,
   "metadata": {},
   "outputs": [
    {
     "name": "stdout",
     "output_type": "stream",
     "text": [
      "Integer : 49857\n",
      "49857\n",
      "I will run no matter exception will come or not\n"
     ]
    }
   ],
   "source": [
    "try : \n",
    "    x = int(input(\"Integer : \"))\n",
    "    print(x)\n",
    "except ValueError as e : \n",
    "    print(\"Invalid Input it should be integer\")\n",
    "finally : \n",
    "    print(\"I will run no matter exception will come or not\")"
   ]
  },
  {
   "cell_type": "code",
   "execution_count": null,
   "metadata": {},
   "outputs": [
    {
     "name": "stdout",
     "output_type": "stream",
     "text": [
      "Integer : dlfj\n",
      "Invalid Input it should be integer\n",
      "I will run no matter exception will come or not\n",
      "Integer : kdfj\n",
      "Invalid Input it should be integer\n",
      "I will run no matter exception will come or not\n",
      "Integer : 43\n",
      "43\n",
      "I will run no matter exception will come or not\n"
     ]
    }
   ],
   "source": [
    "while True  : \n",
    "    try : \n",
    "        x = int(input(\"Integer : \"))\n",
    "        print(x)\n",
    "        break\n",
    "    except ValueError as e : \n",
    "        print(\"Invalid Input it should be integer\")\n",
    "    finally : \n",
    "        print(\"I will run no matter exception will come or not\")"
   ]
  },
  {
   "cell_type": "code",
   "execution_count": 1,
   "metadata": {},
   "outputs": [
    {
     "name": "stdout",
     "output_type": "stream",
     "text": [
      "Integer : lsjfd\n",
      "Invalid Input it should be integer\n",
      "I will run no matter exception will come or not\n"
     ]
    }
   ],
   "source": [
    "try : \n",
    "    x = int(input(\"Integer : \"))\n",
    "    print(x)\n",
    "except ValueError as e : \n",
    "    print(\"Invalid Input it should be integer\")\n",
    "else : \n",
    "    print(\"I will run on Sucess\")\n",
    "finally : \n",
    "    print(\"I will run no matter exception will come or not\")"
   ]
  },
  {
   "cell_type": "code",
   "execution_count": 4,
   "metadata": {},
   "outputs": [
    {
     "name": "stdout",
     "output_type": "stream",
     "text": [
      "Integer : 123\n",
      "123\n",
      " i will not go to else\n",
      "I will run no matter exception will come or not\n"
     ]
    }
   ],
   "source": [
    "try : \n",
    "    x = int(input(\"Integer : \"))\n",
    "    print(x)\n",
    "    1/0\n",
    "except ValueError as e : \n",
    "    print(\"Invalid Input it should be integer\")\n",
    "except ZeroDivisionError as e : \n",
    "    print(\" i will not go to else\")\n",
    "else : \n",
    "    print(\"I will run on Sucess\")\n",
    "finally : \n",
    "    print(\"I will run no matter exception will come or not\")"
   ]
  },
  {
   "cell_type": "code",
   "execution_count": 6,
   "metadata": {},
   "outputs": [
    {
     "name": "stdout",
     "output_type": "stream",
     "text": [
      "Enter a number : 23\n"
     ]
    }
   ],
   "source": [
    "#i need a positive number\n",
    "\n",
    "try: \n",
    "    num = int(input(\"Enter a number : \"))\n",
    "    if num < 0 : \n",
    "        raise ValueError(\"Number should be Positive\") #custom exception\n",
    "except ValueError as e : \n",
    "    print(\"!!Error!!I asked for Integer Number \")\n",
    "    print(\"Error!! \",e)"
   ]
  },
  {
   "cell_type": "code",
   "execution_count": 7,
   "metadata": {},
   "outputs": [
    {
     "name": "stdout",
     "output_type": "stream",
     "text": [
      "Enter a number : -34\n",
      "!!Error!!I asked for Integer Number \n",
      "Error!!  Number should be Positive\n"
     ]
    }
   ],
   "source": [
    "#i need a positive number\n",
    "\n",
    "try: \n",
    "    num = int(input(\"Enter a number : \"))\n",
    "    if num < 0 : \n",
    "        raise ValueError(\"Number should be Positive\") #custom exception\n",
    "except ValueError as e : \n",
    "    print(\"!!Error!!I asked for Integer Number \")\n",
    "    print(\"Error!! \",e)"
   ]
  },
  {
   "cell_type": "code",
   "execution_count": 8,
   "metadata": {},
   "outputs": [
    {
     "name": "stdout",
     "output_type": "stream",
     "text": [
      "Enter a number : sfsdk\n",
      "!!Error!!I asked for Integer Number \n",
      "Error!!  invalid literal for int() with base 10: 'sfsdk'\n"
     ]
    }
   ],
   "source": [
    "#i need a positive number\n",
    "\n",
    "try: \n",
    "    num = int(input(\"Enter a number : \"))\n",
    "    if num < 0 : \n",
    "        raise ValueError(\"Number should be Positive\") #custom exception\n",
    "except ValueError as e : \n",
    "    print(\"!!Error!!I asked for Integer Number \")\n",
    "    print(\"Error!! \",e)"
   ]
  },
  {
   "cell_type": "code",
   "execution_count": 9,
   "metadata": {},
   "outputs": [
    {
     "name": "stdout",
     "output_type": "stream",
     "text": [
      "Enter a number : -12\n",
      "Bhai Positive number chiye\n"
     ]
    }
   ],
   "source": [
    "#i need a positive number\n",
    "\n",
    "try: \n",
    "    num = int(input(\"Enter a number : \"))\n",
    "    if num < 0 : \n",
    "        raise ZeroDivisionError(\"Number should be Positive\") #custom exception\n",
    "except ValueError as e : \n",
    "    print(\"!!Error!!I asked for Integer Number \")\n",
    "    print(\"Error!! \",e)\n",
    "except ZeroDivisionError as  e : \n",
    "    print(\"Bhai Positive number chiye\")"
   ]
  },
  {
   "cell_type": "code",
   "execution_count": 12,
   "metadata": {},
   "outputs": [
    {
     "name": "stdout",
     "output_type": "stream",
     "text": [
      "Enter a number : -12\n",
      "Error!! Number should be Positive\n"
     ]
    }
   ],
   "source": [
    "#i need a positive number\n",
    "\n",
    "try: \n",
    "    num = int(input(\"Enter a number : \"))\n",
    "    assert num > 0 ,\"Number should be Positive\" #custom exception\n",
    "except ValueError as e : \n",
    "    print(\"!!Error!!I asked for Integer Number \")\n",
    "except AssertionError as e : \n",
    "    print(\"Error!!\",e)"
   ]
  },
  {
   "cell_type": "code",
   "execution_count": 14,
   "metadata": {},
   "outputs": [
    {
     "name": "stdout",
     "output_type": "stream",
     "text": [
      "Enter a number : 12\n",
      "Good Person\n",
      "Bye Bye Closing The Program\n"
     ]
    }
   ],
   "source": [
    "#i need a positive number\n",
    "\n",
    "try: \n",
    "    num = int(input(\"Enter a number : \"))\n",
    "    assert num > 0 ,\"Number should be Positive\" #custom exception\n",
    "except ValueError as e : \n",
    "    print(\"!!Error!!I asked for Integer Number \")\n",
    "except AssertionError as e : \n",
    "    print(\"Error!!\",e)\n",
    "else : \n",
    "    print(\"Good Person\")\n",
    "finally : \n",
    "    print(\"Bye Bye Closing The Program\")"
   ]
  },
  {
   "cell_type": "code",
   "execution_count": 18,
   "metadata": {},
   "outputs": [],
   "source": [
    "class MyError(Exception): \n",
    "    def __init__(self,msg):\n",
    "        super().__init__(msg)\n",
    "        print(\"Do any work you want do if errors occurs\")\n",
    "        "
   ]
  },
  {
   "cell_type": "code",
   "execution_count": 19,
   "metadata": {},
   "outputs": [
    {
     "name": "stdout",
     "output_type": "stream",
     "text": [
      "enter a number : -12\n",
      "Do any work you want do if errors occurs\n",
      "Error!!! Number should be Positive\n"
     ]
    }
   ],
   "source": [
    "try : \n",
    "    x = int(input(\"enter a number : \"))\n",
    "    if x < 0 : \n",
    "        raise MyError(\"Number should be Positive\")\n",
    "except MyError as e : \n",
    "    print(\"Error!!!\",e)"
   ]
  },
  {
   "cell_type": "code",
   "execution_count": null,
   "metadata": {},
   "outputs": [],
   "source": []
  }
 ],
 "metadata": {
  "kernelspec": {
   "display_name": "Python 3",
   "language": "python",
   "name": "python3"
  },
  "language_info": {
   "codemirror_mode": {
    "name": "ipython",
    "version": 3
   },
   "file_extension": ".py",
   "mimetype": "text/x-python",
   "name": "python",
   "nbconvert_exporter": "python",
   "pygments_lexer": "ipython3",
   "version": "3.7.1"
  }
 },
 "nbformat": 4,
 "nbformat_minor": 2
}
