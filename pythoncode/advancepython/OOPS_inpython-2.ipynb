{
 "cells": [
  {
   "cell_type": "code",
   "execution_count": 1,
   "metadata": {},
   "outputs": [],
   "source": [
    "class Person : \n",
    "    \"\"\"Hello I am Person Class\"\"\"\n",
    "    def __init__(self,name,color,country):\n",
    "        self.name = name\n",
    "        self.color = color\n",
    "        self.country = country\n",
    "    def learn(self,item):\n",
    "        self.item = item\n",
    "    def die(self):\n",
    "        pass\n",
    "    def run(self):\n",
    "        pass\n",
    "    def think(self):\n",
    "        pass\n",
    "\n",
    "p1 = Person(\"X\",\"Dark\",\"India\")\n",
    "p2 = Person(\"Y\",\"Brown\",\"Pakishtan\")\n",
    "p3 = Person(\"Z\",\"Fare\",\"US\")"
   ]
  },
  {
   "cell_type": "code",
   "execution_count": 2,
   "metadata": {},
   "outputs": [
    {
     "name": "stdout",
     "output_type": "stream",
     "text": [
      "X\n",
      "Y\n",
      "Z\n"
     ]
    }
   ],
   "source": [
    "print(p1.name)\n",
    "print(p2.name)\n",
    "print(p3.name)"
   ]
  },
  {
   "cell_type": "code",
   "execution_count": 3,
   "metadata": {},
   "outputs": [
    {
     "name": "stdout",
     "output_type": "stream",
     "text": [
      "1911107667392\n",
      "1911107667672\n",
      "1911107667616\n"
     ]
    }
   ],
   "source": [
    "print(id(p1))\n",
    "print(id(p2))\n",
    "print(id(p3))"
   ]
  },
  {
   "cell_type": "code",
   "execution_count": 4,
   "metadata": {},
   "outputs": [
    {
     "name": "stdout",
     "output_type": "stream",
     "text": [
      "{'name': 'X', 'color': 'Dark', 'country': 'India'}\n",
      "{'name': 'Y', 'color': 'Brown', 'country': 'Pakishtan'}\n",
      "{'name': 'Z', 'color': 'Fare', 'country': 'US'}\n"
     ]
    }
   ],
   "source": [
    "print(p1.__dict__)\n",
    "print(p2.__dict__)\n",
    "print(p3.__dict__)"
   ]
  },
  {
   "cell_type": "code",
   "execution_count": 5,
   "metadata": {},
   "outputs": [],
   "source": [
    "del p1.country"
   ]
  },
  {
   "cell_type": "code",
   "execution_count": 6,
   "metadata": {},
   "outputs": [
    {
     "name": "stdout",
     "output_type": "stream",
     "text": [
      "{'name': 'X', 'color': 'Dark'}\n",
      "{'name': 'Y', 'color': 'Brown', 'country': 'Pakishtan'}\n",
      "{'name': 'Z', 'color': 'Fare', 'country': 'US'}\n"
     ]
    }
   ],
   "source": [
    "print(p1.__dict__)\n",
    "print(p2.__dict__)\n",
    "print(p3.__dict__)"
   ]
  },
  {
   "cell_type": "code",
   "execution_count": 12,
   "metadata": {},
   "outputs": [],
   "source": [
    "#stack --> LIFO --> Last in First Out\n",
    "class stack : \n",
    "    \"stack implementation in python\"\n",
    "    total_stack = 0 # class variable\n",
    "    def __init__(self):\n",
    "        self.data = [] #object attribute\n",
    "        stack.total_stack  += 1 #class attribute\n",
    "    def push(self,item):\n",
    "        self.data.append(item)\n",
    "        print(f\"{item} Successfully added to stack.\")\n",
    "    def pop(self):\n",
    "        if len(self.data) : \n",
    "            item = self.data.pop() \n",
    "            print(f\"{item} is successfully deleted from stack\")\n",
    "        else : \n",
    "            print(\"UnderFlow Error!! Your stack is empty can not delete item\")\n",
    "    def __str__(self):\n",
    "        return str(self.data)"
   ]
  },
  {
   "cell_type": "code",
   "execution_count": 13,
   "metadata": {},
   "outputs": [],
   "source": [
    "s1 = stack()\n",
    "s2 = stack()"
   ]
  },
  {
   "cell_type": "code",
   "execution_count": 14,
   "metadata": {},
   "outputs": [
    {
     "name": "stdout",
     "output_type": "stream",
     "text": [
      "[]\n"
     ]
    }
   ],
   "source": [
    "print(s1) # s1.__str__"
   ]
  },
  {
   "cell_type": "code",
   "execution_count": 15,
   "metadata": {},
   "outputs": [
    {
     "data": {
      "text/plain": [
       "<__main__.stack at 0x1bcf6e4ca20>"
      ]
     },
     "execution_count": 15,
     "metadata": {},
     "output_type": "execute_result"
    }
   ],
   "source": [
    "s1 # s1.__repr__"
   ]
  },
  {
   "cell_type": "code",
   "execution_count": 16,
   "metadata": {},
   "outputs": [
    {
     "name": "stdout",
     "output_type": "stream",
     "text": [
      "UnderFlow Error!! Your stack is empty can not delete item\n"
     ]
    }
   ],
   "source": [
    "s1.pop()"
   ]
  },
  {
   "cell_type": "code",
   "execution_count": 17,
   "metadata": {},
   "outputs": [
    {
     "name": "stdout",
     "output_type": "stream",
     "text": [
      "0 Successfully added to stack.\n",
      "1 Successfully added to stack.\n",
      "2 Successfully added to stack.\n",
      "3 Successfully added to stack.\n",
      "4 Successfully added to stack.\n",
      "[0, 1, 2, 3, 4]\n"
     ]
    }
   ],
   "source": [
    "for var in range(5) : \n",
    "    s1.push(var)\n",
    "print(s1)"
   ]
  },
  {
   "cell_type": "code",
   "execution_count": 18,
   "metadata": {},
   "outputs": [
    {
     "name": "stdout",
     "output_type": "stream",
     "text": [
      "4 is successfully deleted from stack\n"
     ]
    }
   ],
   "source": [
    "s1.pop()"
   ]
  },
  {
   "cell_type": "code",
   "execution_count": 19,
   "metadata": {},
   "outputs": [
    {
     "name": "stdout",
     "output_type": "stream",
     "text": [
      "[0, 1, 2, 3]\n"
     ]
    }
   ],
   "source": [
    "print(s1)"
   ]
  },
  {
   "cell_type": "code",
   "execution_count": 20,
   "metadata": {},
   "outputs": [
    {
     "data": {
      "text/plain": [
       "2"
      ]
     },
     "execution_count": 20,
     "metadata": {},
     "output_type": "execute_result"
    }
   ],
   "source": [
    "s2.total_stack"
   ]
  },
  {
   "cell_type": "code",
   "execution_count": 25,
   "metadata": {},
   "outputs": [],
   "source": [
    "many_stacks = [ stack() for var in range(10) ] "
   ]
  },
  {
   "cell_type": "code",
   "execution_count": 26,
   "metadata": {},
   "outputs": [
    {
     "data": {
      "text/plain": [
       "[<__main__.stack at 0x1bcf71ff160>,\n",
       " <__main__.stack at 0x1bcf71ff128>,\n",
       " <__main__.stack at 0x1bcf71ff278>,\n",
       " <__main__.stack at 0x1bcf71ff390>,\n",
       " <__main__.stack at 0x1bcf71ff3c8>,\n",
       " <__main__.stack at 0x1bcf71ff400>,\n",
       " <__main__.stack at 0x1bcf71ff438>,\n",
       " <__main__.stack at 0x1bcf71ff470>,\n",
       " <__main__.stack at 0x1bcf71ff4a8>,\n",
       " <__main__.stack at 0x1bcf71ff4e0>]"
      ]
     },
     "execution_count": 26,
     "metadata": {},
     "output_type": "execute_result"
    }
   ],
   "source": [
    "many_stacks"
   ]
  },
  {
   "cell_type": "code",
   "execution_count": 27,
   "metadata": {},
   "outputs": [
    {
     "name": "stdout",
     "output_type": "stream",
     "text": [
      "[], [], [], [], [], [], [], [], [], [], "
     ]
    }
   ],
   "source": [
    "for var in many_stacks : \n",
    "    print(var,end=', ')"
   ]
  },
  {
   "cell_type": "code",
   "execution_count": 28,
   "metadata": {},
   "outputs": [
    {
     "data": {
      "text/plain": [
       "112"
      ]
     },
     "execution_count": 28,
     "metadata": {},
     "output_type": "execute_result"
    }
   ],
   "source": [
    "s1.total_stack"
   ]
  },
  {
   "cell_type": "code",
   "execution_count": 54,
   "metadata": {},
   "outputs": [],
   "source": [
    "#QUEUE --> FIFO --> first in first out\n",
    "class queue : \n",
    "    \"queue implementation in python\"\n",
    "    total_queue = 0 # class variable\n",
    "    def __init__(self):\n",
    "        self.data = [] #object attribute\n",
    "        queue.total_queue  += 1 #class attribute\n",
    "    def push(self,item):\n",
    "        self.data.append(item)\n",
    "        print(f\"{item} Successfully added to queue.\")\n",
    "    def pop(self):\n",
    "        if len(self.data) : \n",
    "            item = self.data.pop(0) \n",
    "            print(f\"{item} is successfully deleted from queue\")\n",
    "        else : \n",
    "            print(\"UnderFlow Error!! Your queue is empty can not delete item\")\n",
    "    def __str__(self):\n",
    "        return str(self.data)\n",
    "    def __del__(self):\n",
    "        print(f\"Deleting queue {self.data} ....\")\n",
    "        queue.total_queue -= 1\n",
    "        del self"
   ]
  },
  {
   "cell_type": "code",
   "execution_count": 55,
   "metadata": {},
   "outputs": [],
   "source": [
    "q1 = queue()\n",
    "q2 = queue()"
   ]
  },
  {
   "cell_type": "code",
   "execution_count": 56,
   "metadata": {},
   "outputs": [
    {
     "name": "stdout",
     "output_type": "stream",
     "text": [
      "[]\n"
     ]
    }
   ],
   "source": [
    "print(q1)"
   ]
  },
  {
   "cell_type": "code",
   "execution_count": 57,
   "metadata": {},
   "outputs": [
    {
     "name": "stdout",
     "output_type": "stream",
     "text": [
      "10 Successfully added to queue.\n",
      "20 Successfully added to queue.\n"
     ]
    }
   ],
   "source": [
    "q1.push(10);q1.push(20)"
   ]
  },
  {
   "cell_type": "code",
   "execution_count": 58,
   "metadata": {},
   "outputs": [
    {
     "name": "stdout",
     "output_type": "stream",
     "text": [
      "[10, 20]\n"
     ]
    }
   ],
   "source": [
    "print(q1)"
   ]
  },
  {
   "cell_type": "code",
   "execution_count": 59,
   "metadata": {},
   "outputs": [
    {
     "name": "stdout",
     "output_type": "stream",
     "text": [
      "10 is successfully deleted from queue\n",
      "20 is successfully deleted from queue\n",
      "UnderFlow Error!! Your queue is empty can not delete item\n"
     ]
    }
   ],
   "source": [
    "q1.pop()\n",
    "q1.pop()\n",
    "q1.pop()"
   ]
  },
  {
   "cell_type": "code",
   "execution_count": 60,
   "metadata": {},
   "outputs": [
    {
     "name": "stdout",
     "output_type": "stream",
     "text": [
      "Deleting queue [] ....\n"
     ]
    }
   ],
   "source": [
    "del q1 # q1.__del__ destructor"
   ]
  },
  {
   "cell_type": "code",
   "execution_count": 61,
   "metadata": {},
   "outputs": [
    {
     "data": {
      "text/plain": [
       "1"
      ]
     },
     "execution_count": 61,
     "metadata": {},
     "output_type": "execute_result"
    }
   ],
   "source": [
    "q2.total_queue"
   ]
  },
  {
   "cell_type": "code",
   "execution_count": 70,
   "metadata": {},
   "outputs": [],
   "source": [
    "class Robot :\n",
    "    type = \"Robot\"\n",
    "    total_robots = 0\n",
    "    def __init__(self,name,type=None):\n",
    "        Robot.total_robots += 1\n",
    "        self.name = name\n",
    "        if type : \n",
    "            self.type = type\n",
    "        else : \n",
    "            self.type = Robot.type\n",
    "    def __str__(self): \n",
    "        return self.name\n",
    "    def __del__(self): #destructor\n",
    "        print(f\"deleting Robot {self.name} ....\")\n",
    "        Robot.total_robots -= 1\n",
    "        del self"
   ]
  },
  {
   "cell_type": "code",
   "execution_count": 73,
   "metadata": {},
   "outputs": [
    {
     "name": "stdout",
     "output_type": "stream",
     "text": [
      "sachin\n",
      "rajat\n",
      "deleting Robot sachin ....\n",
      "yahoo\n"
     ]
    }
   ],
   "source": [
    "r1 = Robot('sachin')\n",
    "r2 = Robot('rajat','Mechanical')\n",
    "print(r1)\n",
    "print(r2)\n",
    "r1 = Robot('yahoo','search robot') #garbage collection\n",
    "print(r1)"
   ]
  },
  {
   "cell_type": "code",
   "execution_count": 69,
   "metadata": {},
   "outputs": [
    {
     "name": "stdout",
     "output_type": "stream",
     "text": [
      "deleting Robot rajat ....\n"
     ]
    }
   ],
   "source": [
    "r2 = 5"
   ]
  },
  {
   "cell_type": "code",
   "execution_count": 72,
   "metadata": {},
   "outputs": [
    {
     "name": "stdout",
     "output_type": "stream",
     "text": [
      "deleting Robot yahoo ....\n",
      "deleting Robot rajat ....\n"
     ]
    }
   ],
   "source": [
    "del r1\n",
    "del r2"
   ]
  },
  {
   "cell_type": "code",
   "execution_count": null,
   "metadata": {},
   "outputs": [],
   "source": []
  }
 ],
 "metadata": {
  "kernelspec": {
   "display_name": "Python 3",
   "language": "python",
   "name": "python3"
  },
  "language_info": {
   "codemirror_mode": {
    "name": "ipython",
    "version": 3
   },
   "file_extension": ".py",
   "mimetype": "text/x-python",
   "name": "python",
   "nbconvert_exporter": "python",
   "pygments_lexer": "ipython3",
   "version": "3.7.1"
  }
 },
 "nbformat": 4,
 "nbformat_minor": 2
}
